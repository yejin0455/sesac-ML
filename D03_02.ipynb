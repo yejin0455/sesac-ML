{
  "nbformat": 4,
  "nbformat_minor": 0,
  "metadata": {
    "colab": {
      "name": "D03-02.ipynb",
      "provenance": [],
      "collapsed_sections": [],
      "authorship_tag": "ABX9TyNEfiAA1xq8AVaGGJAmkV4s",
      "include_colab_link": true
    },
    "kernelspec": {
      "name": "python3",
      "display_name": "Python 3"
    },
    "language_info": {
      "name": "python"
    }
  },
  "cells": [
    {
      "cell_type": "markdown",
      "metadata": {
        "id": "view-in-github",
        "colab_type": "text"
      },
      "source": [
        "<a href=\"https://colab.research.google.com/github/yejin0455/sesac-ML/blob/main/D03_02.ipynb\" target=\"_parent\"><img src=\"https://colab.research.google.com/assets/colab-badge.svg\" alt=\"Open In Colab\"/></a>"
      ]
    },
    {
      "cell_type": "code",
      "execution_count": 1,
      "metadata": {
        "colab": {
          "base_uri": "https://localhost:8080/"
        },
        "id": "aLT2JQVDeX7j",
        "outputId": "b89cae18-01c8-44f3-8325-7c42bb261963"
      },
      "outputs": [
        {
          "output_type": "stream",
          "name": "stdout",
          "text": [
            "Mounted at /content/drive\n"
          ]
        }
      ],
      "source": [
        "%run my_init.py"
      ]
    },
    {
      "cell_type": "code",
      "source": [
        "%matplotlib inline"
      ],
      "metadata": {
        "id": "eFOFqG6neooW"
      },
      "execution_count": 2,
      "outputs": []
    },
    {
      "cell_type": "markdown",
      "source": [
        "# 데이터 준비하기"
      ],
      "metadata": {
        "id": "zbkKHzcfexkm"
      }
    },
    {
      "cell_type": "code",
      "source": [
        "#도미 데이터\n",
        "bream_length = [25.4, 26.3, 26.5, 29.0, 29.0, 29.7, 29.7, 30.0, 30.0, 30.7, 31.0, 31.0, \n",
        "                31.5, 32.0, 32.0, 32.0, 33.0, 33.0, 33.5, 33.5, 34.0, 34.0, 34.5, 35.0, \n",
        "                35.0, 35.0, 35.0, 36.0, 36.0, 37.0, 38.5, 38.5, 39.5, 41.0, 41.0]\n",
        "bream_weight = [242.0, 290.0, 340.0, 363.0, 430.0, 450.0, 500.0, 390.0, 450.0, 500.0, 475.0, 500.0, \n",
        "                500.0, 340.0, 600.0, 600.0, 700.0, 700.0, 610.0, 650.0, 575.0, 685.0, 620.0, 680.0, \n",
        "                700.0, 725.0, 720.0, 714.0, 850.0, 1000.0, 920.0, 955.0, 925.0, 975.0, 950.0]"
      ],
      "metadata": {
        "id": "2vFKXwf2ev5e"
      },
      "execution_count": 3,
      "outputs": []
    },
    {
      "cell_type": "code",
      "source": [
        "#빙어 데이터\n",
        "smelt_length = [9.8, 10.5, 10.6, 11.0, 11.2, 11.3, 11.8, 11.8, 12.0, 12.2, 12.4, 13.0, 14.3, 15.0]\n",
        "smelt_weight = [6.7, 7.5, 7.0, 9.7, 9.8, 8.7, 10.0, 9.9, 9.8, 12.2, 13.4, 12.2, 19.7, 19.9]"
      ],
      "metadata": {
        "id": "Z_jHrHHFe4sa"
      },
      "execution_count": 4,
      "outputs": []
    },
    {
      "cell_type": "code",
      "source": [
        "length = bream_length + smelt_length\n",
        "weight = bream_weight + smelt_weight"
      ],
      "metadata": {
        "id": "MEcUoO44e6_5"
      },
      "execution_count": 5,
      "outputs": []
    },
    {
      "cell_type": "code",
      "source": [
        "fish_data = [(l, w) for l, w in zip(length, weight)]  #데이터 생성, 2차원 데이터 X 샘플"
      ],
      "metadata": {
        "id": "Bl9XsBTxe8e8"
      },
      "execution_count": 6,
      "outputs": []
    },
    {
      "cell_type": "code",
      "source": [
        "fish_target = [1]*35 + [0]*14  #타겟 생성, 1차원 데이터 y 특성"
      ],
      "metadata": {
        "id": "101QSzmoe-31"
      },
      "execution_count": 7,
      "outputs": []
    },
    {
      "cell_type": "code",
      "source": [
        "train_input = fish_data[:35]  #[start:end:step=1]\n",
        "train_target = fish_target[:35]\n",
        "test_input = fish_data[35:]\n",
        "test_target = fish_target[35:]"
      ],
      "metadata": {
        "id": "YAu1tnIVfTUW"
      },
      "execution_count": 11,
      "outputs": []
    },
    {
      "cell_type": "markdown",
      "source": [
        "# 훈련하기"
      ],
      "metadata": {
        "id": "hNhHWVxlezWd"
      }
    },
    {
      "cell_type": "code",
      "source": [
        "from sklearn.neighbors import KNeighborsClassifier\n",
        "from sklearn.metrics import accuracy_score\n",
        "\n",
        "kn = KNeighborsClassifier()\n",
        "kn.fit(train_input, train_target)"
      ],
      "metadata": {
        "colab": {
          "base_uri": "https://localhost:8080/"
        },
        "id": "SFZq2Jt2f7-Z",
        "outputId": "bfd9664d-2f1d-492c-a61e-a579e9fe68c0"
      },
      "execution_count": 13,
      "outputs": [
        {
          "output_type": "execute_result",
          "data": {
            "text/plain": [
              "0.0"
            ]
          },
          "metadata": {},
          "execution_count": 13
        }
      ]
    },
    {
      "cell_type": "markdown",
      "source": [
        "# 평가하기"
      ],
      "metadata": {
        "id": "vFPR53FlfCpS"
      }
    },
    {
      "cell_type": "code",
      "source": [
        "#kn.score(test_input, test_target)\n",
        "accuracy_score(test_target, kn.predict(test_input))"
      ],
      "metadata": {
        "id": "Q_rJig3-fEJ0"
      },
      "execution_count": null,
      "outputs": []
    },
    {
      "cell_type": "markdown",
      "source": [
        "## numpy 연습"
      ],
      "metadata": {
        "id": "_TbXPa0fi9fz"
      }
    },
    {
      "cell_type": "code",
      "source": [
        "np.random.seed(42)\n",
        "X = np.random.randint(1, 100, 15).reshape(-1, 5)  #-1은 알아서 계산 됨\n",
        "X"
      ],
      "metadata": {
        "colab": {
          "base_uri": "https://localhost:8080/"
        },
        "id": "_6KzsWFdi_am",
        "outputId": "a51eb827-0be2-4257-de11-a02b0df74a61"
      },
      "execution_count": 16,
      "outputs": [
        {
          "output_type": "execute_result",
          "data": {
            "text/plain": [
              "array([[52, 93, 15, 72, 61],\n",
              "       [21, 83, 87, 75, 75],\n",
              "       [88, 24,  3, 22, 53]])"
            ]
          },
          "metadata": {},
          "execution_count": 16
        }
      ]
    },
    {
      "cell_type": "code",
      "source": [
        "X.shape"
      ],
      "metadata": {
        "colab": {
          "base_uri": "https://localhost:8080/"
        },
        "id": "tDd2Pk1SjrYs",
        "outputId": "39ca6b04-9b59-456b-be39-7e58afa304b8"
      },
      "execution_count": 17,
      "outputs": [
        {
          "output_type": "execute_result",
          "data": {
            "text/plain": [
              "(3, 5)"
            ]
          },
          "metadata": {},
          "execution_count": 17
        }
      ]
    },
    {
      "cell_type": "code",
      "source": [
        "X.sum(axis=1)  #(axis=0:행 1:열)\n",
        "#axis를 사용해서 열에 대한 합, 행에 대한 합을 구함"
      ],
      "metadata": {
        "colab": {
          "base_uri": "https://localhost:8080/"
        },
        "id": "QuGG87Mjj15w",
        "outputId": "6359920c-4256-41e3-aaac-e666a8b07299"
      },
      "execution_count": 19,
      "outputs": [
        {
          "output_type": "execute_result",
          "data": {
            "text/plain": [
              "array([293, 341, 190])"
            ]
          },
          "metadata": {},
          "execution_count": 19
        }
      ]
    },
    {
      "cell_type": "markdown",
      "source": [
        "# 샘플링 편향 해결하기\n",
        "\n",
        "random() 사용 - 확률"
      ],
      "metadata": {
        "id": "wq74F0ysm0Yl"
      }
    },
    {
      "cell_type": "code",
      "source": [
        "np.random.seed(42)\n",
        "index = np.arange(49)\n",
        "index"
      ],
      "metadata": {
        "colab": {
          "base_uri": "https://localhost:8080/"
        },
        "id": "VfHwuXt2m4I8",
        "outputId": "dff55448-c63d-4be8-ec58-91e8099e26b7"
      },
      "execution_count": 20,
      "outputs": [
        {
          "output_type": "execute_result",
          "data": {
            "text/plain": [
              "array([ 0,  1,  2,  3,  4,  5,  6,  7,  8,  9, 10, 11, 12, 13, 14, 15, 16,\n",
              "       17, 18, 19, 20, 21, 22, 23, 24, 25, 26, 27, 28, 29, 30, 31, 32, 33,\n",
              "       34, 35, 36, 37, 38, 39, 40, 41, 42, 43, 44, 45, 46, 47, 48])"
            ]
          },
          "metadata": {},
          "execution_count": 20
        }
      ]
    },
    {
      "cell_type": "code",
      "source": [
        "np.random.shuffle(index)\n",
        "index"
      ],
      "metadata": {
        "colab": {
          "base_uri": "https://localhost:8080/"
        },
        "id": "a0hiHs16nOR4",
        "outputId": "95fa6626-c572-4092-d002-735e7e2c70bb"
      },
      "execution_count": 21,
      "outputs": [
        {
          "output_type": "execute_result",
          "data": {
            "text/plain": [
              "array([13, 45, 47, 44, 17, 27, 26, 25, 31, 19, 12,  4, 34,  8,  3,  6, 40,\n",
              "       41, 46, 15,  9, 16, 24, 33, 30,  0, 43, 32,  5, 29, 11, 36,  1, 21,\n",
              "        2, 37, 35, 23, 39, 10, 22, 18, 48, 20,  7, 42, 14, 28, 38])"
            ]
          },
          "metadata": {},
          "execution_count": 21
        }
      ]
    },
    {
      "cell_type": "code",
      "source": [
        "input_arr = np.array(fish_data)\n",
        "target_arr = np.array(fish_target)"
      ],
      "metadata": {
        "id": "DYRuwAxinUhq"
      },
      "execution_count": 23,
      "outputs": []
    },
    {
      "cell_type": "code",
      "source": [
        "train_input = input_arr[index[:35]]\n",
        "train_target = target_arr[index[:35]]\n",
        "test_input = input_arr[index[35:]]\n",
        "test_target = target_arr[index[35:]]"
      ],
      "metadata": {
        "id": "YgejsKFGnjCb"
      },
      "execution_count": 24,
      "outputs": []
    },
    {
      "cell_type": "code",
      "source": [
        "train_input.shape, train_target.shape"
      ],
      "metadata": {
        "colab": {
          "base_uri": "https://localhost:8080/"
        },
        "id": "OfCaPCZ7oXkd",
        "outputId": "1519b211-e461-47c7-a3e8-2e5308d1c797"
      },
      "execution_count": 25,
      "outputs": [
        {
          "output_type": "execute_result",
          "data": {
            "text/plain": [
              "((35, 2), (35,))"
            ]
          },
          "metadata": {},
          "execution_count": 25
        }
      ]
    },
    {
      "cell_type": "code",
      "source": [
        "test_input.shape, test_target.shape"
      ],
      "metadata": {
        "colab": {
          "base_uri": "https://localhost:8080/"
        },
        "id": "Rd4NSMhPodwh",
        "outputId": "a35c242a-4e8b-42b8-9dcb-bb5fdd0fb8ea"
      },
      "execution_count": 26,
      "outputs": [
        {
          "output_type": "execute_result",
          "data": {
            "text/plain": [
              "((14, 2), (14,))"
            ]
          },
          "metadata": {},
          "execution_count": 26
        }
      ]
    },
    {
      "cell_type": "code",
      "source": [
        "%matplotlib inline\n",
        "plt.scatter(train_input[:, 0], train_input[:, 1])\n",
        "plt.scatter(test_input[:, 0], test_input[:, 1])\n",
        "plt.xlabel('length')\n",
        "plt.ylabel('weight')\n",
        "plt.legend(['train', 'test'])\n",
        "plt.show()"
      ],
      "metadata": {
        "colab": {
          "base_uri": "https://localhost:8080/",
          "height": 279
        },
        "id": "mgCaO-8JswAe",
        "outputId": "109d5286-3fc3-426f-dfd1-5a4d03a069e5"
      },
      "execution_count": 31,
      "outputs": [
        {
          "output_type": "display_data",
          "data": {
            "text/plain": [
              "<Figure size 432x288 with 1 Axes>"
            ],
            "image/png": "[encoded data removed]"
          },
          "metadata": {
            "needs_background": "light"
          }
        }
      ]
    },
    {
      "cell_type": "code",
      "source": [
        "kn.fit(train_input, train_target)\n",
        "kn.score(test_input, test_target)"
      ],
      "metadata": {
        "colab": {
          "base_uri": "https://localhost:8080/"
        },
        "id": "c9bnUiS8tN81",
        "outputId": "7f947e97-99dd-4b47-c702-387d1249c022"
      },
      "execution_count": 32,
      "outputs": [
        {
          "output_type": "execute_result",
          "data": {
            "text/plain": [
              "1.0"
            ]
          },
          "metadata": {},
          "execution_count": 32
        }
      ]
    },
    {
      "cell_type": "code",
      "source": [
        "accuracy_score(test_target, kn.predict(test_input))"
      ],
      "metadata": {
        "colab": {
          "base_uri": "https://localhost:8080/"
        },
        "id": "F7W4dkexuz5r",
        "outputId": "bb1cae2f-80e2-420c-e881-0db0c74655a4"
      },
      "execution_count": 33,
      "outputs": [
        {
          "output_type": "execute_result",
          "data": {
            "text/plain": [
              "1.0"
            ]
          },
          "metadata": {},
          "execution_count": 33
        }
      ]
    },
    {
      "cell_type": "markdown",
      "source": [
        "# Interquartile range\n",
        "\n",
        "![image.png](data:image/png;base64,iVBORw0KGgoAAAANSUhEUgAABAAAAARcCAYAAAAEUeMPAAAgAElEQVR4nOzdeZhcVZ34//ft7iQQIBDWsBoIoBD2xQVUFiOKC4Yk1UEZFBh3xZnfCIIrQeUBlK/jxggOCigq6Y5hE9migIM4KJuyK5sDYd8JIVv3/f1xbtlF7KWquqpO3b7v1/NUUrfrLp+qu537ueeeA5IkSZIkSZIkSZIkSZIkSZIkSZIkSZIkSZIkSZIkSZIkSZIkSZIkSZIkSZIkSZIkSZIkSZIkSZIkSZIkSZIkSZIkSZIkSZIkSZIkSZIkSZIkSZIkSZIkSZIkSZIkSZIkSZIkSZIkSZIkSZKksSmJHYAkSRpaN8xM4UKAFD6yAM4ebvwSTEnhgwm8A9ge2AhYBjwB3JDAxT1wcZhddcsdxMvAk8AtwAXTYeE86K/tm0mSpFbriB2AJElqiKQEXwTuS+A04EBgC2ACsC4hGXBkCheW4Oa5sMcolrUWsDUwG+i9E64phWVIkqQ2ZgJAkqSc2x+6umE+8HXCxfkS4DvAwR2wcwe8HjgK+G02ye798LvuUEugGidm89m5A3ZOw3SfB57NPn8rcG7DvpAkSWqKrtgBSJKk0dkYTk6hlA3e2geHLIRHVhvtT8C53fChNDxGsFYKPbNg94XwwHDzT+HR+XBHxZ/uAK6aBed3hvfrAjNnw/Rfwp2N+l6SJKmxrAEgSVKOzYbdUzguG3wUmDHIxf8/9MB5CRyTDU7qhLPqXXa2nO+Xh5Pw2IEkSWpTJgAkScqxTvgcWaO+KXy2d6Ba/pB64EzgxmxwxijbA7i9/KYjtDkgSZLalAkASZJyqgTjU3hfNvjE07Cg2mlT+K/y+/6Bxwdqllb0KJTCynrnI0mSms8EgCRJOZXCXsCa2fvrroVV1U6bwG8qBt9SbwwdsEtFPA/VOx9JktR8JgAkScqpDtimYvD2IUccRC8sBp7LBrcZbtyhzIItUvhUNrisDy6pZz6SJKk17AVAkqScSmGD8vuOgYv5WjwHTKZiPoNJYLO5sFN5uB82BfYkND44KRvnaxfCk3XEIEmSWsQEgCRJxdWf/d85wngn9cNJQ3z2WAIn98AZDYxLkiQ1gY8ASJLyagNC1fVxsQOJ6B8t/veHO/m1Wj/7/4VRxHDvKvjVKKbPq4Sw/W0SOxBJkqplAkCSlFefB+4Hto0dSCwJPFB+3wHTa5m2BFMYSADcO9y4KXykF5LecNE7oQO2TeELwCvA/p1wfTa/IhlH2P7OjB2IJEnVMgEgSVJOpfAnwkU4KexXGrkqf+W0b6t4//tqp+uFFfPh/gVwSgKHhsnZAjiv+sglSVIMJgAkScqpXljBQMv7myYws9ppE/hE+X0n9NSz/B64MoEfZoMHlUJCQJIktSkTAJIk5VgHfINwF54UvjUT1htpmm44Gtg3G/zt/FCToC4r4SvAkmzwlFpqIUiSpNYyASBJUo7Nh1uA07PBrcbBVcM9jz8HDksHnltf2lFRE6AeF8KTKfxnNvjaFI4azfwkSVLz2A2gJEk59xR8YSPYGpgD7A3cW4KzgCuAxcCaKUxP4AjgHdlkyxKYNR/+OtrlT4DTV8AngQ0SOPFIOP9cWDba+UqSpMayBoAkSTl3Lazqhe4kVMdfCkwCjgN+A9wD3JrA+Qxc/N/WAW/sgSsbsfyfwYspnJINbrEUPt2I+UqSpMYyASBJ0tiQ9sDXgGkJnABcQ7j7v2K18e5fBvvOhz83cuFrwxnAIwApnFCCdRs5f0mSJElScZ1OaPxuh9iB5EE3nFGCNHtdVoLxsWPKufGE7e/C2IFIklQtawBIklQAPaFafrnLvncBv9jftoAkSSoUEwCSJBVD2gsfB36UDc/aCM6bZ1lAkiRJktTmfARAMfkIgCQpd8z6S5IkSZJUACYAJEmSJEkqABMAkiRJkiQVgAkASZIkSZIKwASAJEmSJEkFYP+/kqS8mw5MjB2ECmdc7AAkSaqVCQBJUt71xg5AkiQpD0wASJLy7lvAk7GDUOF0AifHDkKSJEmSiuB0IAV2iB2ICmk8Yfu7MHYgkiRVy0YAJUmSJEkqABMAkiRJkiQVgAkASZIkSZIKwASAJEmSJEkFYAJAkiRJkqQCMAEgSZIkSVIBmACQJEmSJKkATABIkiRJklQAJgAkSZIkSSoAEwCSJEmSJBWACQBJkiRJkgrABIAkSZIkSQVgAkCSJEmSpAIwASBJkiRJUgF0xg5AkqQ6TQFWAZcAL0WORcWTADsANwI3RI5FkiRJkiRJkiRJkiRJkiRJkiRJkiRJkiRJkiRJkiRJkiRJkiRJkiRJkiRJkiRJkiRJkiRJkiRJkiRJkiRJkiRJkiRJkiRJkiRJkiRJkiRJkiRJkiRJkiRJkiRJkiRJkiRJkiRJkiRJkiRJkiRJkiRJkiRJkiRJkiRJkiRJkiRJkiRJkiRJkiRJkiRJkiRJkiRJkiRJkiRJkiRJkiRJkiRJkiRJKookdgCSJAGUYEoKH0zgHcD2wEbAMuAJ4IYELu6Bi4F0pHkdBlNXwd4dsFcKewF7AOsRJv7yAvh6876J8qhR299MWG88HJzCGwjb3mbZvMYDzwJ3JHDpMjjnEnipmd9JkqTVmQCQJMWWlOALwOeBtUYY99YO+PB8uGW4kUqwCugc7DMTAFpNQ7e/bpiZwoVVLPdRYE4v/KGGWCVJGpWu2AFIkoprf+jaGH6eQin70xLgR8AVHfAIsGY/TAeOAA4Edu+H33XD7B64sopFPEe4WHs0m4f0D03c/h4Frk3Dtre4I9QiWLMfpibwL8CbCDUDrjgMdroAHm7Wd5QkqZI1ACRJ0XTDaSl8Lhu8tQ8OWRguvAYb90MpnE1IXr/YB7svhAcGG3cOlBK4tRfuAyjBbsCtYA0ADWjG9leC8b2wYrjlzoGvJvBlgBROWwAnjPKrSJJUlY7YAUiSimk27J7Ccdngo8CMoS6+AHrgvASOyQYndcJZQ427AHrLF//SYJq1/Y108Q+QwCmEx1RIYPfaIpckqX4mACRJUXSGO68JQAqf7Q0NpA2rB84EbswGZ8wNjftJNYu5/fWGxgVXZMt+vp55SJJUDxMAkqSWK8H4FN6XDT7xNCyodtoU/qv8vn/g2W2parG3v254DzARoAMW1TMPSZLqYSOAkqSWS2GvBNbM3l93bVYduhoJ/KZi8C0ND05jXozt7xBYZxxs1QmHpfD/ZX9etGNodFCSpJYwASBJarkO2KaiM/Xba5m2FxaXQuv+k4FtGhuZiqBV218pNO53SuXfsuX+LYWzn4ZvzYP+WpYvSdJo+AiAJKnlUtig/L4jXEzVqjzNBsOOJQ2iTba/8VO9ESNJajETAJKkPCrfNe2MGoWKqqrtrwvO7oCdO2DnBA5M4F+B64DtEvjay/C798OGTY9WkqSMmWdJUgz/aHG9P1SlrtX62f8vNCYcFUxLtr9fwNOEV9k1wI9LcCRwDrD3KvgOcHgdMUiSVDNrAEiSWi6BB8rvO2B6LdOWYAoDF2D3NjIuFUPs7a8XzgWuygbnHg6T6pmPJEm1MgEgSWq5FP4EvJK9369UQ1X+FN5W8f73TQhPY1w7bH8JXJ+97VwB29U7H0mSamECQJLUcr2wArgkG9w0gZnVTpvAJ8rvO6Gn0bFp7GuH7S+FCRWDK+qdjyRJtTABIEmKogO+QdYrWgrfmgnrjTRNNxwN7JsN/nZ+uJMr1awNtr93ZP+vAB4cxXwkSaqaCQBJUhTz4Rbg9Gxwq3FwVfZ89aDmwGEpnJkNLu2ouBMr1apZ218J3jlv+PJVUoKTgL2y4ct6YUmt8UuSVI8kdgCSpOLaH7o2gl8Ac7I/vQicBVwBLAbWTGF6AkcwcMd0WQIze+DKoeY7C7YZBxuXh/vDM9Y/AUjgrCQ0wla2IrsYVME0Y/srweOEu/oXAzcn8AihvYF1gZ1TeD+wazb6M33w+oUVjRJKktRMJgAkSbEl3fClFE4AJo4w7m0dcOR8+PNwI5XgbEKf69V4oneYO78a8xq6/WUJgE2qWO4dwAd64fYaYpUkaVSqbvVWkqRmuRN+Nx1+nIQ+0zuB8cAavPo8df8y2HthuKM6rOlwCLBHlYt/+a6BquAqoEZufzvDhSncAywH+gmPA4wnVPN/MIErUzjpafiPX4dkgSRJLWMNAElSW+uGM1L4ZDb4a+DQXltNV4u4/UmSxhJrAEiS2tqdcPl02BTYk/As//SNYeFD4e6q1FRuf5KkscQEgCSp7d0Fl02HLQjV+ndYC7bthouuzbpxk5rJ7U+SJEmSJEmSJEmSJEmSJEmSJEmSJEmSJEmSJEmSJEmSJEmSJEmSJEmSJEmSCieJHYAkSfWYBx8E3hM7DhVbAn86Eb4ZOw5JkqrRFTsASZLqtAtQih2Eii2FcbFjkCSpWiYAJEm51gk7fhnujh1HXsyDNwJ/GOLjn8yDD7UynryaB+OB5bHjkCSpFh2xA5AkSZIkSc1nAkCSJEmSpAIwASBJkiRJUgGYAJAkSZIkqQBMAEiSJEmSVAAmACRJkiRJKgATAJIkSZIkFYAJAEmSJEmSCsAEgCRJkiRJBWACQJIkSZKkAjABIEmSJElSAZgAkCRJkiSpAEwASJIkSZJUACYAJEmSJEkqgK7YARRNCaak8MEE3gFsD2wELAOeAG5I4OIeuBhIR5rXYTB1FezdAXulsBewB7AeYeIvL4CvN++btE4rvmcJ1gZeqnL07/TCv492mTF0w8wULgRI4SML4Ozhxm/U9lq53EG8DDwJ3AJcMB0WzoP+2r6ZJEntr1Hn1Zmw3ng4OIU3EMpGm2XzGg88C9yRwKXL4JxLqi/ftCXLgY1jOVBgAqCVkhJ8Afh8Amut9tkEYF1g+xSOLMGtHfDh+WFHGFIf3JdA54iZgpwryvdsMw3fXoexFrB19pp9J/yuBIf0wgv1hy9JUltp6Hl1POyfws+H+HgK4cJtxgQ4vgRzeuEPjfkarWc5MArLgWOYCYAW2B+6Noafp1DK/rQE+BFwRQc8AqzZD9OBI4ADgd374XfdMLsHrqxiEc8RdrpHs3mMVS35ngl8O4H5Q32+Eh5r1rLbQQu21xM7YGF5oA82S0I2/zhgfeCtwLnAoQ38WpIkRdHE8+qjwLVpKBst7gh3Zdfsh6kJ/AvwJkLNgCsOg50ugIeb9R1bxHJgC1gOHPtMALTAxnByxU50ax8csjDsQJX+BJzbDR9KQ3WctVLomQW7L4QHBptvCu9P4NZeuA+gBLsxBhMArf6e/fD3BfC/zZp/u2vW9lqWwqPz4Y6KP90BXDULzu8M79cFZs6G6b+EOxv1vSRJiqEZ59UUft0Lmw+z2P+aA19N4MvApFXwKeCEhnyhCt0wL4V3prBwAXyj0fMHy4GtZjlw7LMRwCabDbunIaMFIWM5Y5Cd6B964LwEjskGJ3XCWUONuwB6ywfDsWwsfs/ZsHsJLjkE1qlm/BKsX4LLSrBjs+Nq1vY6kmw53y8PJyGrLElSbjXrvNoLK0ZadgKnAKuy97vXFnnVtgXe0AHbNGn+lgOxHKjGMgHQZJ3wOSABSOGzvaFhlmH1wJnAjdngjLmhWozGiMNhUkeoIvXeCXBVKWQ6h/R+2BD4LfAu4Or3wsRmxdYG2+vt5TcdsMUo5iNJUnQxz6u9obG2Fdmyn69nHmo8y4HDshzYAiYAmqgE41N4Xzb4xNOwoNppU/iv8vv+gWo4apFDYYMS7FaCHWdmLc02ys/gxQT+A+gD3ggs+gBMHiKOjVfBNcCuhCz+v10KSxsZT1k7bK9pdtLJ3q+sdz6SJMUW+7zaDe8hu1jsgEX1zKOoLAdaDhzLTAA0UdZVyZrZ++uuzaphVSOB31QMvqXRsWloCczrgqeBW4E7x8GzJbijBP9xJKzRiGX0wPlJeH6tD9hrJfzmUNigcpxZsGkXXAfsBKxMoNRbw8G4Vu2wvXbALhXxPFTvfCRJii3GefUQWGc2TO+Gr6Xwi+zPi3YMjbipCpYDLQeOdSYAmmi156FuH3LEQfTCYkJrp9DE56o0qNWrYiWE1k7/38vwxxJs1YiF9MAvUng/4QC7exf8thT6V2UWbNEZDvqvA1akMKsHLmrEcocSe3udBVukoZEigGV9cEk985EkqR206rxaghNKkJYgnQAvdsAdKXwJeDSF45+Cg+1XvSaWAy0Hjmn2AtBEaUUmr2Ngp6jFc4QqQRuMNKJGZw1Il8H/pHBBAjd2wSPrwLPPwcaERkhOIDS8sjNw+cGwx+WwfLTLXQC9c6AvgQsIWc9rSnA0IWu/DbA8hUMXwOWjXdZIWrW9JrDZ3JDNBqAfNgX2JDQ6Mykb52sXwpN1xCBJUltok3Lg+KmhvF/13dwishxoObBITAC0t3K2tjNWAIfCxl3w19HOZw3Y/KfwciNiaoYstrcO8tFi4KdHQu/LIRP5dmDHteATwLcbsewFsHAOlBLoIWSYyw2pvJLCzAVwVSOW0wLVbq8n9cNJQ3z2WAIn98AZDYxLkqQ8quq82gVn98OvANJwB3nrFD4I7JfA116GQ94P7/pFqNZek4/CuBfCxdlQAW6YLXfjueF59kHtAH9s51oIlgMbwnJgTpgAaK5/tJzZP0TjHiNYP/v/hcaEU7uu8JjIsK2TVmNZRaMeeXQuLDsMjuwLzyONS2AuDTrwAyyAi0vw71Q0ogJ8rMUH/XbYXu9dlRViJEnKuZacV7ML+8qL+2uAH5fgSOAcYO9V8B3g8FoDeC7czf1DFaMe2g+HDvXhnaG7uyW1Lr9dWA6siuXAnLANgCZK4IHy+46Q0ataCaYwsCPd28i4arEkVOcpNeD1Sqtjb7QLQn+oN2WDOzdy3rNhO+ALq/153ix4TSOXM5xWba8pfKQXkt6QFJrQAdum4bu/AuzfCddn85MkKbdilwN74VwGLiDnHp5Vr1Z9LAcOzXJgvlgDoIlS+BNhY14zhf1K0NkbWvusZtq3JQPvf9+0IEeQPd/UtBZHc6icYV9rHnQ0ojrbbHhdR+jfdVPguQS+nMKpwDadcN0sOHBhxUG5WWJsr72hf+L7gVO64ZY0POO2BXAe8I7avoEkSe2jHcqBCVyfwkFA54pwkXlzLdP3wuMMU4uzG85P4fAEzuqBj9cbZ45YDhx8WsuBOWINgCbKNupyC5abJjCz2mmT8GwRAJ3hmSC1h3LLr8816KA/vQOuJRz0nwEO7IEzEngn8CLwmk64LssMN1Xs7bUHrkzgh9ngQaVhqhJKktTuYp9XAVKYUDG4ot756B8sBw7CcmC+mABosg74BpAS/vnWTFhvpGm6Q+uf+2aDv50fMnKKbC7sykD/pH8c7fxmwy4d4Tm9TQgtnR7QC7cB9MDv+0PG/gVgi45w8H/daJc5ktjb60r4CgPPCJ5SitgApiRJoxX7vMrAXdQVwIOjmE/hWQ4cnOXA/DEB0GTz4Rbg9Gxwq3Fw1XDPtcyBw1I4Mxtc2lGRUVN9SjC+BHOy135DjLMfw1RxmwWv6Yf5FeOcM5qYZsPuWXWvjQjV6w7oXa3P1V+GVmDfRmiUZdMOuHZ2jc9k1Sr29nohPJnCf2aDr03hqNHMT5KkmJp1Xi3BO+cNX45PSqGl9b2y4ct6c9wI32hYDqye5cBisA2AFngKvrARbA3MAfYG7i3BWcAVhO5F1kxhegJHMJCpXZbArPnDdME3C7YZF/onBaC/onpQB2yxWncsK7KdOndG+z27YNIq6M0GrwP2H2QxPyvBygQu7Q8NvCxOQt+rGydwAPAhQgu2AJf2jqI63iGwTgdcSWhZ91HgwN4hGkzphZvnwoH9sAjYpAOuei9sdyksrXf5I2nW9lqtCXD6CvgksEECJx4J558Ly0Y7X0mSYmjSefXcO2FFCS4Gbk7gEcLz2+sCO6fwfsIda4Bn+uDYJn29prMcaDnQcmBjmQBogWthFdDdDV9K4QRCK6zHZS/gn1KOt3XAkfPhz8PNtxO+0A//OthnKXwshY9V/OkJctqiZgu/59QUjqlcF4Okgs8lHJTSOpfBJfBSCY4BTgEO6oX7hht/Pvx5LhzQD79O4ZhmHvShedtrtX4GL86BU5KQgd5iKXyagWy0JEm50sTz6paEc+RwhZI7gA+0ohG5ZrEcaDkQy4EN5SMArZP2wNeAaUnYma4hZNFWb5Dl/mWwb6N2IlXt8BTmEbrLuQ94nnAAfB64Ffh+B+zZC0f1NqBLw16YvwR2GOmgXzYf7lgC2y0Imf5WiLq9rg1nEO5mkMIJpXBHQ5KkvGroebUjPHP9SWAhcCehdfpVhIbj7kngZynMfgp2X71quQZlOfDVLAeOYUM+66LW6oYz0nAgB/g1cGivrbWqTbm9qh3MC3cEPtsJO34Z7o4dT17MC9Vl/zDExz+ZF6q6agTzYDyhq9yL5tlatUbJ86ryxO0136wB0CZ6QvWWctcX7wJ+sb+PaKhNub1KktQ4nleVJ26v+WYCoH2kvfBx4EfZ8KyN4LwRWniVYnF7lSSpcTyvKk/cXnPMTE17SXvhw4QXMNBkqdSG3F4lSWocz6vKE7fXnDJLI0mSJElSAZgAkCRJkiSpAEwASJIkSZJUACYAJEmSJEkqABMAkiRJkiQVgAkASZIkSZIKwASAJEmSJEkFYAJAkiRJkqQCMAEgSZIkSVIBmACQJEmSJKkATABIkiRJklQAJgAkSZIkSSoAEwCSJEmSJBVAV+wApFjmwcQJMGE5vDAP+mPHI0mSpNY5BSYvh5XzYEnsWKRWsQaAiuzU5fBsJ2wdOxBJkiS11nJ4FpgfOw6plUwASJIkSZJUACYAJEmSJEkqABMAkiRJkiQVgAkASZIkSZIKwASAJEmSJEkFYAJAkiRJkqQCMAEgSZIkSVIBmACQJEmSJKkATABIkiRJklQAJgAkSZIkSSoAEwCSJEmSJBWACQBJkiRJkgrABIAkSZIkSQVgAkCSJEmSpAIwASBJkiRJUgGYAJAkSZIkqQC6YgcgxdYH982LHYQkKa9mzoM0dhCSJFXDBIAElwNLYgchqTYp7JrA9rHjULElsDiFG2LHIakupdgBSK1mAkCF1wnHfBnujx2HpNrMg9OBz8aOQ8WWwp/mQXfsOCTVzto7KiLbAJAkSZIkqQBMAEiSJEmSVAAmACRJkiRJKgATAJIkSZIkFYAJAEmSJEmSCsAEgCRJkiRJBWACQJIkSZKkAjABIEmSJElSAZgAkCRJkiSpAEwASJIkSZJUACYAJEmSJEkqABMAkiRJkiQVgAkASZIkSZIKwASAJEmSJEkFYAJAkiRJkqQCMAGgwkrgXmBRH7wSOxZJkiS13CLgtthBSK3UFTsAKZYT4QzCS5IkSQUzD94eOwap1awBIEmSJElSAZgAkCRJkiSpAEwASJIkSZJUACYAJEm59CDsCnAdbB87FkmSpDwwAaAi2xf4KDApdiCSarc1/BlgP/hr7FhUPA9lZagXYePYsUiq20eBg2MHIbWSCQAV2VzgLGCj2IFIkvLloawnpedh69ixSKrbWcCnYwchtZLdAKrIzgH+B3gidiCSpHyZCqsA1oe/xY5FUt26gcdiByG1kgkAFdmt2UtSDv0FDtkFuAj2A+6OHY+KZSr0A6wNz8aORVLdemMHILWajwBIknJpg+yifzN4IHYskiRJeWACQEW2JbAnMCF2IJJqt3lW9fr18HDsWFQ8z0ACsBzWih2LpLrtCWwbOwiplUwAqMiOA24CtogdiCQpX26HcQBPwE6xY5FUt5uA78QOQmol2wBQkV0CLAaeiR2IpNo9CLtuDVwH22MbAGqxjaAPYJI1UKQ8OwEfI1PBmABQkS3KXpJy6JWsC88lMDl2LCqe6VkCYD14NHYskup2WuwApFbzEQBJUi7tmCXw3g03xo5FkiQpD0wAqMgmEu4cuh9IkurSZ21KKc8mA2vHDkJqJS98VGSnEvpv3jp2IJJq90pI4vEkrBE7FhXPtTAeYHFoRVxSPj0LzI8dhNRKZq1VZDcQugB8MXYgkmr3N5ixC3ADvAG4NXY8KpZ1oB9gIjwZOxZJdfshcEfsIKRWMgGgIrsge0nKoc1C903bTYO7bo4djApnT1gFsCE8GDsWSXX7WOwApFbzEQBJUi5tmLW+vjM8FTsWSZKkPDABIEmSJElSAZgAUJGdho0ASrn1V9gH4GrYJXYsKp5yI4AP2wiglGc2AqjCMQGgIvs/4GZgeexAJNWuH8aB3bApjnIjgOPg5dixSKrbzcB9sYOQWskEgIrsDODtZM8RS8qX18F1AO+EW2LHouIpNwI4Be6JHYukur0d+GLsIKRWMgEgSZIkSVIBmACQJOXSc7ARwL0wOXYskiRJeWACQEV2HKEf8S1iByKpdg/DmwDuthFARXBD1gbFo7BT7Fgk1e0m4Duxg5BayQSAimwi4c6h+4GUQ1PhdwC72QaAIkpthFLKs8nA2rGDkFrJk5aK7KTsJSmHJsHzAFPhpdixqHj2gZUAm8NtsWORVLdpsQOQWs07n5IkSZIkFYAJAElSLt0D+wFcAXvEjkWSJCkPTACoyI4GeoBNYgciqXbj4GWA8bAsdiwqnpuzxyifhO1ixyKpbj3A52MHIbWSCQAV2W5ACRt/kXJpWmi9mQPhrtixqHheyspQy2D92LFIqlsJeHPsIKRWshFAFdlnspckSTXZH1YAbAU3xo5FUt2S2AFIrWYNAElSLj0OUwFugU1jxyJJkpQHJgAkSbn0JOwC8H+wfexYJEmS8sAEgIrsEOBUYIPYgUiq3Q5wOcAM+H3sWFQ8d0InwLOwZexYJNXtVOCo2EFIrWQCQEU2AzgeWC92IJJqNw5WAqwNq2LHouJ5KksALIHNYsciqW7HA3NiByG1ko0Aqsi+CnwbeDh2IJKkfNk5S0BtCrfFjkVS3aYBS2MHIbWSNQBUZE8DD5AV4iTly+3wLoBLYd/Ysah4NoAUYBwsjx2LpLo9ADweOwiplUwASJJyaV14CGAyPBY7FkmSpDwwASk/gDEAACAASURBVKAi2xf4KDApdiCSarcV3AXw5nAHR2qph7Iy1IuwcexYJNXto8DBsYOQWskEgIpsLnAWsFHsQCRJ+fJQ1o7S87B17Fgk1e0s4NOxg5BayUYAVWRnAJcAj8YORFLt/g923Aq4HrYB7o4dj4platb7xIZwT+xYJNXt7YQ2oaTCMAGgIrs3e0nKoedh262Ap+2HXRFMhX6AifBC7Fgk1W1R7ACkVvMRAElSLu0SavAwE66LHYskSVIemABQkb0WmAGsGTsQSVK+lBsBXArrxo5FUt1mALvFDkJqJRMAKrJPAVcDm8UORFLtVsI4gCU+zqYIyo0APg2vix2LpLpdDZwcOwiplSw0qcjmA3cAT8UORFLt7oaDdwEWhS49b48dj4ql3AjgevBg7Fgk1e1jwMOxg5BayQSAiuz32UtSDm0MfwG22wr+enPsYFQ45UYAJ8GTsWORVLcfxg5AajUfAZAk5dIUeAhgD3gsdiySJEl5YAJARbYhof/wcbEDkSTlyzOQAKyECbFjkVS3bYApsYOQWslHAFRkXwGOAbYF7o8ci6QaPQi7bg0shiNPgptix5MXCWzXP/RnrzkJSi0NKKdWwBoAj9mCuJRn9wO/Bt4dOxCpVUwAqMgWAUuB52MHIql2d8HKybByCnwujR1Mjgz3W6WwH+GlEZSrjq0Nj0YNRNJonAbcGzsIqZWS2AFIklSvr8K+qV15KqIUFs+DG2LHIUmSJEmSJEkSAJ2xA5AkqU7TCA04LQWWR45FkiRJUhv7LuFx2GmxA5FUl4WEfdjGmxTDeML2d2HsQCTVLQUuix2E1ErWAFCRbQqsAC4GXo4ci6Ta3U1IAtxMqAUgtVIC7ADciG0ASHk1HfgjcH3sQCRJkiRJkiRJkiRJkiRJksa+ecDVwBtiByJJkpQHHbEDkCI6Ebgf2Cp2IJKk3BlHOIecGTsQSXW7H/hR7CCkVuqKHYAU0VLgOaA/diCS6jIvdgAqvOeAJbGDkFQ392FJkiRJkiSNPXYDKEnKq32AN+IdHEmSJEmSxrSFQAq8O3YgkiRJktrbpwgtiG8WOxBJdZkG7AmsGzsQFVIX4RxyUuxAJNXtauDk2EFIrWQjgCqyrQgXDxNiByKpLvfHDkCF1kE4hzwROxBJddsTeDZ2EJIkSZIkSZIkSQJ+QKgFcEDsQCRJkvLARwAkSXn1F0I17KdjByJJkiSpvR0GnAVsFDsQSVLudBHOIZ+IHYikup0FHBM7CElSa3yX0IXYtNiBSJJyZzzhHHJh7EAk1S0FLosdhCSpNSYCkwlViCXlz0HARwk9ekgxTAbWjh2EpLq5D6twktgBSJJUp4XAocB7aNEdnG6Ymb76ju/i6bDVPOgfbro5sH8C11T86eXeyIXOEnwb+DfgiV6Ystpnnwa+lw2u0wtLWh2fJElqPO98SpLy6oPA+sBVEWPY/C54+0gjdcBRrQhGkiRpOCYAVGQzgOOB9WIHIqkuS4DngJWRlv9i9v+Rw41UgrVTmJ0NvtDckNRCnYRzyKzYgUiq2/FAKXYQUiuZAFCRHQKcCmwQOxBJ+ZNAD0AKM0uw7jDjdQNrAU8A17YovFGZHFrGXger/w+nk3AOOSJ2IJLqdiojJHGlscYEgIrsm8BewCOxA5FUl4WEFpzfHWn5VwCPA2ukoVvRQaUDhcufAataEdho/RBW9sISL/6HtZJwDjk2diCS6rYXoS0UqTC6YgcgRfRw9pKUTz8FbgTuibT8vhTOT+DYBD5EuGv+KnNhWj+8JRs8Fzix2pnPgfd1wOEpvBHYGFgBPJTA5avg2wvhseGmPwy27IcTUngXsCnwPHALcEbvCI0mVtMIYAl2IyRfZgCvI9SmWgEsTuH6TjhjfljeUMv4OvBFYHkvrPEBmLwi/JazgNcQLrD/ksDZPfATQrKnnaTAzbGDkDQq7sMqHGsASJLy6kLgNOD+WAGk4aIe4E1zYftBPi/f/b+lF26vZp6HwgYl+G0CF6Xh2dQtgQmEKvk7p/C5Tri3O1zYD6obDuiDu1L4JDA1m34T4GDgV91wetVfchBz4G3ArYSL+P0JvQiMIzzqsH0CR/fDTd3h+doRzYbXrYTbEvgCIZmwJjAJeHMK53bDD0YTryRJCkwAqMh2JxSu7f9VUl1+CXcCN8GrLvYBmAcdaeipAOCcauZ3JKzRBVcDBwDL0pDg2GsVbNgJmxMeNbgXWCeFX86FXVefxyx4TQoXE45tz6fwqWzadYB9gKtS+Cwws57vDJCEu9/XEObzFmCLlTC5PyRB3gdcCSQpnDondNM4nM4OuBQYn8JngOl9MDUN8d0NkMLHuuEd9cbbJB2Ec8g+sQORVLcS8ObYQUit5CMAKrKjgGOAbfE5VymPjgCmE+7Cx3oMgATOTWGvFI6YB1+aB/0Ad8GBwFaEavE/r2ZeL8OXCMnJ5R1wwHz439VGmV8KbQ/cCLy2P7RlclDlCJ0habAOsLIDDpoPf6r4+A+lUHPgEoapQTCSXvgt4bW654G/AZd0w3+n8OEEvgz8apjZdQFrd8LrL3j1Y1l/L4Xv+VdCwuOjhMRCu+giNAR5EXBo5Fgk1acH+DXx2pKRWs4aACqy+cDHgKdiByKpLgcRLgq3ihlECr8AlgNb3BGehy8r1wi4tBeeHWk+B4dq+p/OBs8Y5OIfgF54IYV52eDbS7BR+bMSrE/WLV0CP17t4r88fV+2nKY+U5/Cf2dv9/4ATB5u3AS+csEgbbL0hkYWL8oG39DgEEdrFeEc4uMJUn59DPh+7CCkVrIGgIrs99lLUj61RfdrvfBsKVRhn5M1BnjV4TBpRXYhXtFOwLDWgTekWXeCSajCP6Qu+H1f9j4NrVhfnk33xjQ8i08Kvxwm5gdL4dGFvauJbSgleFMC3WmotbAJoQ2A8s2Fchkj6YPXMkRCI4v10mEWc1f2/5TRxNoE/cAPYwchaVTch1U4JgAkSRq9c4E5wKGHw6SVMJfQkN3jT4cq+yPqhx2S7H0K15WGGbfv1YMbVbzfuuL9XQwjhbuSOhMApfDdfgrMrqYaQT+sN8zHq7I7/UMpP6LVeTBMuDzUtpAkSXUwAaAi25LQtdYdWKCU8qh8x/lxYGnkWK7I4piyEuaWGwRM4fxrQ1XxEXXAehUX0w/xT9f5Q3ql/CYNz/6XjdS2Sd1tnyRwZgqzgTSFszugJ4W714JnzoVlAHNhh/4sCZEOX96o9nuyCSQjj9UyCbAHod2DaD1RSBqVPYEXgPtiByK1igkAFdlxDDQCaOFNyp8fEBpfew8j9GvfbL3QNwfOT+DYNHR9Nw2qr/4P0A8vJQPvD/5lHQ0bJvBSRRJhbULBdih19YBSgilp9vhFAif3hkb+/skId/3HgnGExyhsBFDKr5uwEUAVjAkAFdkiwl3D52MHIqkuZxLuvN8eOxAIF/sJHEt28Q/clHUTWJUOuL988d4ZGryrp2eDByve7wgsHmrEJHxejz3J7sT3wQXDzH/XprYyGF8foceFYR+1kNTWTiN0rSoVhgkAFdkl2UtSPl0VO4BKv4Q7s4b19oLQPWAt078C/7MGvAyslXV5d16tMaShob2VwLg0NEJ49WDjHQZT+7I461jGxHJNha5hyhFpaBBxLOsDTogdhKRRcR9W4dgNoCRJDdIF7+kPz77vMBF+VMu0l8LSdKA7qn26B7r6G9JsmF45nHU3uBAggX+dG55Rf5V50NEH36XO5+k7Q/sEAPTBzMHGmQP/DryxnvlLkqTmsQaAimwiod/tFwjdOUnKl2OB1wOnArdEjgWAX8AThFddEjgJOBDYO4UTS/Am4IxOuKkPXuyDdbpgO+DNKXRnk+1WOY9OOKEP3gWs0w+LuuELKVy0Bry0Ana+E04E3gn8HXhNrTHuADffCX8Ftk/gi93Qvwp+thY8sRSmJfCJJPStfQ/wunp/i5yYTKhxUXeDipKich9W4VgDQEV2KuFu2dYjjSipLW0CbENI5o0JvfDKSjgIuDj700HAxX3hWf6XOuHRFK5L4WRgV2DF6vO4AB5K4H2EAu3kNDSW+NgyWNIPfwDemcJ/Ehqvq9k86O8I1ftfIjxq8NVOuH8ZLOmAPyfwceBm4Oh65p8j4wnnkJ/GDkRS3Z4F5scOQmolEwAqstuAXsz6Snl1HOE59utjB9JIF8HzvTAzhbcSHiO4h3Cx3UdotPTPCZwDHLYM9h9sHj1wTWdo5O8HhCr7K4CngKtSmLkA/mM0Mc4PbQ3skcXxCOEO2jPADSl8ZjLs0w/PjWYZOdBPOIfcEDsQSXXrZYydQyRJkiRJkiQ6YwcgSVKdphEeAVgKLI8ciyRJkiRJapKFQAq8O3YgkiRJktrbadgIoJRnuwAzgA1jB6JCKjcCeH7sQCTVzUYAVTh2A6giexp4gNB4laT8+UvsAFRoKeEc8njsQCTVzX1YkiRJkiRJkiSpXXwTuAl4c+xAJEmS8qAjdgCSJNXpCUL1zaWxA5EkSZLU3o4j3D3cInYgkqTcGUc4h5weOxBJdbsJ+E7sIKRWsgaAimxDQh/i42IHIknKnYRwDpkSOxBJdXMfliRJyol9gBKwaexAJEmSJElS8ywkdMX27tiBSJIkSZKk5tmEUH1zYuxAJEmSJLW3o4EewkWEJEm16CKcQ46LHYikuvUAn48dhCSpNb5LqD48LXYgkqTcGU84h1wYOxBJdUuBy2IHIUlqjYnAZOwNQ8qrnwLPAgfFDkSFNRlYO3YQkurmPqzC6YodgBTR0uwlKZ9uIOzDj8UORIX1XOwAJI2K+7AkSZIkSZLGns7YAUgRHQIcBdwKvBI5FklSvnQCpwCbAX+OHIuk+pwKbAncFjsQSVLz2QiglG+HAsfjPqw4bARQyj8bAZSkAtkS2BOYEDsQSXVZSCi8vTt2ICqkhHAOMQEl5deewLaxg5AkSZIkSZIaKokdwCB2JDxPJ0mSJEnSWPA8cFPsINoxAfBr4ODYQUiSJEmS1CB3AjvFDqIrdgDDOA54MXYQaqhZwDuAk4BHI8cCcBhwAPAl4KnIseTdQcBs4D+BeyLHosZ6E3Ak8N+0QdZ6NR8Hdge+D9weOZY82gk4BrgAuCZyLHnUBZxBaD38B5FjWd1rgC8AvwIujRyLGmt9Qu8TvwN+FjmWseAs4A7ge7EDAcYRzme3EOLS2PLd2AG0sx8TGnXaJHYgarjTCOs2euYrsztQAtaOHcgYcCxh3R4YOxA13IcI63Zu7EAGYS8Ao3MwYd0eEzuQnOognEP2iR3IIPYirNuTYgeihtuKsG7bLemUVyXgzbGDyKxJWLcLYgeipngJuC52ENDeNQCkZrs1e0nKJ7tfU0z9QG/sICSNivuwCqcjdgCSJEmSJKn5TACoyF4LzCBUuZKUP58gPCe5c+xAVEgdhHPIrrEDkVS3GcBusYOQWskEgIrsU8DV2O2klFf7EJ7f3DR2ICqkLsI5ZF7sQCTV7Wrg5NhBSK1kGwAqskuAxcAzsQORVJcjYgegQusDTgD+FjsQSXU7AXggdhBSK5kAUJEtyl6SJNWqj9C7jaT8ch9W4fgIgCQprzYBtgEmxg5EkiQpD9oxAXAX4a7sitiBqOHuI6zbJbEDyWxIuHgYFzuQMeDvhHX7bOxA1HCPEtbtE7EDGcQPgPuBA2IHklNPE9btw7EDyamEcA7ZJHYgg3iRsG6t2jz2LCOs23tiBzJGbANMiR1Epp+wbv8SOxA1xTXAzbGDkIruu0AKTIsdiKS62AigYhpPOIdcGDsQSXVLgctiByG1km0AqMhuACYQ7pRIyp8bYgegQusHfgjcFjsQSXX7IXBH7CAkSZIkSZIkSZIEHAv0AHvEDkSSJCkP2rERwEoXEZ7NKb/WjhuOJBXCVMKz9acBvwGeY+A4/KWIca3OXgA0luVlP5SkovOatUHez6t/SH/M/FmPsB6/DVxPaI34JWA58BhwNfAZYJ1I8dkI4OjsCnwRuBJYTOi54yXgbuBHwJvihaZRWsU/H3+98Gh/ewDnAA8RWgp/CrgW+AjQGTGusarZjQC6H45tnkPbQ6MbAWz3sq8az2vWBtmIUHBJCV08+WPm00yGLrxUvhYT50T3KcKBeLMIy867RVS3bs/GxkbzqHzh8SxhXf8ELzza3WcZ/oLx94SCqRqni3AOOalJ83c/HLs8h7aPq4GTGzi/di/7qrG8Zm2g+YQf78fA+fhj5tVMwgHuZ4TC6WGE/rrfBXyS0IJ3ed2+AGwZJ0zV4T7CensE+B7wAWB/YBbwDWApA+v2h5FiVP1KwLYVw7vRnhceuwAzgA1jBxJZNwPr515gDrA1sDfhTmL5s0WxAlRd8rIfqnaeQ8cuy77F4jVrg5QzZ48Dk/HHzLPxVYzzVQbW76nNDUcN9HPgEIZuR2Qa4QSYErrK2rFFcak52vXCYyEhpnfHDiSiNQkXEeWLiQ0GGeebDKy/7taFpgZr1/1QtfMcOnZZ9i0Or1kbZDLh+ZjKQkq9P+Z+hGzMXYQMW3/FfAZ7fW704asOawIrCevgysixqLE+zMD+9dnIsWh0GnHh0Yxj8jRgT2DdOmMaC/6Fgd/s6CHGWZNQjbz8KIDyqV33QzWH59Cxy7Jv/nnN2kDnEb7YJRV/q/XHXAvo5dU/1BJCAxzD/ZgHNuQbqFYJ8DJhHcyvcppG7SgnEp7X2arO2DW8nRhYB/+vymkKfxBsU6O58PCY3FwLCL/XSoY/R57NwN3EKVXM131xZOMI55AzW7Q898Ni8RzaGvcTHpVqpZhlXzWG16wNcjDhS70AbFHx91p+zC5CJq08/nnADhWf7w7cVvH5fODj2cuqGnG8l4H18ZERxm30jmICoLn2o/rCqgfB9lbvhYfH5Ob7O+G3u2mE8Y5i4Hce7pEJ98Xq5SUB4H6YT55DWyNGAiBm2Vej5zVrg0wC/o/wBT+52me1/JjHV4x74hDjTAP6snEurzNejc46wHTga4SDWEpohXWoZ+HAHSWPvsfA+njLMOO5bttfvRcezT4mf5Nw4fvmGqcbKyYycBfoghHGfQsD6+LYIcZxX2xv7bofqjk8h44tln3HBq9ZG+gswpe7nlAtplK1P+Z6DOxQ1zP8DvW/2XhP1xmvancCg2co/0qopjRSNzfuKPmyM6FP4xS4kX/eryu5bttfPRcerTgmHwv0AHvUON1YsRUD6+XbI4y7fcW4QzU65b7Y3tp1P1TjeQ4dGyz7jj2FumbdGHi+Aa+1Bpn3gYQ7GMt5dVarrNof898qxhsuUwoDXTYsH2E8Nc5wB8EvAWsMM21udhQBoWGUvxLWwzJCoXUortv6NPOYPJh6Ljw8Jjffjox8UV+2ZcW4Zwzyufti+3M/LAbPoWOHZd+xpXDXrFMYfAOu9bX6jzGR8OxNCnxliGVX+2MuysZ5lOF3EoBLs3EfG2G8ImjVhcSGhAZtdiL0h3o0cC0D6/aPDN2Xd7N2lE8Rql9tVsW4edTqi0QILdtex8D6+vAI4+fmINhmmnVMHko9Fx4ek5uvMgFwygjjblEx7mAJAPfF2nURziEntWh57odjn+fQ1rsaOLlJ827Hsq/qM6auWUeqelL2HFBqwPJeWW34i8A2wJ2MXHgZTgLsk72/ipCdGU45a3P3KJY5VnTQmC60hqueBiErWZmZvIbQmumRwDnA3sB3gMMHmfa92f+PMXIXVhOz/58dYTyA1wIzCCfcsahV67ZsAqFf9rdmwycQWh4fTrPW7VjXrGNyo7TqmHwQMBW4gvBMXtEsqXg/0nFsYsX7lwb53H2xdh2Ec8iSkUaMxLJRvngOjWMG4XGLZmjHsq/qM6auWatNACwndDXUaNOy/6dT3c5XLrQs5tWtLm7OQOHnvhHmMbViuYuqWOZYF/tC4lzg/YSC/FzgE8CLFZ83c0f5TPYaq1q5bssFl3dmwycCp40wTVscBHOqWcfkRmnVMfnjwKHAeyhmAuCZivcjde23yRDTgftivVZQfYI0BstG+eE5NJ4Y+3DMsq/qM6auWatNALS7SRXvV40w7tHZ/ymh8aiia4cLiesJB8FOYDvg5orP2mJHyalWrdsJwC+Bd2XDX81eI3Hdjl2tOiZ/gtAQ4OM1TjdWvExIfGwFbDvCuNMq3t+12mfui2OTZaN88BxaTJZ9i6ktjsuxEwDHM3LDRSczcFDch3A3cvXMS2V1xu2GmdfmwL9n7y9i5J1KrTGh4v3q67YtdhQNqXzXoryPfp2hW6pdnet27GrVMfmJGscfi24iJAB2IbTX8fIQ45W7Skx5dUET3BfHKstG7c9zaHFZ9s0Xr1lbrNoGFR7LxnkO2GiQz9cH/pSN8yKhwKT2UF4vy/nndVzZcvWPhpnH5oT1mhJOptU4jNCdx2Dbi0Y2Afg1A+vn6zVO38x1q8aqp/Exj8mtcQQD6+aoIcZZg1DtP2XwZ0ndF+vTRTiHfKJFy3M/HFs8h7aHs4BjIiw3VtlXzeM1awNV+2N+qWK824C3EbrQ2JxQKHqIgR3t7U2MVwPeyfCtWyaE1pPL622og1ezdpTvZtNMG2lE/ZMJwGUMrLt6W9D1INietgHeWPGqvMg8c7XP9hhiHq04Jv+U0OjRQXVOPxasCTxC+C0fJuwzqzuNgXUxd4j5uC/Wbjzh97iwSfPPy36o2nkObR8pYV00SruXfdU8XrM2ULU/5njgyopxB3s9BLypmcHqVR4nPJ/6PUKLpzOAfQnVY44nbPTldfM0obAzmGbtKBtmyxxXwzQKyt2SpMDlvLogOthr+yHm40GwPZ3N8MfSytdQz9+34ph8BKFK3utGMY+xoJuB3/QeYDawNbAX8N8Vny1i6Aav3BdrlxDOIZuMNGKd8rIfqnaeQ9vHNozciGot2r3sq+bxmrWBqv0xIWTcPgL8jlDdcQXhGdH/n707D5Ojqvs2flf39GzZV0L2nQQMYRfCGgg8KAoKIuKCwCMIguIDIqBIegKBsIgsIoKC7EpYBFQQ2aLIDorKJiTIHiSQhEDWme56/6jJmyEks2Wmz8zU/bmuuRjo6qrvaJ3uU6dO/c7dwDf56PM2an9v07yOy7+ASY3sx4bS8TS3U7r657b17Mf/bzumtrjwAD+TS+kEkmdF1/f/00Mkncf1sS12PLbDrsvv0K7Lvm96ec0qkUytP5qkuu0zwAKgFnifZKmS64D9aV4xShtKx9JWnRfw/1uprWxNsrzUK8AKkrtLfwaOJKk03RTbolQafod2XfZ9JakDm0YyHauxu2KSOq7Pk7Rh63gohCzJ+bd/6CCSWu0k4MDQISRJpWERQKlzu5WkDe8TOohSqb2LAEpqfzFtWwRQktSBbUIyC6AqdBBJUqeTIfkOmRw6iKRWm0ayxKYkSZIkSZLUdTSnKJAkSR1Rd6AbUACKgbNIkiRJ6sC2JCn80tRSHZI6JmsAKKQMyXfIlNBBJLXagcBOoUNIkkrDIoBS57YXyRJ3w0MHUSpZBFDq/CwCqNTxEQCl2RLgMeBxYGXgLJJabh7wFMn6ylKpxcBbwL0k56Kkzmc+SRueGzqIJEmSJEmSJElS6h0NXAZMCh1EkiSpM8iEDiAFNAzYGqgIHURSq2xOsoZz/9BBlEoRyXeIdWSkzmtrYGzoEJKk0rAIoCSptSwCKHV+FgFU6lgEUGmWA14D7geWB84iSep8KoAHgX+EDiKpVapI2vDToYNIkiSpcWNIpm/2Ch1EkiRJkiS1n1tJpm/uEzqIJElSZ+AjAEqzaqA7sIrkIkJS5/I6cDfwGPBh4CxKpz5AGcn3iKTOxzYsSSliEUBJUmtZBFDq/CwCqNQpCx1ACuhp4Ca8cyhJarkiyXfIE6GDSGq1m4C/hw4hSZKkpuWBe4BPhg4iSZLUGWRCB5AkSZIkSZIkSZIkSZI2yNnAQmBU6CCSpE6nnOQ75LrQQSS12kLgxtAhpFLyEQCl2bvAy0Bt6CCSWmVzYBrQP3QQpVJM8h3yduggklrNNixJktRJ3EpyEbZP6CCSJEmSJKn9jAG2BnqFDiJJkiRJkiRJkiQpsBOBJ4GhoYNIkjqdHMl3yHmhg0hqtSeBC0OHkErJIoBKs/7AaJJOnKTO51JgHjA1dBClUkTyHTIodBBJrWYbliRJ6iSOBi4DJoUOIkmSJEmSJEmSJEmSJEmSJKm9HQ7MBjYKHURSq+wFHAkMDx1EqVRG8h1yYuggklptNnBK6BCSpNK4CIhJ1hKX1PncStKG9wkdRKlUTnL+/TZ0EEmtFgN/CB1CklQa1UAfXA1D6qy6k7RhV/JQKH1IzkNJnZNtWJIkSZIkSZIkSZIkSZIkSZIkSZIkSZIkSZIkSZIkSZIkSZIkSZIkSZIkSZIkSZIkSZIkSZIkSZIkSZIkSZIkSZIkSZIkSZIkSUqhycAPgbuBN4FVwAfA88AVwA7tcMyJwLnAP4GFwHLgZeCPwInA0Ebe2wP4PvBQ/XtXAq8DNwOfaubx+wGnAA8C7wK1rPmbrwSmtOivkdreVsCvgFeAFcACYA5wBJBt42O1pj3OAeIW/gxqQabb1npv9/Vs170Fx7+gBcdPE881zzV1Tfbv7N9J0sfcS/M6M78EytrgeBFwBsmXUGPHO2o9798WeKOJ915D453W3Ui+FJr6m38GZFr1V0ob5gSgjvWfmw8BvdvgOBvSHlt6UfYukGtmroPX8X4vytqH55rnmrom+3f279RJtEUDlFpiZP0/3wR+CzwCvAX0BbYHjgWqgP8FisCRG3i8y4Fv1P/+KskI9JPAh8AAYDvgC41k/WN9tjrgJ8BvSD7sRwHfBg4AvgYsqc++tsHA7UDP+r/n6vqf14A+JCPDp9Rvd3R9xrNb+bdKrfFF4Lz6318kuXvzFNCfpON0OMl5ejMwbQOPtSHt8Vsk7agxOwPn1P9+HcmdmKYMAC6q//1lYHQz3rPaBcCNjbw+vwX7SgPPNc81dV327+zfSdI63QDsy/pHQseQfHnEO48Q6AAAIABJREFUJB+om27Asb7GmtHX2UBlI9tWr+O/Xd/g/V9Zz/suZU3Wrdfx+g8a7GPGevYxjmS6WEzyt0ulUsWaOyBvkExlXNu5rDmHv7gBx9rQ9tgcNzQ4xubNfM+N9dtfSXIh15K7st9tZc408lzzXFPXZv/u4+zfSVIzfYM1H6ontHIfFcA79ft4Dihv4furSJ5NjYHHG9muN7Csfrtr1/H6taz5W0Y0sp/fN9iuqTtPUlv5KmvOu8PXs00VybORq6dnt8aGtsfm6EPy7GcMPNHM93yufvu369/vRVn78VzzXJPs30kdgM+jqCN6tMHvg1u5jy+STAEDmEnyjFhLbEryJQNwXyPbLSaZwgrJyPfaz4EuaPB7Y1NEV7+2nGT6WlN2JbmL9BzwPskIdWPPn32/GftU+nyu/p91JHdR1mU5cGv97zvQsmJnq21oe2yOL7PmLtCVzdi+D8kdHoDvAIvaIVNLdPU27bmW8FxTmtm/a5rtU1Iq7cqaD7ZTW7mP2fXvr+Wj079yJKO6URPv36NBhu81sW3Dis6fWOu1aQ1eO3497x/MmrtetzRxrG7ATXz0w/9D1kwxW9/P7k3sV+n0Ksn58WQT2x3GmnNpn1YcZ0PbY3M8VX+M5TSviNzV9dvf0eC/teaubD9gC5JOZWuK16WlTXuuea5J9u/Wz/YpKdUuZs0H286t3Mcr9e9/iuTL4JvAP1gzkrqCpNLzwaz7y2KbBhnObOJYDzbYdl3Pra5+jmwVyWj1JiRT0DYmKVDzfP3rr9D4NLIykqV1Vh/rapLlb1bbEni6wes3khTWOor1dzCVXtWsaQ+/aWLbnWl+h2ldNrQ9NmVyg3zXNWP7T9Vv+z4fXSKqpRdli/loR6wIPEPSGWzsmdTV0tKmPdc81ySwf7c+tk9JqTaJNUu6PEbrOmgRUKjfx23A72h89PS3rJkOtlr3BjkeaeRYPYGlDfZ1zHq2+yrw8HqO/w5wPusuitXQSQ3eM30924xhzd9+VxP7U7oNZ8351NQSYuMbbDurhcdpi/bYlIsavL+puyE9Sao0xyTV3htq6UVZYz//JPnfuDFpadOea55rkv279bN9SkqtPiRLQ60ewd2ilfvpzZoP0pX1/3wO+AzQg+Ru1DSSqairt7t0Hfu5o8HrB67nWBfy0Q/7k9exTZak2M2/WfcXxFLgKpJqsY39TR/Wb/9XGq/f8Wj9du82so20Kc2/0BrWYNtLWnictmqP61POmnWYX6bpTuVlrGlHa2/bnIuybsBfSC7otgY2Ipl6OoSkMvWzDfbxLOu/wExTm/Zc81xTutm/a/xvsn1KCm4gyXTDDf3p1oJjVgF/Zs2H5jca37xRffnoB/Br9f9tbd1Y04Eq8PEP6EmsqQC7Cjij/r9tTFKgavUyUA1HiE9ax991V4NjXEyyHu7GJHe6vsGa6WzvATuu5286rsExmpo2t3qpqZVNbKfOob3aY8OLsrOayDC0wbYtvShrq/a4Pl9ssO8fNbHt7iTTRFfy0emVqzXnoqwplcCfGuxnfdXb09SmPdc+znNNaWH/zv6dpE5gEOseyWzpT3M7NRWs+RBd14dsS+XWynFsI9t+qcF2J67j9b35+LOXDX/eIKnqvPrfj1zr/bMavHboejL0B/5Tv81bJF8qa7u3wetNrd6xekrc/Ca2U+fQXu2xVNOy27I9rsvq5yYLJHeP16camFe/7Wnr2aYtLsogKfzU1BTTNLVpz7WP81xTGti/s3+nDqgsdAB1SItY/5SolljejG0qSJZ92rv+36cDZ2/gcWuBJaxZb/XPjWzb8LW1K7wC/BGYQPIl8GlgNMkX0Cskz5adQ/Ils9prDX7PAEfU//4syTSwdXmX5K7YZSQjx5/lo8tkRcCU+t//RHJXqTGr7zY938R26hzaqz2+1+D3ppZb22g972uOtmyPaxtGMt0Tkk7U641s+0OS9vssTd+F3lBvkUxB3YHkrtLa0tamPdfaj+eaOir7d/bvJOljKoDfs2YEtaYN9/1Ig/0ObWS7ygbb3drIdo25qv79RT46FW1Ig303tVb05g22nbHWaw2nxDa1bM7IBtv+oBnZlW7NXZrtUNacV61Zmq292uOPGmy/rgrNDf2mwbYt+XmjGTnWpeEzpmvf1Uljm/Zc81xTeti/W8P+nTqcpqaaSO1l9cjw6g7eGay/8mlrPNbg9/6NbDegwe+LWnGcSmDf+t8fIVnvdbW4FfuDj48A92zwe10T7z28wbFnN7ahxJqLsc1pvGbHTvX/jEmWXmqp9miPEcma8ZC0u9tbkas9ra7KvgjbNHiutSfPNXUk9u/Wz/YpKbUqgDtZM5J5Rjsco7lrSTe823R0K47z/Qbv/8par5WxpsjMM03s56gG+zlsrdcaVsW+opF9DCGZGrcho91Kl6+x/vNutUqSqdgx8FArj9Me7XH3Btte1IwMI0gqTzf284cG+9yh/r9t2ox9r20ya9ak/uM6Xk9jm/Zc81xT12f/7uPs30lKvQo+2vGZ2Yp9lANfqP/ZdT3bRMDj9cf4L0mhpLX1JVnKKSap9LrROrZprDjT51mzDM2DrHtGzW2s+Vu/vp79bMSataJrWfeUtvn1ry/io6Paq/UFnqjfZglNrwktQVKQ6A2S8+Z11l1N+WzWnMMHreP1UrbHhhoWUZvcxLbN1ZzCbLvS+PJvI4AXaPx/M0hfm/ZcW/8+PdfUFdi/+zj7d5LEmgqmMUll2O2b+Bm/jn30b7CPOY0ca1uSwmcxyQfw4cBYkkIvX2bNmrSNjSIvIZlq9b/AVGA3khHchn/HayTPZq3Llqz5EikAPyVZCmYoSTGXo0g6w6v3deF69nNqg22eBvYgWTt2SH2e1UvNrAT2XM8+pHVpuLTZC8ABwChgG+AXDV67l3VfjJSyPa7WizV3X1ozTXx9mnNR9gZJVeeLgENI2uJOwP4ky0AtabCPO1j/BVwa27Tn2hqea+pq7N/Zv5OkdYpb+HPbOvbR3C8IgM/Q+DIvReD0Rt5f10S+x0g6sI3Zr4kMq3+uZf0rc5SzZgmq9f28QjKVVGqpE2j8XH+IpEOyLqVsj6sd3eA9xzRj++Zq7kVZcz67fsW6l3xaLa1t2nMt4bmmrsb+nf07SVqnUn9BQDI97GyS57SWkIwazyN53mqrJt57MHA1yZIri4AVJCPCt5JMt2xuIc1BJOtB/5XkGdda4EPg3yRVZndrxj5WLzvzl/p9rCKZ/nY38E2S6XdSa21Nci6+QnKev0uyjNKRQLaR95WyPa62ejrkcqBPM9/THM2dlj2dpN29RPK5UFv/z7+R3Jlt7t+R1jbtuea5pq7H/p39O0mSJEmSJEmSJEmSJEmSJEmSJEmSJEmSJEmSJEmSJEmSJEmSJEmSJEmSJEmSJEmSJEmSJEmSJEmSJEmSJEmSJEmSJEmSJEmSJEktdBEQA2NCB5HUKueRtOGJoYMolcpJzr/fhg4iqdVi4A+hQ0illAkdQAro38C9wPLQQSS1ykskbXhp6CBKpSLJ+ffP0EEktdq9wNOhQ0iSJEmSJEmSJEmSJEmSJEmSJEmS/r/pwDxgeOggklrlByRt2EKeCiFHcv79PHQQSa02D7gidAiplCwCKEmSJEmSJEmSJEmSJEmSJEmSJEmSJEmSpNCOAe4BBocOIqlVvknShi3kqRDKSM6/mtBBJLXaPcDM0CGkUioLHUAKaBNgGlAVOoikVhlH0oa7hQ6iVMqQnH8fhg4iqdWmAatCh5AkSZIkSZLaVBQ6gCRJalsXQcVCmAiMjWBUDEOB/sAgoBfQg4/OAqwluZO9CHgHWBDB68ArMbzUF/79HVhZ2r9CkiS1NQcAJEnqxPLJVPQtItghhu2BLUku/jMf2ziTjansVhtVdS8QZda8HheL8bIPyli5rIxiYV19gwLwb+DvwOMZeLAI/8hDsT3+JkmS1D4cAFCafQmYCpwKLAicRVLLfQHYE8gD8wNnKakzYFgdfArYO4bdo+SufqJH/5WMnhwxestyBo+DjcdA38HQbwhU92x650vfh/fegEVvw/y5MH8e0bynaosv/yOOPnivvMGWS4D7I/hTDL/Lwxtt/Xd2cGXAJcDTwKWBs0hqncuAZ4CLQweRSsUBAKXZRcC3gbHAvMBZJLXcecAJwKbA84GztLs8jI7goBj2B7YBiKIojgePW8VWe1ew6Y4wYQr0H9p+Id59A158DJ77K/zt7lW8/nzDAYGnYrg5gtl5eLn9QnQY5SSPRdwGfD5wFkmtEwN3AvuEDiKVigMASrP+QE+S51xrA2eR1HL9SO58d9k2nIfuERwYw+HATgDkKgpstVfMDvuXsc2nodfAcAGXvAtP/B4eu6MQPXknce3KbP0rD0VwdSX85iT4IFzAdhUBo4ClwH8DZ5HUOqOBZcDboYNIpeIAgCRJHUw+mdVwLPBVoAfZsmK05V6FePdDcnxyXyjvgKuXrlwGT95J9MC1hfjJOyMKdZkYlkZwfQZ+ehr8K3RESZLSzgEASZI6iBrYI4bvAf8DRAwatZJPH1PB7odArwGh4zXfkndhzvXwh0tqeeulHMk02/uAH+fhj4HTSZKUWg4AKM2mAVuTFIBZHDiLpJbbHdgW+CXwXuAsGyQP+8ZwagTbxkREW0yrY//vlbHFnhB14q/qOIZ/3Ae3X1CMnroziuM4IllJYMZ0uD1KBgY6qyzJYM1LwK2Bs0hqnZNIapbcFDqIVCqduFchbTCLAEqdW6cvApiHvYCzgK3IZIrs+mX4wskZhm8WOlrbe/PfRDedFccPXEf9UoNPR/CD6XBX6GitZBFAqfOzCKBSxwEApdkmwDDgIWB54CySWm4cMAJ4hKQQW6eRT6r4zwT2IpMpsvvX4eDTMgwcGTpa+1vwGvGNZxDdc2WRYiED/DkDJ50Gj4WO1kIZklkoC4B/BM4iqXWmAe+SLOcppYIDAJIklchM2Lg2ufA/NCaKol0OKnDw9CxDJ4SOVnpvvQS/nhFHf76e+kcDri2DU06FN0NHkySpq3IAQJKkdpaH8hi+C5wWQTfGb1fLNy/OMX670NHCe+lJuPy7BV54KAssi+CMOCkWuCp0NEmSuhoHAJRmW5I8/38X8GHgLJJabjIwHrgbWBI4y3pNh52ipNjopvQetIojLyhnpy927uJ+7eGhm4muOKE2XvBaDngxgqOmwwOhYzUiAxxAMmPh4cBZJLXOgcB84K+hg0ilYu9DaWYRQKlz69BFAM+GHsuTjEcQZYg/f0IUHXQqVPcMHa3jWv4BzD4Tbj23WF8o8Erge/mOuVKLRQClzs8igEqdbOgAUkBLSIpOPU7SiZPUuSwBniBpxysCZ/mIPOxdl6x3vztjtqyj5o/ZaOpXIVcROlrHlquALabBlP0j5v6tyHtvbg0cshu8MCdZbq8jiYG3gHtxEFnqrOaTtOG5oYNIpeIMAEmS2si50G0p/Bg4grLymENmZtnv/yDjeHuLxUW44yK45pQCq1ZkgCuq4PiT4IPQ0SRJ6qwcAJAkqQ3kYTvgWmB8NGar2vjEG3IM2SR0rM5v/lz48SEF/v1INob/RPDVvM/cS5LUKt6SUJoNI1lHfCFQCJxFUssNJWnDi4C6UCHykNkVTongajKZ/hw8PeKEa7P0GhAqUtfSoy/seViGXCXRv+b0Io4PnQp8Cx66KZmGH0oEbA1Uk5yDkjqfrYFuJH1BKRWcAaA0swig1LkFLwKYh4HAdcCe9BtWyyk35djkkyGipMNLTxKffVBd9N+Xy4AHcnDwD+G/gdJYBFDq/CwCqNRxBoDSLAe8BtwPLA+cRVLL5YDXSdrw0lIffAbsHMN9wOR4xy8Wo5q7yth4TKljpEu/wUR7Hp6JFrwW88q/RhXha7vB3+bAfwIlqgAeBP4R6PiSNkwVSRt+OnQQqVScASBJUgvEEM2A42M4KyrLZeIjLszy6aNDx0qfP/2S+OfHFqPalXEEPzwNzonCPhIgSVKH5wCAJEnNlE+e974KOJD+w1Zx6m3ljNkqdKz0+s8/4Iz96njn1TLglio4zFUCJElaPwcAlGbVJNM33weKgbNIarkqoBJYQgkKeZ4BI+rgd8AkJu9Rx0mzy+jRt70Pq6YsXUx87leK0VN3ZoBnsrDvj0r3SEAfoBb4sETHk9S2bMNKnUzoAFJAs0iqvo4KHURSq5xO0obHt/eBZsCudfAkMIkDvh9z+p+8+O8ouvUmOu2ODAedCvCJOniiBvYowZHLSc6/a0twLEntYyFwY+gQUilZBFBptjGwCridAAXEJG2wQSTL/91BO077roHDYrgxKstVc8J1Gfb7v4jICXQdSpSBzXeH4ZuRefyOirhY+MpUeGcOPNWeRwUmAo8BD7fjcSS1n82Ax4G/hg4ilYo9GEmS1iGGqAZmAifTo28d0+90ib/O4KUnYMZnCyz+bxY4b1M4+YsleEREkqTOwAEASZLWchFULIRrgC8ybGIt+TtzDBwZOpaa6903IP/pAq/+Kwvc0hO+drzLvUqS5ACAJEkNnQV9VsJtwC5suWeBk2/OUt0zdCy11IoPYdZBMU/dGZFM0d8vD++GjiVJUkgWAVSanY1FAKXOrM2LAOZh6Ap4CNiFPQ8vMv1OL/47q8ru8KPbIz51FMAU4K95aMtpHKuLAF7XhvuUVFoWAVTqOACgNHsXeJlk+RdJnc97tGEbzsMngEcimBgf9CP4zhUZsmVtsWuFki2Db10Kh5xJTLQJ8NAMmNxGe49Jzr+322h/kkrPNqzU8REASVLq5WF74A9EmT5862cRe38zdCS1tXuuhIuPiImL78fw2RqrfkuSUsgBAElSquVhGvDbOJurjr7/mwxT9g8dSe3l8d/BWV8oUrdqZQQHTIe7QkeSJKmUsqEDSJIUSh4+B/yW8spcVPPHLNt8OnQktachm8BmO0c8dHOGutov7QbPz4HnQseSJKlUrAGgNDsReBIYGjqIpFb5LkkbblUhzzx8FbiJ6p4ZznygjM2ntmk4dVCTdoMzH8jSvU8E/KYGvt7KPeVIzr/z2i6cpBJ7ErgwdAiplBwAUJr1B0aTdOIkdT79aGUbzsPhwNX06Btz9oNlbLJ9m4dTBzZuWzj7wTJ6DYhjuDIPR7ViLxHJ+TeojdNJKh3bsFLHGgCSpFSpv9j7Gb0G1nHWnBzDJoaOpFDmz4WTd6lj4fxsBMdNh4tDR5IkqT1ZA0CSlBp5+A5wMX0H13HuQzmGjA8dSSH16As7HpDhkVsLLFuyz1RYMgceDR1LkqT24gCAJCkV6i/+L6Tf0DrO/WuOjVpVOkBdTbfeMOWADA/fWmDZ+3vvBkvnwMOhY0mS1B6sAaA0OxyYDWwUOoikVjmEpA0PaWrDPBwLXEC/YbWc+1COgSPbPZw6kQHDYdZfsgwYXgDOycPxzXhXGcn5d2L7hpPUjmYDp4QOIZWSAwBKsy2AA4HuoYNIapXNSdpwz8Y2ysO3gIuivoPrOOcvOQYML0k4dTIDRySFAQeOKAI/rp8x0pgMyfk3pf3DSWonBwI7hQ4hlZJFAJVm1UAF8D5QDJxFUstVAZXAEqCwrg3y8A3gcvoOqeOcB532r6YteA1O2qmOBa+XRXDsdLikka37ALXAhyVKJ6lt2YaVOg4ASJK6pBr4egy/ovfAOs571It/Nd87r8KJUwosfCsTwRHT4YrQkSRJagsOAEiSupwaODCGX9Ozf5FzrPavVpg/D76/Yx2L/5uJ4JDpcH3oSJIkbShrACjN9gVmAf1CB5HUKvuQtOGBDf9jDXw2huvo1rvIWXO8+FfrbDwGznygjJ79izFcVQOfX2uLLMn5d0iAdJLaxizgsNAhpFJyAEBpNg04CegdOoikVplK0ob//yBeDUyNYTaV3TOceX+O4ZuFS6fOb9hEmHlfGdW9oiLRb2pgjwavZknOv7UHBiR1HicBXwgdQiolHwFQmg0juXP4DLAycBZJLTeUZBnPZ4EVM2DbAjwQlVdWcMZ9ZUy0OLvayL8fgx/uXmDl8lUQ756HR0n6UFsBi4F5YQNKaqWtSYpBzw0dRCoVBwAkSZ3eDJhUgAcyZbne8Wm/z7LlXqEjqav55/0w/VNF6lYtAabm4enQkSRJaikfAZAkdWrTYXgR7oqiTN/4ezd48a/2sfnucPLsDJlsL+DOPIwMHUmSpJbKhg4gBbQj8CngJXwEQOqMtu8DB0+Gn+ZgON+9MmLXL4fOpK5s6AQYNDqKH7mtRwz7/RMqVkA3fARA6qyOJHkc1EcAlBrOAFCaHQRcBgwIHURSy+Xgy4vgnA9hNF+bGbHHoaEjKQ2mfpXo8HOJYdQiOLsMvhM6kqRWuww4NnQIqZScAaA0exu4j+Q5zlWBs0hqgTyUj4RTx8LQjT97XFx2yExr2qh0Jk4hKhYY+OxfmAwfHgFX3wWF0LEktdhzwF3Aa6GDSKVih0mS1KnEENXAtcBXMjt8bkHxlFsHEPl1phKLY7LnH7y4MOfG3sBNwJfyUAwdS5KkxjgDQJLUqURwLnBU9213qeMHv32hkMkNCZ1JKRRFVE7Z59XqVx7tt/KN/2wG9J4DfwwdS5KkxjgAoDTbBNgSmA/UBc4iqRlq4P+Amqqxm9ZWf/+c3NPP/OuD7v2G98+WlYeOppSJ4yJz/3bn8oG77Nyr7KVnirXv/neHqbBsDjwcOpukZpsG9CR5LFRKBYsAKs2OAe4BBocOIqlpNXBQDOeVDxxSO/qC2bl77rqJa08/YML7C3x0U6VXLNRxVf7zw2ZfdzGjz/91pnzwiEIMZ+fhq6GzSWq2e4CZoUNIpeQMAKVZLUnxlweBFYGzSGpEHnYHbsn26BWP+/kdudygoWTLyoh7jH591BZ79spVVIeOqBTKRYUFU3bcqdvwCZPpteOemcV/urVYXLl836nw6Bx4OXQ+SU1aATxA0h+UUsGqSZKkDi0Pm8fwl0x5Rfexl9yWrd5sq///2vOL+j2+qpjdLmA8pVh1We0L43otmrD635e/8A/mHr1fobByxfIs8S6nwd9D5pMkaW0+AiBJ6rDyMAi4PZPJ9Bg584qPXPxLHU3VhMmMPOvKbJTNdCvC7XkfMZMkdTAOACjN+gOjgVzoIJI+7mzoAfwBGDn4+DMzPXfc8yOvf/D+Iha8/nxFoa42SD6lWxzHLHj9xdzihQs+8t97bL87Q793dgQMA+6cBb2CBJTUHKNJBpql1HAAQGl2GjAPGB46iKSPykNmOdwAbDXgoCPj/vsf9rFtbrnmQn5y1KTJC+fPLX1ApV6xUMu5R35izM/POfFjr/Xb72sM/OqxAJNXwI15KCt5QEnNMQ+4InQIqZQsAqg06wUsBO4ClgXOIqmB3eBi4Ku9p36mMOzk8zNEHy9Zs2zZB3xYV/3OJp/cr1tFVY/Sh1S6xTFL3pm3eOtttq8cO3GLj73cY5tdWPn6PFa8/MJYYNAc+H3pQ0pqwmCSpTsfDx1EKhWLAEqSOpQa+HYMF1WNn1Q79tI7cpmq9Vf4twigQlq7CODa4pUrmHvs/sVlzz6VAU7Iw/kljCdJ0sf4CIAkqcPIw74x/CTXf1DtmAtubPTiX+rooopKRp93faZ84+EF4Nw87B86kyQp3RwAkCR1CHnYCrguU9UtHn3Bjbls736hI0kbLNurD6PPvyGb7d4zJoqunQHbhs4kSUovBwCUZhcBMTAmdBAp7eqXS7s9ymS6jTzzirLK0eudVf3/XXVxnh/sU7bdgtefb/+A0loKdav4/qfKJ8w6+dAmt60YMY6Rs67KRplMVYHotjwMLUFESU2LSVabkVLDAQCl2b+Be4HloYNIaZaHauB2YOiQE8/J9Pjk1Ga9b+Nhoxk+Yfsl5ZXd2jWftC5RlGHkZjsuHTF202Zt332rHRl60nlRRDwY+F0eurdvQknNcC/wdOgQUilZBFCSFEwMUQ3cBBww4KAj48HHnd6i7yWLACqkpooArsv8n53OO9f9FJJBr/3zUGyXcJIkrYPLAEqSgolgJvDNHjvsURh+6kUZopZNTHt3RfWbhTgzpH3SSY3LZYrv9qtc0b8l7+mx9c6seOnZeOVrcycA1XPgnnaKJ0nSx/gIgCQpiBr4CnBK5ajxtSNPvzxLxjFppUAmw/D8pVHVmIkF4MQaOCx0JElSejgAoDSbDswDhocOIqVNHraP4YqyHr3rRv/417lMdcsfh7756guZ9fWRkxfOn9cOCaXGFepqmXnImDE/P+fEFr83U1XNqPNuyJb16V+I4bI87NIOESU1bR5wRegQUik5ACBJKqkzYBhwG2VluZHnXZfLDbIgutInt9FgRp1zTTbKlWdjoltPh1GhM0mSuj6LAEqSSqa+4v/DwOThp15En08ftEH7swigQmpNEcC1Lb77Fl6pOYaI+Blghzx82EbxJEn6GGcASJJKIk4Gna8FJg/8yrHxhl78S11B7/85gI0OPQ7gE8D1eftmkqR2ZMUlSVJJRHA6qyv+/+CCDNGGT0JzFQCF1JpVANalx1Y7seKlZ1avDFA1J1mbXJKkNucos9LsGJLllwaHDiJ1dXn4EvDDihFja0fMuCxLZsO/fu6+7Rp+fsJOE95f8NqGB5RaqFio42ffmzrs1788Z8N3FkXJygCjJxSA7+fhqxu+U0nNcA/JcrRSajgAoDTbBJgGVIUOInVlM2DrGH6Z6dajMPq863PZbj3aZL/zX3+Z1154tOeqFUvbZH9SS8RxkVeefajbq3Ofa5P9ZaqqGXnuddlszz6FmOgXebC2hdT+pgFbhA4hlZJFACVJ7WYmbFQLT0SZzJDRF96U6b71Tm26f4sAKqS2KAK4tqX/eJR5x+4fFwvF+eXE2/wQ5rfl/iVJ6eYMAElSu7gIKmrhVmDYkOPPavOLf6kr6jZ5e4aeeE4UEQ+uhdvyUBk6kySp63AAQJLULhbCz4Ep/fb7WrHf/oeGjiN1Gn33/Sr99z8MksdJ8WGfAAAgAElEQVQALg8cR5LUhbgKgNLsS8C3gceAZYGzSF1KTdK2Tum2+XZ1I8/4RZZM23/dPPzA77j96vNyQyfu2K2iqm3qCkjNVSzUcctPDi1bvvjtyrET2/4R4p7b7crSpx8trnr79S2mwpI58GibH0TSZcAo4PHQQaRScQaA0mwKcCTQM3QQqSupgT1i+HGu30a1I8/6VRlluXY5zovPPMU///KbgSuWLm6X/UuNieMif7//ht5PPz6nfQ5QlmPEzCsy5RsNKcRwbg3s2T4HklLtSGDv0CGkUrIIoNKsP8nF/+tAbeAsUpeQh9ExPJ7Nlfce+4s7s1XjJ7XbsT54fxF/f7X2H9032mRytp0GGaT1ieOYZW8/N2/TwYzp3XdAux1n+dznmHvEp4vFlcvfz8InfwQvtdvBpPQZTTIL9O3QQaRS8REApdkyYBFQDB1E6grOhW61cG8EI4fXXJrpse0u7Xq8isoqlpUPfy2Oyoa064GkdYiiiN59+rwzpE+mf3seJ9d3AJWjxkeL7r+jKoY9doNr5sCq9jymlCKLgA9Dh5BKyUcAJEkbLIZoKVwDTBr4tW/Te4/9QkeSuoxeu36aQYcdD7ApcH3e/pskqZWcAaA02xH4FMl0ypWBs0idWgZ+BHyr5w571A075ScZovZ/wuzFZ5/iL3/6bW3/4Z/oXVbuSmkqrTgu8tgdF9ZFqxZ1HzRkZLsfr/uWU1jx0jPxytfmTgAyc+CBdj+o1PUdCQwE5oYOIpWKI8hKs4NIqr+238ObUgrkYd8Y8hVDR9UOr7m0jExpvloevv933HXlySM/WDi/JMeTGioW6vjd5d8b9MdbryrNAaOI4dMviSpHjC0AP6yBA0pzYKlLuww4NnQIqZQsAqg02wQYBjwELA+cReqUToeJBXg0U1VdPf7KP5VVjBhXsmPPf/1lHnnmrReGbf4/E8oru5XsuBIkMwBe/dsdr08e3WvYyLGbley4K9/4Dy8dOq1Qt2zpyizx9qfBv0p2cKnrmQa8CzwdOohUKg4ASJJaZRb0WgGPR1E0btS510Y9ppR+lbLnF/V7fFUxu13JDywB1WW1L4zrtWhCqY/7waP38/L3vhJTLL5cAduekhQykySpST4CIElqsTxkVsANwPiNjjgpyMW/lFY9tt+djY/6QQSMWQmzZ1vTSZLUTH5hKM02AbYE5gN1gbNIncpucAZweO+pnykMOf7MkhT9W9v811/m73978oPu/Yb3z5aVl/z4Src4LjL3yd8vr4yX9Ordd2DJj99t0nasev3leMXLz49ZAFVz4J6Sh5A6v2lAT+Dt0EGkUnEGgNLsGJIO0+DQQaTOpCYpoHlK5YhxtcN+eGE2xMU/wN23XcO1px8w4f0FrwU5vtKtWKjjqvznh/3ml+eGCRBFDD35x1HlmE2LwIl5+HKYIFKndg8wM3QIqZScAaA0WwI8BjyOywBKzZKHzYHbst16ZMZeenuuLMCdz9Wqu/cgN2DSK8M/sZvLAKrkoiiiZ4+eb++8y64lWQZwnRlyOXrusEe06I+zC/HKlfvsDnc+4J1MqSXmA/fiMoBKEYsASpKa5UzotwoeJ8qMGv2TX0c9ttstdCSLACqoUEUA1/bh3x5m3ncOiCkWXyuHbX8AC0JnkiR1TD4CIElq0mzIrkqK/o3e+JgfdYiLf0mJ7ltNYchxMyJgxCr4TR7KQmeSJHVMDgAozfoDo4Fc6CBSR/ccnA3s1Xva54oDDz46dBwAPnh/EQtef76iUFcbOopSKI5jFrz+Ym7xwo5xs73/F75Bn70PBNgd+HHgOFJnMRoYFDqEVEoOACjNTgPmAcNDB5E6sjx8CTi+cszE2uE/vDBIxf91ueWaC/nJUZMmL5zvo5sqvWKhlnOP/MSYn59zYugoiShi2Mk/pmqTzYvAd/JwSOhIUicwD7gidAiplCwCqDTLAa8B9wPLA2eROqQZsGUMt2e798yM/dntubLe/UJH+v8KhVpWlA2YP26bfXqUV3YLHUcpVLvs3fe2++SU6lHjNgsdBYAoW0bPHaZFi+6+qVBcsWKf3eHuB+Ct0LmkDqwKeBB4OnQQqVQ6xm0cSVKHk08ek3kqymSGjr7o5kz3rXYMHeljLAKokDpKEcC1Lf3Ho8w79oBiXKh7Kwfb/BD+GzqTJKlj8BEASdLHXJbMkJkNDN/42zUd8uJf0rp1m7w9Q/5vZgYYWgs356E8dCZJUsfgAIAk6WPmw7nA1D6fPqg44KAjQ8eR1EL99j+Uvp/5MsBOwPmB40iSOggHAJRmFwExMCZ0EKkjqYGvA8dVjZ9UO+zEczrs98RVF+f5wT5l2y14/fnQUZRChbpVfP9T5RNmnXxo6CjrNfTEs6nedKsicEwNHBE6j9QBxcAfQoeQSqnDduykEngauAn4MHQQqaOYAdvG8POynn1qR51zTS6qqAwdab1GjN2U8dv8z8KK6p6hoyiFoijDxO0+/cGESduGjrJeUa6ckbN+lcn1HVAoEv10BuwQOpPUwdwE/DV0CKmULAIoSQIgn6yF/ASZ7OCxl9ya6TZ5+9CRmmQRQIXUUYsArm3ZM08y9+j9inGh7r/ANnlXBpCk1HIGgCSpYdG/oUOOn9kpLv4lNU/1J7ZhSPI4z8bAzRdBRehMkqQwHACQJDE/qYmxc9/PHBz33/+w0HEktbF++36Ffp87BGCHhXBJ6DySpDAcAFCaTQfmAcNDB5FCysM3gKOqN92yduiJ53aaR8NuvvpCZn195OSF8+eFjqIUKtTVMvOQMWN+fs6JoaM029Djz6Tb5p8sAv+bh2+FziN1APOAK0KHkErJAQCl2TJgEVAMHUQKJQ9TgEvKeverHTnrqlyUy4WO1GwVlVVUVvesizJ+lSmMqm49C5VV3ULHaL6yHCNn/jKT6z+oAFwwA3YNHUkKbBEWg1bKdJo7PZKktnUGDKmDJygr22jcz27PVH9im9CRWswigAqpsxQBXNuyF55m7jc/W4xrV70XwzY18FroTJKk0vC2iSSl0EVQUQe3AhsPO+m8TnnxL6l1qidswbBTzs8AAyK49XyoCp1JklQaDgBIUgothMuB7frvf1jcd5+DQ8eRVGJ99j6QAV/6JsDWS3wGWpJSIxs6gBTQMcCZwH3AB4GzSCVTA8cBJ3XbYvu6ETMuy3bWZ+jvvu0afn3xiT1Gb7lXRWW3XqHjKGWKhTp+efLUqkXvvFo+aasdQ8dplR7b7sKyfz4Rr3rr1UlT4cM58EjoTFKJ3QNMAO4PHUQqlc7Z65PaxnBga1wPWSmSh2kxnJfrP6h21JlXlkXZstCRWu29d97iv689W123akXoKEqhOC7y9n/+Vfn2m6+EjtJ6mSwjTr88Kh80tBDD2XnYO3QkqcS2BsaGDiGVkkUAJSklTocxdfBYpryi97hf3JmtGveJ0JE2mEUAFVJnLQK4thUvv8BL3/hUobBi+YdlxNv+CF4KnUmS1D6cASBJKXAudCvAbRH0G3HaT7vExb+ktlE5egLDp1+SJaJXHdyeh56hM0mS2ocDAJLUxeUhsxSuBT6x0dePo9fu+4aOJKmD6bXrpxl0+AlEMBG4Lm8fUZK6JIsAKs2+BHwbeAxYFjiL1G52gzxwVI8p0wrDTj4/Q9Q1nv56+IHfcfvV5+WGTtyxW0VVj9BxlDLFQh23/OTQsuWL364cO3GL0HHaRPctp7Bi7rPxylfnbgKUz0mK5Epd2WXAKODx0EGkUnF0V2k2BTgSpzqqC6uBA4AfVQwfUzsyf2mWTlrxf11efOYp/vmX3wxcsXRx6ChKoTgu8vf7b+j99ONzQkdpO1HE8OmXRJWjJxaAk2vgoNCRpHZ2JBa/VMp0jdtAUutUk6wA8D5QDJxFanMzYHIBHspWd68Yf9W9ZRVDR4WO1KZWrVzBP98q/1u2+4CtMhkntKn0ikvnvzRxwIpxlVXdQkdpU6veeo0XD5tWKHy4ZFUmjnc+DZ4KnUlqJ32AWuDD0EGkUuk6t4KkllsGLMKLf3VBZ8KAItyeyWSqRp71qy538Q9QXlFJt94D6rz4Vyjde/UvdLWLf4DywcMZedZVWTKZyiLcNhM2Cp1JaieL8OJfKeMAgCR1MRdBxSq4BRgx+DszMj223SV0JEmdTPetpjDk/2ZGwNBauDUPlaEzSZI2nAMASrNpwElA79BBpLa0EH4K7Nz3s18u9v/iEaHjtJt/PfVX/nT1qRsv++C90FGUQsVigT9dU9Pv0Tl/CB2l3fTf/zD6ff7rkNTM+Xnso6Pqek4CDgwdQiolBwCUZvsCs4B+oYNIbSUP3wG+UbXZ1nVDv3d2l/6Mf+rhe5kze9awpYvfCR1FKRQXC9z765kD5vzxptBR2tWQ786k+xY7FIGv18D/hc4jtbFZwKGhQ0il5Eiu0mwYMBB4BlgZOIu0wfLJrJa7cv0HxeOvvi9X1qd/6Ejt6r133uLxfy9+duDY7TcrK3d2skorjmMWvPTgK5OGV44cNGRk6Djtqm7xQl46fM/CqrffiIH98nBn6ExSG9mapBj03NBBpFJxAECSuoA8jAcejcoreo7/5V3ZyrGbhY5UEs8v6vf4qmJ2u9A5lE7VZbUvjOu1aELoHKWw4j//5sX/3btYXLn8wyiOd8jDc6EzSZJarktPD5WkNMgndSx+H0VR7xE1P0/Nxb+k0qkctQkjZ1yWyUAP4I6zkuXTJEmdjGsnKc22BHYGXgNWBc4itUoeyoA7gG02PvJk+n3ukNTM7Hpl7rM89tf7l/ceNLZvWa4idBylTBwX+ecD167MFd7v2X+jIaHjlETF8DFkKquiD574c98CfPJguOH3LqWrzu1AoC9JX1BKBWcAKM0OA2bj+sbq3C4E9uiz1/6FgV//bmou/gHm3HUTt1x4xNgl770ZOopSqFioY/aPDx9y2/WXhI5SUgO+cgx9PvVFgN3mJyuOSJ3ZbOCU0CGkUnIGgNLsbeA+4GmcAaBOKA/HAtOrJ25RO+qca8qibFnoSCXVu98Aug/fae7gTXZwBoBKLooiNho88s2pU6emZgbAaj2n7MkHT/6lWPvOW9tMhSVz4NHQmaRWeg64C2cAKEVSdbdIkrqKGvifGH5f1m9gvMnV9+fK+g4IHSkIiwAqpDQVAVxbYfF7vHjotMKqd96Kgc/n4fehM0mSmuYjAJLUycyAzWL4daaikjEXzE7txb+kcLK9+zHqJ7/JRpXVGaLo+jxsHjqTJKlpDgAozYaRrP/q3GF1GmfCgCLcFkVR7xGn/6KscszE0JGCee+dt3jlmQe71a1aETqKUiiOY1557pHKt998JXSUYCpHbcKomb/MEEU9gN/OtKaOOp+tgbGhQ0il5ACA0uxE4ElgaOggUnNcBBWr4FZg7MbH5qOeO+0VOlJQv7vxci4/aepmi/77n9BRlELFQi0/O2HXkVddnA8dJageO+zBkONmRMDoWrgtD5WhM0kt8CRJMV0pNSwCqDSrJSn+8iDgLUR1eJ+Eq4DP9Nvva8WNj/pB6mu4ZMvKiHuMfn3UFnv2ylVUh46jFMpFhQVTdtyp29CR40NHCap6s60pLHqPZc8/PRQY/wDcUhM6lNQ8K4AHSPqDUiqkvgMpSZ1BHk4DarptNaVu7AWzyyjLhY7UIVgEUCGluQjg2uJCHf85/svFD574cwY4Iw8/Cp1JkvRxPgIgSR1cDRwM5MuHjKwdNesqL/4ldThRtoyRs36VqRwxtgCcWgNfC51JkvRxDgAozaqBPtgO1IHlYZcYrsz26FU35sKbctnuvUJH6jBWrVzB0sULyorFQugoSqkP3383u2L50tAxOoxMVTdG/+TGbFnvfoUYflkDU0NnkprQB+geOoRUSl74KM1mAQuBUaGDSOtyOowBZke5XG7UOdfmygcPDx2pQ7nh8lnM/MrGW7335ouhoyiFCnWrmPGlweMuqDkmdJQOJTdoKKPOvS4blVeUxUS35CHdBRLU0S0EbgwdQioliwAqzXqRfPDfBSwLnEX6iDNhQB3cH8PwkTMuy/TYYY/QkTqcZcs+4MO66nc2+eR+3SqqeoSOo7SJY5a8M2/x1ttsXzl24hah03QouYEbUzlqk2jR/bdXRbDPXvDr+/yeVcc0GHgYeDx0EKlULAIoSR3MRVCxEO4Fdtr4qB8w8JDjQkfqsCwCqJAsAti4d274GfN/WgPwCLB73hV3JCk4HwGQpA4kD5mFcDWwU999v1r04l9SZzXwy9+i3wGHA+wAXDfbmaeSFJwDAJLUsZwLHNR9m53rhn1vlp/Rkjq1Id89nZ477BEDBzwHF4TOI0lpZ+dSaXY2FgFUB1IDRwPHV43d1OX+muGGy2dRc2AfiwAqiELdKk47oP+4n9R8K3SUDi3KljHijF9G1RO3LADH5uE7oTNJDVgEUKnjAIDS7DXgKWBl6CBSHj4Tw0W5fgNrR//kxlym2lWJmtJv4GA2Gr7ZsrLyytBRlEJRlGHQqEkrBg0ZGTpKh5epqmb0j6/Plm80pACcXwOfD51JqvcUMDd0CKmULAIoSYHNgE8W4f6osrp83OV/KKsau2noSJ2GRQAVkkUAW2bFf/7N3CP3KdQt/aA2C9NOg4dCZ5KktHEGgCQFlIfxRfh9lC2rGH3e9V78S+qyKkdtwqjzrstmcrnyItxxOkwMnUmS0sYBAEkKZCZsFMMfoyjqNzz/s2z3raaEjiRJ7arb5O0ZUXNZhkymTwHuyifrsEuSSsQBAKXZicCTwNDQQZQ+Z0OPWrgzglGDjzs96r3HfqEjdTq/u/FyLjh6880W/fc/oaMohQp1tZx/9JYjr7o4HzpKp9Nrt30YcvyZETACuDMPPUNnUmo9CVwYOoRUSg4AKM36A6MBS62rpC6D3HK4Gdhq4Je/Fff/4hGhI3VKH7y/kPfffb2iWFcbOopSKWbxO6/nFi18J3SQTqn//oex0dePA5gM3JqH8sCRlE6jgUGhQ0ilZBFASSqhfDLweg3wlT577V8YPv1nWSI/ilvLIoAKySKAGyiOeWPmcfF7d94YkSzF9uU8FEPHkqSuzBkAklRaFwFf6b7NznXDfniRF/+S0iuKGHryj6Me20+NgYOAS0NHkqSuzgEASSqR6fAD4JiqTSbVjjzrV2VRzqdPJKVcWY6RM6+IqiZMLgJH1sD00JEkqSvLhg4gBXQ4cArwF2Bp4Czq4vJwZATnlw8dVTvukt+WZ3v2Dh2p03vgrtnc/It81YhJU6sqqq0hptIqFuq4/vTPVXzw3psVEzb3KZQNEeXK6b3HvtGSB+8u1C1+b/fdYMEceCJ0LqXCbGAs8NfQQaRScQaA0mwL4ECge+gg6try8AXg0rI+/evGXHxLebZ3v9CRuoRX5z7Hi0/e3XflsiWhoyiF4rjI84/f2eOFf3md2hay3Xsx+sLZ2Vz/QQXg4ho4OHQmpcKBwE6hQ0il5MOnktSO8rA38Nts917ZsZf9Llc5apPQkboUiwAqJIsAtr2Vr77E3KP3q6tb/F4ROCAPvw+dSZK6EmcASFI7ycP2MdycqajMjblwthf/ktSEihHjGH3BjWXZquosRLNnwM6hM0lSV+IAgCS1gzxsDtyVLctVjjrv+mzVxC1CR5KkTqFq/CRGnf/rbJTLVRSJ/pBPHtmTJLUBiwAqzfYFDgP+DiwPnEVdSB7GA3OiTKbPyDOvzPbYfvfQkbqkpx6+hz/MvjQzePx2Pcoru4WOo5QpFgvceflx0aoP3qkeNW6z0HG6nPJBQ6kaPyl6//47csTFA3eD382Bd0PnUpczCxgGPB06iFQqzgBQmk0DTgIsx642cwaMAO6Loqj/sB9dnOm5896hI3VZ/3rqIR6/87KNly15L3QUpVBcLPDwHT/r99if7wwdpcvqueOeDJ9+SYZMph9wXx5Gh86kLuckkkK9UmpYBFBpNgwYCDwDrAycRV1AHgYDDwKjh37/XPp97pDQkbq09955i8f/vfjZgWO336ysvDJ0HKVMHMcseOnBVyYNrxw5aMjI0HG6tIW/v4HXzjyeiPiVMtjpVHgzdCZ1GVsD7wNzQweRSsVHAJRmS4D5QCF0EHV+Z0K/AvwZGDf42zX0P/B/Q0fq8qq79aCu54RX4kz5kNBZlD5RFDFgo8FvjxhQ2T90lq6uavwkynr14YNH7utdhM/sBrPnwNLQudQlzAcWhg4hlZKPAEjSBjoT+q2C+4EJg444iQEHHxU6kiR1Kf2/8L9s/K0fQVJj5b4zYUDgSJLUKTkDQGm2I/Ap4CV8BECtlIfeBbgH2HLgIccx6Ijvh46UGi8++xR/+dNva/sP/0RvHwFQqcVxkcfuuLAuWrWou48AlEa3zbeDOGbp3x8ZWIC9/gdu/H/s3Xd4VFX+x/H3nZbeIdTQO9IUsFBExd4b6lrW3nXXtbu7OoioWFdd609dde26qyt2QVGxYAGUIiq99/SQZMr9/XESkkAakOROZj6v55lnJpk7d76Zm3vmnHPP+Z7pUOp0XNKqXYyZDqopABIzNAJAYtlpwJPoKoLsJj+kAh8C+7Q97WK7w6W3OB1STPn606l88OxN3Qq3rnM6FIlB4VCQqU9d1/7D/z7ndCgxpf2FN5B91lUAQ8rgE78S+cqeeRK40ukgRFqSRgBILFsPTMcs/VLucCzSykyBlKBp/O/f5qTz7E7XTLawlFe1JaVntSW5y+jFHfvun+nxxjkdjsQYy7Jo17HbmoMOOii1TTuloWhJKcPHEC4uoGTBjx2Bg46E16bpe1x2z0LgA2Cl04GItBTVVkVEdtEUSNlmKgyjsk48J9z52ikuXBpQ5YRfcrO+Kw+7Rzodh8SmRE9gUe+03H5OxxGTbJs1//gbm994GuDbeDjiJpPNXURE6qEaq4jILrgXkrbBu8CozBPODne+7h41/kVEWppl0enPd5B10rkA+5XCRxXTskREpB6aAiCxrC8wDLMETNDhWKQVmAIpJfA+MDbz2DPDOTfe59Kwf+esW7WUObN/KEzO6tLG7fE5HY7EGNsOs/iHd7fF2wVp6ZnZTocTmyyL1P3HEyzIZdvCOZ2BQ8bBmzOUGFAabzym42i904GItBRdtpJYdgUme3tHpwORyHc3pG0zc/7HqPEfGT56+wX+PenkfvmbNHVTWl44FOQ5/4k5rz59r9OhxDbLovM1k8k6+XyAkTZ8rMSAsgs+ASY7HYRIS9IIAIllAUzyly/R1QKpx12QUWbm/O+fdcI5pvGvYf+Oc3s82Ck9VnUfemiaNy7R6XAkBnmt0KYDRo1O6tytj9OhxDbLInX/QwiZkQCdgPHj4D8zYJvToUnEKwU+w9QHRWKCLl+JiNTDD5nANGBYm1POD3e65k5d+Y8gSgIoTlISwAhj26z9p59NrzwB8BMw3g+bHY5KRCSi6BKWiEgdJkM74FNgWPYZl9lq/IuIRDDLouNVE8k+508AQ4DP/dDe4ahERCKKpgBILGuDqRgUAWGHY5EI44fOYTMscGD2H/9Mh8v/bqnxH1kK83NZsnLDZm9iRnuXS19n0rJs2yZ/7aL8FE9JZnxCktPhSDUpw8dgYVE05+u2wAnj4Z1PtUSg1K4HEIepC4rEBI0AkFh2K7AE6OJ0IBJZJkF3G74A+nS4+Ca7wyU3Ox2S1OI/LzzEg5cOGrJ13WKnQ5EYFA4FuPfivXo+cc/1TocitWh3wXV0vOJWbKxeQTMSoJfTMUlEWgI843QQIi1Jl0wklqUBWzHJ3UocjkUixO0wsOLKf5fO19xhtT3zCl32j1AlJYUUBRM39t33+KS4hBSnw5FYY9sUbFySt8/w/eJ79R/qdDRSi6TBI/FkZFHw9fR0CyaMg09mwAan45KI0hH4GvjO6UBEWooqtiIiFfwwEvgAy5XR+cb7rKzjznQ6JGmAkgCKk5QEsHXI/fANVt1xtW2Hw/kuOOpW+MbpmEREnKIpACIigB/GA9Mstzu96x1PqfEvIhIlMo44la6Tn7Esrzc1BJ/44TCnYxIRcYo6AEQk5k2EU4F3Xb64hB73v+JKP+hYp0MSEZEmlHbgUfR44FWXOz4hHpg6Ec5wOiYRESeoA0Bi2cOADfR0OhBxjh8ut+FVd2Kyq+ejb3uSRx7odEjSSM894ueWoz0jN636xelQJAaFguXccKSv3903net0KNJIyfuMpudjb7vdqekuG16cCFc5HZM4zgbeczoIkZakDgCJZb8C04BtTgcizvDDJOBRT1b7YO+nP/QmDtzb6ZBkF3TI6UGXfvsV+OK1BJu0PMty0W3gqOKuvQY4HYrsgsR+Q+n91Pseb3bHsA0P++FOp2MSR00D5jodhEhLUhJAEYk5fvAAjwMXxnXpWd7zoTd93nYdnQ5LdoOSAIqTlASw9QpsXs/SP00IlS771Q38uwNccAkEnI5LRKS5aQSAiMQUPyQD/wMuTBo8MtD7/95X419EJMZ427Sn95PvupOHHRACzl4H700BrScqIlFPHQAiEjMmQzvgC+Co1AOPDPZ8+E2vOyXd6bBERMQBruRUevzjNXf6IcfbwKHb4Eu/WRdeRCRqqQNAYtltwBKgi9OBSPO7HQYGYBYwrO3pl9jdJz/rsXxxTocle+DN5x/i7j92G7J13RKnQ5EYFAoGmHxOz55P3HO906HIHrC8PrpOfMLK/sPlAEOAb2839xIblgDPOB2ESEtSB4CIRL2JcGgYZmK5unS6ZjIdr77dwqXiT0REAJeLDlfeRufr78FyuTqH4Qs/HOV0WCIizUFJAEUkqvnhUuARyxdHt0lPeVLHHOF0SNKElARQnKQkgNGn4JtprLjlglC4rBQLrrkNHnE6JhGRpqRLYCISlfzg8cPDwOOe9Cy7z9MfqPEvIiL1St1/PL2f/tDtbdPerlgm8LGKlWNERKKCOgBEJOr4IRV4B7gqoffA8j4vfOqN7zXQ6bBERKQViO/Znz7/+tiT2G9oCLgMeNcPmU7HJSLSFNQBIDyAvusAACAASURBVLHsCuATlPE3qvihDybZ35HpBx8X6vXkez5vm/ZOhyXN4KO3X+CJa0f3y9+00ulQJAaFQ0Eeu+6gnFeevsfpUKQZeLLa0euJd9wZh51kA4cD3/pB0z2izyfAZKeDEGlJ6gCQWNYXGA8kOB2INI2JcCQwy4Z+7S+83u466Sm3K16HN1qtW7WUlYu+TS0vLXY6FIlBth1m+YKvklYsXuh0KNJMLF8cXW57zOpw6S1YltULmDURjnY6LmlS44GhTgch0pKUBFBEWj0bLD/caMFkKy4+3HXiE560sUc6HZa0ACUBFCcpCWDsKJj5MStuvSQULi2xgNtug8kW2E7HJSKyq9QBICKtmh+SgeeAk70dcsp73PeyL757H6fDkhaiDgBxkjoAYkvZ8t9Zev2ZwfI1KzzA/4Bz/FDgdFwiIrtCUwBEpNWaZKZxzAJOTtn3oGDf56er8S8iIs0irltv+v5rmid19BFh4Hjg+9tBGWZFpFVxOx2AiINOB67CNCBLHI5FdtFEOC0M71qW1bHdeddaOTfd53LFab5/LPn6s6n87/n7vJ37j0qKS0hxOhyJMeFQkP88eK5nW976+F79NYU4Vli+ODIOOd6y3B6K5nyTGcY+9yBYPgPmOR2b7JYnge7Ad04HItJSNAJAYtkBwMWYJeOklfCDzw8P2/CqKzEprtt9L1rtL7oBXOrPjDW/zf+Rn794Nbu0OM/pUCQG2XaYOZ++nD73uxlOhyItzeWi3Xl/oceDr1ie5NQ44CU/POqHeKdDk112MXCE00GItCTlAJBY1gbT+F8FBByORRphEnQPwmsWjEjoPbC8+5QXfN72nZ0OSxxSmJ/LnBWBn5Lb9R3i9nidDkdijG3blKxfuGRAR3qmZ7Z1OhxxSGDDWpb/9fxgycI5HuBH4HQ/LHY6Lmm0HphRoOudDkSkpeiSmcSyEiAXCDsdiDRsIpwchvcs6Jl10nnhbnc+43GnZTgdljgoLj6BEl+Xlbbl6eR0LBJ7LMsiPSNjY6cMVxunYxHnuJNTyDrqNFeopJiSBT92tOGPFVMC5jsdmzRKLlDkdBAiLUkdACIS0fyQOA4eBu6x4hM9XSc+7so+8wrLcqv4EthcmrgmZLvUASCO8LrCm7PiS9UBEOtcblL3O4iE3ntR9M10jx0onzAOuhwN0z/RCEMRiTCqQUssGw+cCiwASh2ORWrhh8HAB8BRCX0Hl/d69L/epMFa8U2MeT/OZNo7L4azewxL88YlOh2OxJhwOMSMl/x2eNvmpM7dtPqIQHzX3qQfeqJr24IfQ4FN6/YJwEkHw8zPYIPTsUmdbgQ6AgudDkSkpSgJoMSy44C7gSynA5GabLD88GfgOyxrYPaZV9i9n/7A5+vY1enQJIL8+PU0Zrx+d05x3kanQ5EYZIdDTHtlctsZH77hdCgSQXwdcuj5xDvuduf9BSxX3zB854frbOXdilR3A+c6HYRIS1JhJLGsL5ADfAVsczgWqXAHdArCc8B4T2Z2edfbn/Al7z3K6bAkAq1btZRv5q9dlDP48H6++CSnw5EYY9thVsx+Z9WQHmk53XppKXjZWfFPs1h+68XB4Kb1HmC6B877m0k8LJFjPLAZmOt0ICItRR0AIhIx/HA68BiQkXbwsaGcm+53u5PTnA5LItgvuVnflYfdmhcijkj0BBb1Tsvt53QcErlCRfmsufdGO/eTtywb8i242g8vOB2XiMQudQCIiOP8ZknGx4FTXIlJgc433OfNOOwkp8OSVkAdAOIkdQBIY+V/+g4r77omFC4ucgNv++DiW2CT03GJSOxREkCJZcOAMcBKoNzhWGLWRJOI8X1gRMqIsYGeD7+pRH/SKMsXL2DWzE+3pbfvlenxxjkdjsQY2w7z82f/LvOG8lPbtNNCFFK/+O59yTr6dFfZsl9DZauXDQjBeQfBai0X6LhTgUxMXVAkJigJoMSy84DXgXZOBxKLJkMHP7xhw+tWXHxG5xvvo8dDb3i9bTs4HZq0EjM+eIP/PHRRr4Ita5wORWJQOBTk9fvP7/T2S486HYq0Ep6sdnR/4BV3zi0P4kpMSrfhZT+8dQeoB8k5rwM3Ox2ESEvSCACJZQXALOA7oMzhWGKGH1zj4Lww/BcYnjx8TKDXQ294k4ePcTo0aWUSk1Pwth20vMte49I9vninw5EYY1kWqSmp68eMPTC5faduTocjrUhCn0FkHjnBVbrs11D5muUDwnDeOMgdB3NmgO10fDFmHTANWOx0ICItRTkARKTF+KEX8CRwsCsxKdDp2ru9mUdOcDosacWUA0CcpBwAsqdyP/4vq++7MRguKvAAM9xw6d/hV6fjEpHopREAItLs/BB/kBli9yrQO+2Q44K9/vG6N2nQCKdDk1Zuc2nimpDt0vBZcYTXFd6cFV/axuk4pPVK6NmfNsed7QpsXhcuXfJLdxsuHgfe42DWRxB0Oj4RiT7qAJBYlgP0BrYCIYdjiVoT4XDgXeBkX/vOoa63P+lpd86fXK74RKdDk1Zuy8a1LPjlt7yEtPbZLrfH6XAkxti2zdpfvypKchWlJ6emOx2OtGKu+ATSxh1tJQ3el5J534dDhXkHl8EZB8GSGfC70/FFuX2AJExdUCQmqANAYtkdwDPAc0Cuw7FEnTug61h4GrgTlzu93Tl/ouukpzzx3fo4HZpEidefvZ+XH7wye9C4M0lKa+t0OBJjwqEA95/fM33zhjWMHn+C0+FIFIjr1JXM485yuzxein/+Ls22w2eOg6GHwHefQZ7T8UWptZjpiS87HYhIS1EHgMQyL2bZl0+BbQ7HEjUegIT94baw+TIdnDx8THnPB17xpB18nGV5vE6HJ1EkFApQ6mm7rvfwo1N88UlOhyMxKFCyecvIfQ9I7N57oNOhSJSwPF6S9z6AjMNPtspWLQ2Vr142wIZLx0HSOJg1Q8sWN7UE4EtgrtOBiLQUJQEUkSZhgzXRrKd7D9DV27ZDWafrpsSljTnc6dAkiikJoDhJSQCluRV+/QmrH/hrefnaFT5ghQU33wqvWlotQER2kzoARGSP3Q77huEB4ACXLy6Y/cc/e9qecRmu+ASnQ9vJ8sUefpgZx4K5XlYu9ZCf58LrtcnKDtNvUIBDj9tG370Cu7Xvu25M47sv47b//Mr0TcQnNE0dbfVyD9PfjWfOLB9bNropK4PMNmE65oQYPLycMYeWkpUdrvGa0m0WZxzSuKHxx0wo4YI/F9X63G8LvLz6TBK/zvcSDECXHkGOO30bYw4trXefa1a6uebsTOLi4Z+vbiEtI1zv9rsj2joAykvhzlMbt+1+x8ERF9W/zbolMGsqLJ8HRbngS4DsLjBoHAw7FFyuul+7+leY8QqsXgShAGR3hf1OgEFj63/PzWvgiavAGwdXPgFJaY37e1qjpuoAULlUu9ZaLjU1u6yUja8+ycbnHwyFS7e5gVkuuP5Wc+VaRGSXKGuSxLJEIA7IByK/BhCBboeBYZgchuOwXGQec0a4w8U3eTxZ2U6HVqvbrk7n5x98O/0+FLRYs8LNmhVupr8bz/hjt3HpDYW4d2GS1JefxNeoZDcV24aX/y+Jt15MIrRDPugNa91sWOtmziwfCYk2h5/Y9DNZfvrOxx3XpxEMWPToEyQh0WbRfC8P3OZl4zoXJ59TUudrn7gnhUDA4qJrC5ulkl1eVkpx3iaPO7ktLpdmtO3o67dg2nMQrvbRBwOwfL65zZ0OZ94Gtc2eWDIXXp4IoSB06AG+RNMR8J97IW8DjKmnk+LdR837HHVpdDf+AYryN7tLfaXEJ+z+FBSVS7suksul5mDFxdPuj38i67gz3Rv+b4q95Z0XR4bD4c/98B7wVz/87HSMrVgGEABq72kSiULqAJBYdjdwFSb5yxKHY2lVboMuFtwShgsBd8qIsYGOf5rkje/RL6JHFW1cZ2rOWW3D7HtgGX33CpDZJkxRgcWvC7y8/2YC5WUW06YmYFlw+U2FjdpvQZ6Lpx9MBqBdxxAb1jZdY/TxKSl88o4ZSdG2fYjxx5bSq1+A+ESbglwXvy/08vVnDVfwjz2thNHjy+p8PiNr54pwKASP3pVCMGBxxkXFTDivGIA53/qYdG06Lz+VzAEHldEhZ+dFND59L575s30MGBJg/LHNk2Lj5afu5n+vPL73FY8tpG1O/2Z5DyftdzzsNabu55Mz6n5uwUz4+FnzOKsTHHI2dOgFJQXwwwcw5xNY9Qu8fhecc0fN14ZD8M7DpvF/0Jlw4Onm94t/hJcmwmcvwoBRkNVx5/edO92MNug60IwwiGahYDmTTu/Ye9+xR3LT3c/t9n5ULkVXudScPBlt6HTDvVbWqRex9p/+UOE3048BjvSbZMZ3+GG50zG2QluB94GjnQ5EpKWoA0Bi2VzgDdTr22h+aA9cB1wBxMf16Ffe6eqJ7pSR41pFdr/eAwKcd3URI0aVYe0w9Hm/cWUcfsI2/npZBls3u5g2NYFjT9tGTveGl2F+6v4UCvJcHHJ0KYEgTVbRnvFh/PZK9gEHl/HnWwvw+moO3d1vXBlnX15EWWn9fS9t24fpM3DXhhAv/MnHpg1uUtPDnHRW1RW1YfuVM3TfcuZ86+OLj+M57YLiGq8ryHPx3D+T8XhtLr2hEKuZuoW69hpAn+GHb41LTM1snndwVnpb6Nx3118XKIePnjaPU7PggnshMcX8nNEOOvWGhGQzQmDpT6azYODoqtevWAD5m8zV+9GnVP2+1z7Qc2/TETDvcxh3Rs33LSmAj58BtweOuYJmO+6RwrJc9B95VGG/QcNT9mQ/Kpeiq1xqCfHd+9Dj/pfdRT98ybrH7wiX/DL3AuBsPzzhhbv/CuucjrEVeQOY43QQIi2pntl/IlHvWWACsMHpQCKdH7L9MAWzHvG1vo5dXN3ufIZ+L37uSxk5zunwGu0vEwsYOWbnSnal9p1CnH6hqTTaNsz+dudhuTua9UUcX02PIz0zzLlXN+7KXGMEAhb/ethcvevcLcg1t+1cya4uLr7p80GtXGIaDN37BPF4a+6/stK+YsnO/cjPP5pMYb6LE84saVRDZXcddOQEzp343uLUrE7N9h6t0S9fQcEW8/igM6sa/9UddJbpBAD49p2az21cYe7bdzeN+eo6V6ziubGW64wfPwslhTDqJGibs/vxtxYut4fzJr695oQzr9ij/ahc2jWRXi61pOThY+j9zEfebnc/R1yXnhZwdQAW++GBO0FrozbOBOAup4MQaUnqABCROk2GdhUN/yXADb4OXbxd/vYw/V+f5Usbd4zT4TWL6om2tm6uv4gsKrR44l7TurrwmkKSU5qusvvV9DgK8sz7n/rHkp0qui2hrMxcIktK2vm9k5LtGttUWjDHy6fvxdO+U4gJ59Y9D1eaz6Jvzb3LDQPrmELg9UH//c3j1YtMgsBKgYoR2XG1TGuvzBcQ2GHUdmVOgcwOMPa03Y9daqdyqYrKpZ2ljT2Sfi/P9Ha57VHiOnf3AteUwTI/PFAxck9EZDt1AIjITvzQzQ+PBGAZcIO3XUdfzl//Qf/Xvo7LOOq0+lOHt3KF+VUVx4Yqzs/+I4W8LS5GjC5j1CF1z2PdHd/PNPNn3W7Y98CqfYeCUFxkYe9Gvbsw38Wy3z2sWuahuKjh8a+paeZNtm7Z+XjnVvwuNa1qjm4wYPH4lFQALr2+sN4rg9I4JYWwfilsWgWlxQ1vD7Dmd3Pfvjv44uveLmeAubdtWLu46veJFYn7irbu/JrCio6CxNSq34WC8O4/zeOjLwdPwxeoZRepXKqicqkOLhcZh59C31dmervc+k/iOnXzAdcAy/3whB+6OR2iiEQG5QCQWDYFuAjYB9PQjXm3w6Aw3ACcBnjjOncva3/B9aSNP95n7TgWOEp9/VlVi2ngsPI6t5v9jY/PPognMcnmkuuabohtpd8Xms+7a68gvjibj95O4MP/JrBiiQfbBq/Xps9eQQ4/YRujx5c2OJ/11WeSePah5O0/WxbkdAtyyDGlHHnytlorxf0GmauOi3/xkLfVRXpmVaX6+5m+GtsA/OeFRNasdDP2sFKGjKz7s2sqLz91N++8/vTeFz/wA1md+jT7+7W0Ga/Ah09X/WxZZmj9sENhxFG1N7QDZVCw2TzO7FD//qs/v3k19BlhHudULGq35ncoyoPk9KrtfvuuYptqORe/fMMs/TfoQOg5tHF/WzQIBcu59bS2vUeOOZRrbnusWd9L5VKVSC+XnGa5PWQccSoZh53kzZv+Dhuevd9VuuL3S4AL/PCqC+67FX5yOs4IshX4BFPvEYkJ0XsZT6Rhm4GlmOVfYpYNlh/G++HDsKkUnJXQZ69w18lP0+/Vr+LSDz+ZWGn8r1ji4aO3TXKr3gMC9B9c+79GSbHF4/eYIbZnXVa00zrXe8q2YfNGM8+1TXaIO29I44l7Uli+2LP9ClsgYLFgjpcHbktlys1pBAL117RLdriyZtuwcpmHfz2SzPUXZLBpw84Jwjp3CzJ0ZDnBgMX9t6aybrWbvK0unn4whdXLPaRlhBlzmFlze+1KN/95IZHkFJvz/9QyeTVT0jJJa5NT5vK0ihyUu2zHK/62DRtXwkfPwP9daxL17aikgO3/I/WtEgA1G/YlBVWP2+ZAz2Hmqu6b98DWdaYj4IOnzEiEpDTT2AfYsgZmvmHyCRxx0a7/ja2bRXp2TiAjs3mXPVW5VFOkl0sRw+Um/dAT6fvSF95udz5LYr8hNnBWGOb44eOJcLhf7QAw9cD1Tgch0pJio1YvUrt7K24x6QFIKITTJ8JfgL1sIHXkQeXZ51zlS957VNMvHB3higotptySRihormJddmPdWaKf/2cymze46Tc4wBHNsMZ1SbGFXVF3n/2tj2DAonO3IH+8opiBw8pxuWDRPC//fjyZJYs8zPoijmf+kcyl1+98xW/AkACjDy2lz4AAWdlhUlLD5OW6mPejj//+O5FVyzysWOJh0l/SuP+5XLw7zOm9+u8F3HZ1OvNn+7h8Qtb23ycm29xwZz6JFfNwn7h357W1C/NdfPZBPCuXeHB7bPrsFWDsYWU7vcfuOva0i+l12M0LysPukU2ywwjRdSDsNRY69YHUNqZxXZwPy342je1Nq2DDcnjxNrjkIaje/1FeWvW4oaH4nmpnedkO06JP+DO88DezpN/DF1f9Pj4JJtwMcYnm53cfg2AAjrzEdAyAmbbw06cmUaDLY1YyGHRgzTijgdvj5S+Pz1neOy23X3O9h8ql1lcuRRyXi7RxR5M27mhv8U/fsvGFh8P533x6KNiHAvMnwj9t+Lcfoi85QuMMdzoAkZbWihdBEZHdMQm6h+BSGy6wIMvyeEMZR5xC2zMud8d3j75h1I1RXmZx+zXpLJhrWiiX31TIocfVXoGe96OP265Ox+2xefD5XDp3q5lN+sGJqXzxkRmu+8r0TcQn7HqlsqjAxdlHtNn+c5t2IR58Ppfk1JpX9Eq3WdxwYQarlnmwXPDoK1tqXfu6LoFyi8k3pPHTd6aleP6fijj2tJ3rgIGAxRcfx/HrPC+hkEVO9yAHH1VKarqJ57MP4nl4Uir9Bge48/FcLAt+W+Bl0rVpFBXUvMCU0z3IxIfzal3fe3f8kpv1XbR1ANQnWA6vTIIlc83PR1wI+x1f9fymVfDo5ebx6FNg/B/r3lfBZnjgPPN4xFFw9GU7vFfALPe3epEZDZDdFYYcXNXQ/+lTeOtB6NIfzptihm+v/hVemgjbdmjztc2Bc+6AlChbsDHRE1jUXB0AKpdab7kU6cqW/86m1560c99/LRwOlLsxw+CfdcMTfzdJf0Ukimnoj0gMeB3cE+FoP7wTMkv53eBNz0zpcOktDJw6z51zyz9itvEfCFjcfXPa9kr22ZcX1VnJLiu1ePSuFGzbZMDesZLdVBISa1ZCTzyzZKdKNkB8gs2E80zF2A6bpb92hddnc/XfCrYv9TZzWu2v93ptDjm6lMtvKuSqvxZwwh9KtleyiwpcPPdIMm4P269Olm6zmHKzqWQffsI2nnlnM4+9voWBQwOsWubhodtTa30faZjHBydcU7U83/wvaz5fPelfsIHpztUz+Vde0a/xXl4YNh6OvdKMCDjgxKrG/7ZCs+yf2wPHXGka/+Wl8Nqd5rnhR8C1z8PVT0HXvUzHxFsP7vrfG6tULqlcak5x3XrT+cb7rAFT57k7XP53vJltU4DrQvC7Hz70wzF+jRIWiVrqAJBYdj3wA9DZ6UCay23QxQ8TF8IyG94Fjk0aun+o253PMGDqPF/2OX/CndbAROEoFghYTLkpjTkV62qfcWExJ51V9yjIN59PZMNaN126Bzn5nEamZN8Nbg/bh7ACDBxWd5qK6gnBVi7d9fpaZpswvfoFdvv1zz2STEGeixP+UEKXirW1Z06LZ+tmFx1yQlxyfSGZbcJ06Bzi2kn5uD3w0/c+li/e87rl1Nee4h+XDR6YuyG2cnimZELHXubxxhU1n0tIqXpcfWm/2hTl1f66xvj4WTMt4YATIbuL+d38L6FwK2R1NKsBpGSaRIOnXG/+p5fONVMXokUoGOCBy4Z1e+4Rf5PuV+VS6y6XWhN3ajrZZ13JgHd+8na/598kjxgbsizrMGAqZvWA22Ng9YAfgIecDkKkJcVWSSdSUxugBxBVM1PvhaRiOBE4FzgYsNxJKeVZx51lZ51wjuXL6aFFuqioZN+cxo/fmI9jwvnFTDi//srz+jUmIdXKZR5OGdtw4q8zDmkLQFbbME//b/Muxde5W5DfFph/zeSUuoelVl8SbFvJ7s3qqrxqVrrNzPG1Gtk1vGCul0/fj6ddxxATzqv67Bb9bOIeObqsxnzljKwwfQcGWPiTl0U/e+nWa8+uVBbmbyV/86q4cDD28nhWLsNXXmoSp1V+zr54SGtrEgRuXVf/PnKrpb1qm9P4914xH+ZOh4z2MPb0qt+vWmju++5LjeOekmnyAKxYACsXQruoaU7Y5G1c5c3durHJ9qhyqUprLZdaJZeb1NGHkTr6ME/Z6mVsfedFtvzv39mhwvy/A3/zwwzgWeBtP0RbNsUeaNqDxBh1AEgsu7Hi1upVZPIdB5xZDKcAqVguO3mfUYE2J53rSx11uM/yRlU/xx6pvMJWWck+9dxizriw+a6c7Y4+AwPbK9oF+a46M3rn51bVipMaWB+8LpvWmwZEcord6Ep25dratg2X3lCIL67qvfPzTO06o83OMWe2DQFeCvL2fADaHy6+iWGn3js7lnIAVKpcASAhmZ2SwnXsbZ7fsNx0EFSfFlDdygXm3rKqRhQ0JBSEqY+aTodjLgdvte7E4nxzX9vqA5Vz/6uvNtDauT0+bv/P5t+bKgeAyqWaWmu51NrFde5Oh8v/TvuLbvIWfP0JW/7371DhrBnjsMMHAYV+eAt4fgB8PgEan9whckVZZhKRhqkDQKQV88NI4AxgAtARwNe5e2nWcWeRccQplrdNe13t30EgYHH3TWnMrqhkn3JuMX+4uHGV7HMuL+aks+tPlPzSE8nbK/B3P5WLL87Gsxsl7f4HlfHu62Zi9k/f++jeu/arUj//UNWxUzlkdlcsX2yybYNZYqyx/vtiImtWuBk9vpShO6ytHVfR4NxxiS+A4iJTwa5eMZdds35Z1VD6TrWk7ui3H/zytWmsL5hp5vHvKFgOv3xrHnfu1/CSgZVmvgmbV5tVCnoOq/mct2Kq9o4rCgCUVvyuoZUJYpXKpZpULjnP8npJO/Ao0g48yhPcsoGtH/2HrVNfiitbsfgc4JyFsNEPrwOvAN/6ITYyKIpEAXUAiLQiNliTYHgYJthwMtAdwJ2SXp551AQ747CTrYT+Q+u43ieVV9i2V7L/WMyZjaxkA7RtH6Jt+/q3SaqWFKtrz2Ct2baDAYvvZpoY0tLDtc6l7T84QK/+ARb/4uXtlxIZe1gpmTtcuSoqcPH6v5IAiIu32W9cWY3nF8zxMmBooM5lwzatd3Pf39K2r+F98NGltW+4g3Wr3Lz5fCJJyTYX/Hnn0aBdegT5anocv/9Sc9RJMGCx7DfP9m1kZ8vnm2UA6zpmeRvhzSlsP2ZDa2ncDxgF05+Hgi3w2UvQb9+d5/h/9nJVpv59j21cbFvWwpdvmKUAj7ho5+ezu5oOhzW/1/x9KAjrl1RtIzWpXKpJ5VLk8WS1I/sPl5P9h8t92xb9RO4nb5H74RvpwdzNVwJXYvIFvOWC18LwvToDRCKbOgAklp0PHAFcBWxwOJY6+cEHHACcNBFOAHIAPEkp5WmHHBfOGH+iK3nvUT5cGrrYkHtuSd1+FWzYfuWMGF2+fThrbZJTwnTs0vQjHEuKLe79q0mnPnBYgDse3Tlbm2XBJdcVcctl6eTnurjxogxOv6CYAUMDuFzw63wvrz6TxIa1Zpjs6RcWk55Zs871oD8Nt8dmxOhyevYLkNU2jNdrk5/rYt5sH5+9H799fu6I0WWMOqRxFe0n7k0hUG5xwZ8Ld3pPgDHjS3ntmSTmzvIxZ5aPYfuaK3FvvZRI3lYXGVlhBg/f83n7n33wOh9+8G6vY658htSsTnu8v0jw3/vA5Tbz6Dv2gpQsk42/OA+WzYOfpkNZRTL4viNh4Oid9+H1weEXwhtTzFJ/z1wPB58DHXrCtgL44UOY/bHZtseQ2vdRm/ceMyMHjrgIktN3fn6vsfD5K7BkNiyeDb32Nr//6j8m4WBKpnm/aBEOBfnXpBM6jRwxnBPOvGK396NyKbrKpWiX0G8ICf2G0PGKW31FP88i/5O37bxpb3UKFuZfE4ZrgLV+eNuCt2343A8NrEfiuNeBOcBdTgci0lLUASCxbChwKnAzEdYB4IdMCw614QQbDrUgC8CdllGePu4YO/2Q462kYfv7LLdO4V3xw1dVy0nN+da3Pct2XUaOKePmKfnNHVadevUPcMPkAh6cmMrmDW7+eefOy1RZlrlieMIfah8CvHGdvMCNdQAAIABJREFUm/feSAAS6nyfg48u5ZLrCuu8IlfdjA/j+fkHH/0GBTjs+NqXJeuQE+KMi4p56ckkJl+XTr9BAUpLLZYs8uD2wBW3FODx7vlQ2xWLF/LbDx9llpUUQJR0AIC5yj9rav3bDD3EZNqv65gNHG3yAEx7Djavgddrqdrm9IcJN9e9j+p++gyW/mRes8/htW+T1REOOhOm/xtevt1sGyiFtYtNBvnjrqpavjAa2HaYX757PyU1fs/+l1Uu1a61lksxw+Uieej+JA/d3+p07V3eornfkPfZVPKnv9M2mLflchsuBwr88L4F73rhw1tgi9Nh1+JUIMnpIERaUhR9FYvsspuA2wDnalIV/OBywQgbjrDNqIQRNrgB4jp1LU0/+HhSRx9G0sB9dKU/xgwfVcYjL2/h3dcT+fErH5s2uAkGzTJZe+0d4KiTS+jRt/Zhq9f485k/28eieV42rHVTkOeidJtFfIJNu44h+g0OcMjR2+p8/Y6KClz86+Fk3O6qtbXrcsofi2nXMcTU1xL4/RcPbjcMGVnO6ecX029w01xl+8PFN7HXMbfOdie33btJdhgBTroOls+DVb+YLP0lBVWJ/DLaQc4AM6e/Q8+G93XAidBtEHz3rtlnUa7ZT9uuMPhAGHYYjSpOthXCx8+YkQnHXlF/h8GYCZDeHr79H6z9zbym51A48A/QpX/jP4fWwO3xceura3/v37a0t9OxtDSVS1KDy0Xy3qNI3nsUna+921uycA4FX35A3qdT48tWLT3dhtPLIeQ3S+59BHwwAL6PkCSCmYAOvsSU3VubRUT2mB96WXCIDQfbcEjlVX7L7QknDTsgmDbmMF/qAYfi6xQ1a2aJNLlfcrO+i8VVACQyJHoCi5pqFQCRaFS+diUFX39CwcyPgoWzv3IRDFZ2O24FplvwmQ2f+GGxk3GKxBJ1AIi0kEnQOwQHAmMrbtvTYfk6dytN3ffg+JT9DiZ57wNwJWg0mkhjqANAnKQOAJHGC28roWj2VxR+9zlFsz4t27ZyaZzF9mkXq4EZwOdu+PLv8KtzkYpEN3UASCw7DpNc716aeF7ak+BdB0MsGGXDKGA00KHyeW9WdlnyiAO9yfuMcqWMHIe3bYe6dyYitfrx60/4+NMv1x34h9s7JKVlOx2OxJhwOMS0Z67eMnxI/6yDjpzgdDgirU5wywYKv/+Coh++DBd+/3kgsGl9XLWn1wFfAt+44JswzGmmhIJ3Yzob/tUM+xaJSOoAkFj2MGYFgF7Akj3ZkR+6AfsBI4CRFffbv8i82R1LU4aP8SUN3c+VvPdofB277MnbiQjw3CN+/vfK41zx2ELa5kTZBHOJeKFgOZNOjGPfsUdy093POR2OSKtXvmENRT98SfHcb+yiH2eWl69fXb1DoBSTrf8bC35wwXd/38O6WwUbeB84ugn2JdIqqANAYlkOkA3MB8oa2BYwyfowc/eH2DAM09DfG5NEBgDL6w3F99orkDx03/ikQSNIGjQST5auToo0tS0b1/Ldr3kLsnvtN9Dji3c6HIkxtm2z6fcvlw/qEt+tvXK1iDS5UN4Win7+jpL5P1I09+vy0l/nucOBcnfl8zbkW/A9pmNgthvmhOB3P+y8DmTd9sEkg1YOAokZ6gAQqcNdkFEGg4DBwBBgQMXj5MptLJcr7MvpUZ40eKQvsd9QV+KAYST07G8W7haRZqccAOIk5QAQaUHBANuWLqLkl7lsWzDbLp73fXnZqiU+Oxze3p6xoRhYaMHPFvwEzPfC/Ftgk3OBi0QWdQBITKu4ot8F6GNBX9s08vsCAzGjA7ZzeX2huG59gokDhsUl9B1MQr/BJPToj+WLq2XPItIS1AEgTlIHgIiz7PIySpcuouS3+WxbNJeSRT+Vly7/3WWXltRY6tyGLRYsABYBCyz41QWLQ7DCD41bc1IkSqgDQKKe31yx7wb0qLj1Bvosg35boMMgcNdowns84fiOXcvie/Tzxfca6I7v0ZeE3nvh69i1/gWwRaRF/bbgR2Z88/PyIYdd0i0+Kd3pcCTG2HaY2e8+uH7vATnth44c53Q4IlLJtilft4ptixdQtvRXti1bFN62eEF5YNUybzgYcFff9EcIJ8GmfjAPkwxwMbDYBSsSYOn1ZkSBSFTxNLyJSGSrGKrfwYJOQB8bOmMa+l0r7tvW8rLgPCieDe59xp9Ax76D8XXpRXz3PsR17OLC5U5oyb9BRHbd159O5YNXHu/WY/hxqANAWlo4FGTqU9e13zj2SNQBIBJBLAtfxy4m4fLYI8GM9ozHtilfu4KyFb9TunIpZSsXM/XtF1zdIaWfWaZ5fOUuwpiWv99MHVgGLK+4Xw0sdcGqMGzww8YW//tE9pAuZ0rE8kMbF/S2oQ1mOH77iscdgI4Vt05AXdm/8qhWaFuw1DYZYxd3gBWXwF6XXD/l2XFHnDo0PiGp+f8gEWlSyxcvYOaPSxb3OWBCr7jEVKfDkRhj22F++fz5NcP6ZHfqN2iE0+GIyG6Y8cHr6x6adNWEJ2HWOuhqQU8belI1arQrZrWour5kyoENwEpMZ8Bay3QabATWW7DeA7/d0sTLTYvsCXUASLPzgw/IdEFWGFIsyMJkzW9jQzpVP2djrtZX3uoboVICrAHWA2srbqupGLYVNnO68hqK7e2vN3xgwxF78OeJiIOUA0CcpBwAIq3e7yce0K5PQxvdBRkB6GKbToEutrkY1aniVnlRKqWeXZQDmzEdAxsxHQK5wFbL/H6rbX6XB+R5ITcAW/zmdSJNSlMApE53QQZAqWm0e1yQBqSGTQGXjukNzaTq57Rqv6/8XToVWfMr12Sx637LEFWF40JMj+oSCzbYsM6GjRZsjod1N5klW0REREREmtXNprGei1lZoFYPQEIxdLQhO2wuZLXHdBjkVDzOrrjfi2ptsNrqxYGK+9ug2IKtQAGmc6AAKKx4nG9DngVFlvldAebnvLCZwVDuhWIXlHugXPkMpJI6AFqRuyAjBIlBSHHBjmPWk8NQfe25ZAu8NvTHNMKTMCM+KifKpgJuIAEzhN4LJNuQZZmGPGUVG1YOE2nsoqoV67IWYG7LMQXXVkzPZhEVPZ0Vt+2PG3PFvon1nTn9f1kjRh+OL05riIu0NutWLeWX+TNTcwYfji9e03ikZdl2mIWz3kvy9kijW6+BTocjIrvhh68+TgSGAnP3dF9/gW2YqaZLGtrWb+rjmZiprZmVNwuybFMPz6j8maqLa13YYZRBZR29eidC9ceVHQll5j0BCm1YbUGJDWGr6oJaPqaqX4r5O8oxnQ+5Nmyq6GCo3H8x1UYmWGBbFXV4F2x2Q0EZlPnNaF2JQBE3BWAydAjA0ZiEHY3hs3ZuDDfINq/xNWLTjHqeq2w87ygOSNzhd9Ub3ztuV9v2aTT+M9hdYapO/AKqrsBX9i4GMWVGCeZEL7Kqeh8LgIKKXsm8EBRaUOBAI35PPAxc9fgbs2jfqZvTsYjILnruET//e+VxrnhsIW1z+jsdjsSYULCcSSfGse/YI7np7uecDkdEdsOJB7QDeB/T9mgV/JDugbSwGZWbZEFaRadBesXjVEzbIq3iJZVtikTMqlgJmNG5Xkw7pqUSX1d2LlSXX3HbvhTjDh0TO25b2/XIPOoeYFzbe+7EhjxXvYOUa1VkV/WxNEYY+NBvpiw7KuJGAKyH57LgsF15za4erZYWgkB4hzVGw1AehpANoaBpXJcA2GAHzT/rlmrbBoIVrw9BeYm5il75XDC4w/ygMigLV5wg+ZC/2iQjoQhKw2CXQrBk1/5hd5RK3clQWpOEvfY+YN5vC2cXrFm5WGvAirQyvvj49P4jj0pYt/jHzbnrl+1JmSayy+xw0Bqw7zEd2nboUP7jN9M2Ox2PiOy6ffY/pP2P30zPBW50OpbG8je8SVHFrbbEg1/W9gIXWOkVFzWTId4FVjx420GWB9wucPlMpwIAlnm+xkVQN3jTzdSH7RcwvRBnVfvZAstT7XVeM6Ih1QVe1w7tUs8Or21OFi3TntwEXwOjWuCt6hVxIwAy4NuOsO+Ovy+j8UPQa1PeyNfbmNZ3fcqo/Z8khDJ1iIiIiIiINDWLupf+8lD/lW0PNedK12dPJga7qXuI+RpYmWdWlnBUxI0AyIW1uebhBPOjRJELgdOAizC5ASR6nApcDFxPE8yjk4hyGOa4TgZmOByLNK2RmOP6KPC2w7FI0+qDOa4vAs87HIs0rWzgJeBd4CGHY5GmFYc5rl8CtzscS0SyacR4/sj1DhGyHGTEdQBQNYf8C0wWeIkeh1bcfwvMdzIQaXJDK+5nA586GYg0uU4V9/OAaU4GIk2u8mLIr+jYRpvKutRSdGyjTZeK+9Xo2Eabyrn4G9GxjUYhqiVTdFKLzKsQEREREREREWepA0BEREREREQkBqgDQERERERERCQGqANAREREREREJAaoA0BEREREREQkBqgDQERERERERCQGqANAREREREREJAa4nQ6gFumY9S/fB8ocjkWaViqQD3xIhKyDKU0mCdgGfAxscTgWaVqJmLVrpwFrHY5FmlY84AE+BZY7HIs0LS/m3P0c+NXhWKRpuYEM4EtgnsOxSNOygHbAV8CPDsciTa8D8D3wtdOBiIiIiIiIiIiIiIiIiIiIiIiIiIiIiIiIiIiIiIiIiIg0xtuAXe2W7Gw4IiIxoRtwKjAFmA7kUlUO/83BuERiic5DEZHWoVW1WT1OB1CPM4DjnQ5C9kg6cCSwLzAc6Ai0BXzAVmA+MBX4F1oVoDUaAhwDjAX2whzbMmA1JsPp08A3jkUne2IxkblKjNRvb+Aq4CCgPaZcXQC8BDyLWc1BWg+dh9FN36HRSXXf2KM2axNpC2zC9KAsoZX0pshOTqBmb1hdtzXA/g7FKLtnGo07tk8T2R2NUrsg5vhtxRzrF9CVx0h3LVXHrbbbV5iKqbQeOg+jl75Do5fqvrGlVbZZI7VQ+SfQBtM75gN6OBuO7IG1wAxgNqaw2wAkYIY2noUp/DoCH2J6wFc5E6bsom4V92uAtzBXKdYCmcB+wJWY43wBEAYudiBG2X1nAHMwVyABhgJnOxeONGACcF/F49+Av2LWkG4DXAqcDxwAvAmMdyJA2S06D6OXvkOjm+q+sUNt1iZS2XO2HsgAXqSV9KbITnyN2OZ2qo7v3c0bjjShl4HjAFcdz/fEfOnZmMrLgBaKS5rHUHTlMVIlYIYM2xX3WbVscy9Vx29Cy4UmTUznYfTQd2j0Ut03dqjN2kQygHXUrKTs7od5IGbO40IgH1OA1jcU54Y9D192QwIQwByDjxyORZrWhVSdX9c6HIvsmaZoeKhMbh5nUfWZnV/HNgmYYeSVUwGkddJ5GFv0HRq9VPdt/dRmbULPY/6wd6r9blc/zCTgDWp+UEWYRBv1fZgHN8lfILvKAooxx+C1Rr4m5k+UVmIvqo7B/Y18jY5tZNqThofK5Ob1JubzClD/d+TTVF1NbN+I/epcjDw6D2OLvkOjl+q+rZ/arE3kSMwflQ90rvb7XfkwPZietMrtnwf6V3t+GDC32vOvYeZHXtqIfUvzOJaq43FRA9vqRGldDqTxlVUd28i2uw0PlcnNbwXms/uhge3Oo+pzPrqe7XQuRi6dh7FF36HRS3Xf1k1t1iaSCqzE/IGX7/DcrnyYN1bb9rY6tumJWQrJBj7YzXhlz6QAA4FJmELMBj6h7rlwoBOlNXqEquMxpp7tdGwj3+42PFQmN69Eqq4CvdrAtmOoOhbX1bGNzsXIpvMwtug7NLqo7hsd1GZtQk9i/riZmGEx1TX2w0yn6oSaSf0n1LcV223ezXhl191E7T2Uv2GGKTW0IoVOlNZlEFCOORaz2Pm8rk7HNvLtTsNDZXLz60LVcflHA9v2qbZtXUmndC5GNp2HsUPfodFBdd/oE1Nt1mwgrwluSbXs+2DMFYwyavZqVWrsh/mnatvV11MKpofMrnhPaRn1FYJ/A+LreW2rOVEEMIlRfsMch1JMpbUuOra7pznL5NrsTsNDZXLzG0DDjfpKOdW2fbSW53UuRj6dh7FB36HRQ3Xf6BI1bdaGep4quYC0Jni/HXtKEoH/q/j9ZOCXPdj3sRX362g4y3Fixf3WPXi/aJGNKYj2VCdMQpO6PA28W/G4LdAdOAczx20SZjmco6i98PojVQ2VmzEnX11WAPtihlrFupY6ttUlAG8DvSt+vhIzPK0uOra7p7nK5KakMrll2Xv4vM7F6KTzsHXRd2h0Ud03ekRVm7WxHQC5wKlN8H7bdvj5r0APYAFw1x7s1wIOqHj8MfWfJFDVa7MnBy9atFRDYjM1C7jPMNlMzwX+BYwAHgLOrOW1jp8orVRLNxLjgP8CYyt+vgnz5VcfHdvd01xlclNRmdwyiqo9Tmhg28RqjwtreV7nYvTRedi66Ds0+qjuGz2iqs3a2A6AMsxSQ02tZ8X9QMxcp4ZUVlrWUDPrYieqKj+LG9hHt2rvO60R7xntnG5IPAecARwGnAZcBhRUez4iTpRWqiWPbWXF5YiKn28DpjTwGh3b3ddcZXJTUZncMrZUe9zQ0n7t6ngd6FyMVjoPWw99h8YW1X1bn6hqsza2AyDSpVZ7HGxg2/Mr7m3g9eYJp1WJhIbETEwh6MYMe/ux2nMRcaK0Ui11bOOA/2CGsQHcXnFriI5t9FKZ3DKKMdmIuwC9Gti2Z7XHC3d4TudidNJ52DroOzQ2qe4bmyKiXHa6A+BGGk5cNJmqQvEAzNXIHXteqg9n7E3dOgF/rnj8Ng2fVNIy4qo93vHYRsSJInWqvGpReY7eQd2ZanekYxu9VCa3nB8wHQCDMfNF68rXMbri3qZmRRN0LkYrnYeRT9+hsUt139ZFbdYW1tiMiusqtsnFJNrYUSbwfcU2BZgKk0SGyuNSxs7HuHrm6mfq2UcnzHG1MV+m0vzigPepOj537OLrdWxbj93JPq4yuWWcTdWxOa+ObeIxw/5tap9LqnOxddB5GF30HRrbVPeNPmqzNqHGfph/q7bdXOAQzBIanTCVouVUnWiHNmO8UuUI6l+2xAImUnXc6iq8dKJEnjjgPaqO3eTd3I+ObWTqAexX7Va9kfnEDs/tXcc+VCa3jARgNeazXIU5Z3Y0hapjcVod+9G5GHl0HkYvfYdGL9V9Y5farE2osR+mD/io2ra13ZYD+zdnsFLDesz81EcwGU/HA6Mww2NuxPzTVx6bzZjKTm10okSeqVQdkw+oWRGt7danjv3o2Eamp6m/LK1+W1/HPlQmt5wJVH2mi4CTMctNDccsW1T53DTqXtVD52Lk0XkYvfQdGr1U941darM2ocZ+mGB63C4CvsAMdywHNmA+5EuoOd9Gmt96GldxmQcMqmc/OlEiT2MrpZW3t+vYj45tZGqKhgeoTG5J12LmitZ1nL7CVB7ronMx8ug8jF76Do1eqvvGLrVZRTBZSS/DZLedD2wCAkA+ZqmSF4GTaFwySp0okaWpKi+gYyvSVPbBLC+1HCjFXF36HLgYk2m6IToXRVqGvkOjl+q+IiIiIiIiIiIiIiIiIiIiIiIiIiIiIiIiIiIiIiIiIiIiIiIiIiIiIiIiIiIiIiIiIiIiIiIiIiIiIiIiIiIiIiIiIiIiIiIiIiIiIiIiIiIiIiIiIiIiIiIiIiIiIiIiIiIiIiIiIiIiIiIiIiIiIiIiIiIiIiIiIiIiIiIiIiIiIiIiIiIiIiIiIiIiIiIiIiIiIiIiIiIiIiIiIiIiIiIiIiIiIiIiIiIiIiIiIiIiIiIiIiIiIiIiIiIiIiIiIiIiIiIiIiIiIiIiIiIiIiIiIiIiIiIiIiIiIiIiIiIiIiIiIiIiIiIiIiIiIiIiIiIiIiIiIiIiIiIiIiIiIiIiIiIiIiIiIiIiIiIiIiIiIiIiIiIiIiIiIiIiIiIiIiIiIiIiIiIiIiIiIiIiIiIiIiIiIiIiIiIiIiIiIiIiIiIiIiIiIiIiIiIiIiIiIiIiIiIiIiIiIiIiIiIiIiIiIiIiIiIiIiIiIiIiIiIiIiIiIiIiIiIiIiIiIiIiIiIiIiIiIiIiIiIiIiIiIiIiIiIiIiIiIiIiIiIiIiIiIiIiIiIiIiIiIiIiIiIiIiIiIiIiIiIiIiIiIiIiIiIiIiIiIiIiIiIiIiIiIiIiIiIiIiIiIiIiIiIiIiIiIiIiIiIiIiIiIiIiIiIiIiIiIiIiIiIiIiIiIiIiIiIiIiIiIiIiIiIiIiIiIiIiIiIiIiIiIiIiIiIiIiIiIiIiIiIiIiIiIiIiIiIiIiIiIiIiUhfL6QBERESk6T0McfnQLQQ9LcixoQOQCWQAcRX3lfKBsor7zcBGYCWwHFjsh5KWjV5ERESagzoAREREWrl7IakE9gvDCAv2AWsI2D0BV1Ps37KsFbZtz7PgB+AHG77yQ15T7FtERERajjoAREREWpnXwb0IRofhcGCcbVn7WrZd1dhv0xm6DISc/pDdDbK7Qlo2pGdDcibEJYIvvmqH4RCUFEBJPuRugLwNsHkVbFgO6xbDinmwfhnY4cpX2MA84DMLPsqAT682IwhEREQkgqkDQEREpBV4GOK2mgb/ybblOt6yw2kAxCdBv/1h4Bjoux/0Gg4pmU0fQGkx/P49/Drr/9m77/AqqsSN498zt6R3CDVAAtI70kQkAQFFRNeCYi9rXX92scsNIKioa1111y6CglhRsAd7V+wgCvYCIj39zu+PQQGpgSTnlvfzPDxcwi1v4u4w551zzsCXb8Cnr8BabxKAa5y1xg0/a+CRRJh9Iayu/QAiIiKyq1QAiIiIRLAQ9ANOxHEOIRzOBKBZW+gzCnbfFzruCf5g/QcLV3uFwHvPwLuz4esPva8bpxQ3/BhwH/BCCMLbehsRERGpPyoAREREIszVkFYKRxtjTnddtxMATVpD4VEwcDTkdbSccAt+WwKvz4KXH4DF872vGbPEuO5/A3DnJbDUbkARERFRASAiIhIhQtAcOAvHOYVwOI2EZBh4GAw9AToMABMl/2wvng8v3OOVAauXgzEVuO59Dtx4BXxmO56IiEi8ipIzCRERkdgVgrbAWIw5Ftf1k9sKRp7hDfxTs7b7+ohVUQbzpsGTN8CST8DbPPAJoDgEH9kNJyIiEn9UAIiIiFgSggLgCmPMUa7r+mjdEw4637vqb2rlDn6R44Nn4dEpMP9F8IqAJx0ovgI+tJxMREQkbqgAEBERqWeTIKcCLsU4Z+CGA7TrC4dfAbuPsB2t7i14G6aH4P25gHHBvR+4LAQ/2I4mIiIS61QAiIiI1JMQBIEzXMd3hQlXZ5DXEY6eCP3/YTta/fvsVXjwCvikBIxTjhu+Drg6BKtsRxMREYlVKgBERETqQQj2xji344Zbk93UG/gPOTb2pvrX1Luz4a7z4ccFYJyluOGzx8F04y0TEBERkVqkAkBERKQOhaApcCNwCP4gHHQBHHoRJKbajhY5qiphzm0w9XJYtwrgVeDkEHxpOZmIiEhM8dkOICIiEotc79r+aTjOk7hud7oPhcufhIGjwR+0HS+yOD5o1xcGHwMrl8KSj1tinJOLcH1j4I3ZELYdUUREJBZoBoCIiEgtmwD51XA3UEhGLvzzehh0BBj9s7tDPnoe/nMa/Pw1LuZTH+5xV8D7tmOJiIhEO80AEBERqSXrr/qfEvau+u9G0VFwxVPe1W0N/ndc49Yw/CSoKMV89W6ui3tCIZhCeL1EswFERER2ms5GREREasGV0KjSu+o/gqzG8K87oO8o27Gi35dvwvXHwM+LcDHvGdwjQ7DQdiwREZFopBkAIiIiuygE+1Q7zkvGdbvS/x8QmgOte9iOFRsa5HmzAdb8gfnq3aYY55+FuD+WwEe2o4mIiEQbzQAQERHZSXdA4GeYhDHnEUwynHSDN1iVuvHubLjxBG+jQJgGnBKCNZZTiYiIRA0VACIiIjshBM3BzAC3P/ndYOxD0Ly97Vixb/nPcN1R8PFLGGO+Mq578BXwie1YIiIi0UBLAERERGqoGIbg+F7CDbdln5Ph4lmQ1dh2rPiQlAZFR4HPh/vpKzlgjivCXVKiEkBERGS7VACIiIjsINfby/98jLmfYGIyZ94Jh10GPr/taPHFONB5EKbDHvD+3ADlaw8qhJwx8MJs3SVARERkq7QEQEREZAeEIBlvl//DaFwAlz4GrbrajiVLv4PJh8BX7wLMC8Khl8BS27FEREQikQoAERGR7RgHLYwxT+C63ek5HC6YDqlZtmPJnyrL4dZT4cV7wTjfOW54pPYFEBER2ZyWAIiIiGxDCPoYxzcPN1zAgefC2fdCQrLtWLIxnx/6HgApmTD/hYyw4Zgi1/24BBbajiYiIhJJVACIiIhsRQhG4zhP4vjTOfMuOHist/5cIo8x0L4ftO+PeeuJIJUVY4pgTQm8aTuaiIhIpNASABERkS0ohgtdYyaTlmO4eBZ03st2JNlR338B40fCL98A/KcjnDkaqm3HEhERsU0FgIiIyEZmgO9zuBk4jaa7QegZaNLGdiypqZW/wYRRsOBtgNnAYSFYZzmViIiIVSoARERE1rseklbBQ8Ao2veDy5+C9Aa2Y8nOqiiFKUfAW48DvBOEkbpDgIiIxDPtASAiIgJMhqx1mDnAUPrs7w3+UzJsx5Jd4QvAwNGw4jdY9F6zsDEH7g1PvgQrbUcTERGxQQWAiIjEvRA0rTbOy+D2Yp+T4dwHIJBgO5bUBmOg90jwB2D+Szlh4xxWiDunRDMBREQkDqkAEBGRuBaCAhxnHm64LaMvhX/+Wzv9x6JOe0FOM3j/mTTgyMG4JS/Dj7ZjiYiI1CcVACIiErfGQycc3yu4bnNOugFGX2I7ktSlNr0gryO89XhiGHfMYNd9swSW2I4lIiJSX1QAiIhIXApBTxxfiWtMA868C/Y91XYkqQ8tOkK7vpg3HgtSXXV4Ee6HJfCV7VgiIiKsVWmwAAAgAElEQVT1QQWAiIjEnRD0M47vRdfxZXD+VCg80nYkqU9NWkPnveD1WX5TVXFoIXxRAp/bjiUiIlLXVACIiEhcGQ8DXcf3PP5AKhfNhP4H2Y4kNjRsAT2GwuuP+KgsO6gIFpXAp7ZjiYiI1CUVACIiEjeKoch1nDn4E5K5/Enota/tSGJTdlPoMRzemOVQUfqPQvimBD62HUtERKSuqAAQEZG44A3+fc8QSExi3GzotrftSBIJshp7RdAbs4wpX3dAISwpgfm2Y4mIiNQFYzuAiIhIXQtBIY4zl0BiAuOehi6FtiNJpPn+c7h0CPzxqwvuMSGYajuSiIhIbVMBICIiMW08DAo7zlyCSYlc9gR0G2I7kkSqH76EiwbBqqVh47rHjIMHbUcSERGpTSoAREQkZo2HAWHH9xzBxGQufRy6a9q/bMf3n8PFRZhVS6tx3THjYKbtSCIiIrVFBYCIiMSkEOxuHF+J6w+kcPmT0H2o7UgSLZZ87C0HWL28Cjd8cAietB1JRESkNqgAEBGRmDMeuriO87rrC6Rx6ePQax/bkSTaLJ4PFxfCupVVxnVHjIPnbUcSERHZVY7tACIiIrUpBG2rHV+Ja3xpjH1Ig3/ZOfndYPyzkJTud43z1HgYaDuSiIjIrlIBICIiMWMitDSOM89ANufcC/0OtB1JolnbPnD5E5CQlBA2ztwQ7G47koiIyK5QASAiIjEhBE0rHedl13Ubc9p/YNARtiNJLOg8CC6aCf5gMo7z3HjoYjuSiIjIzlIBICIiUW8yZGGcuSYczueEa2Gfk21HkljSa184fyoYJytsnGcnQL7tSCIiIjvDZzuAiIjIrpgCKeswzxvcnhx+OYy+xHYkiUV5HaFhC9y3n0jDmFGF8HAJrLEdS0REpCZUAIiISNQKQbASZhooYsRpcPwUMLrBjdSRgu6YhGT48PksjNl7H3joBSi3HUtERGRHqQAQEZGoFPKWsU0FDmKvw+HMu8BoZZvUsQ4DoKoCPnu1cRUMHAXTn4Uq27FERER2hM6UREQkWv0bOIyug+HsezX4l/pz9JUw5FiAAatg+gxdUBERkSihf7BERCTqjIOxBi6jXT8ongMJSbYjSTwxBvrsD999Bt9/0X4pNC6B2bZjiYiIbI8KABERiSohOMrArTRra5j4AqRk2o4k8cg40HcUfPYKLP2uVyG4JTDPdiwREZFtUQEgIiJRIwTDMM5Msho5THoZcprZjiTxzOeHfgfCu7Nh5dKiQvixBD6wHUtERGRrtFWyiIhEhRD0xPG9SkJyMpNLoHVP25FEPEu/gwv2wCz/qdp13QNDWg4gIiIRSjsmiYhIxAtBAY7vWYyTzMWPaPAvkaVhCwjNwU1K92GcmSHoZzuSiIjIlqgAEBGRiBaCTGPMXNxwA866C3oMsx1JZHOtusBlj4M/kIhxng5BK9uRRERE/k4FgIiIRKybIAF43HXd3ThqAhQdbTuSyNZ1KYRz7sPFzTbGPBOCbNuRRERENqZNAEVEJCKFwCmFB4CRDDkOTrjWu/2aSCRr2dnbYOmTkobAgFHw0LNQZTmViIgIoBkAIiISuYqBw+kxDM74rwb/Ej3GjINh/wTYcxX8z9WmyyIiEiE0A0BERCJOMZwITKFlZ8P4ZyEhyXYkkZrZfQQsfAd+/rrrPEgogRdtRxIREVEBICIiEaUYilxjZpDd1GHSS5CRazuSSM05DvQZCe89Ayt+27MQvi2Bj2zHEhGR+KYpaSIiEjFC0B7H9y7+YCrXvKbb/Un0W/YDnNsbVvxaZVx32Dh42XYkERGJX9oDQEREIkIIco3jmwukMna6Bv8SGxo0h8ufhIQUv+s4j06ADrYjiYhI/FIBICIi1oUg0cXMcsPVLTnuKuh7gO1IIrVnt95wzr3gkhk25okQNLAdSURE4pP2ABAREatcMPPgbgP7M/wkOHay7UgitS+vIyQkw4fP5wB9CmF6CVTbjiUiIvFFBYCIiFhl4DLgbLrvDedPA0f/NEmM6jDA2xPgmw9bAS1K4HHbkUREJL7oLEtERKwJwWjgVvI6GEJzICnVdiSRutVzOHzxOvy6pPsgKJ8Hr9mOJCIi8UN3ARAREStCsDuO8xopWQlc+yY03c12JJH6sWoZXLAH/LTINbj/GAdP2I4kIiLxQZsAiohIvbsSmuD4nsbxJ3DJLA3+Jb6kN/DuDJCaaVzjTAtBV9uRREQkPqgAEBGRehWCxCpjniJcnctpt0LnQbYjidS/5u3hwofBcZIxzjMhyLUdSUREYp8KABERqTeut/Tsftd1e3HAOTDsn7YjidjTfSj889/ghpsBj98ECbYjiYhIbNMmgCIiUm8MXAH8i177wDn3gdFWNBLn2vaBlb/BV+/llUKe7gwgIiJ1SQWAiIjUixAcwl87/s+FYJLtSCKRoccw+PxV+G1J9yJYVwJv2I4kIiKxSZdeRESkzoWgO47zBimZSUx5E5q1tR1JJLKsWgbn94Ofv3HBHRmCZ2xHEhGR2KM9AEREpE5dCY2M43sS4yRx4QwN/kW2JL0BXPYEJKUaHGd6CDrajiQiIrFHBYCIiNSZOyBQgXnUDVfnceJ10G2I7UgikatFJzj/QXBJN8Y8GYJs25FERCS2aA8AERGpM7vD7QYOZNg/4egrbccRiXzN2kEgAT56IRvoWQjTSyBsO5aIiMQGFQAiIlInQnAmcCkdB8CFM8HRPzkiO6TDAPhxIXz7aWsgowTm2o4kIiKxQWdjIiJS64qhCOM8SMM8hytfhOR025FEoocx0HsEfDAXlv/crxC+LYGPbMcSEZHop7sAiIhIrZoILasc30f4g5lc8xq07mk7kkh0WvY9nNMbVv5WievuFYK3bEcSEZHopk0ARUSk1oQgtco4T+GGMznrbg3+RXZFgzy4ZBb4gwGM8/hEaGY7koiIRDcVACIiUitcb1bZ3bjhLhxyEex1uO1IItGvwwA47T/ghhtVwaybIMF2JBERiV7aA0BERGqFA5cDZ9B7Pzjjv2DUMYvUitY9YNUy+Ord5qXQvASesB1JRESikwoAERHZZcWwvwt30KydoXguBJNsRxKJLd2Hwuevwm9LuhfBihJ423YkERGJPtoEUEREdskE6BB2fO+6SakpXPsWNG9vO5JIbFq5FM7rg/nt22pcd/g4eNF2JBERiS6anykiIjttMmRVO85TruumcN5UDf5F6lJGQ7jkMdxgks81zswJkG87koiIRBcVACIislNC4JTDVMLh1hw1AXqPtB1JJPYVdIez7sbFzao25vEQJNuOJCIi0UMFgIiI7KxJwAj2PBQOvdh2FpH4MfAwzEEXgOt2Be51taRTRER2kDYBFBGRGgvBaODftOpquGI2+IO2I4nEl25DYOG78POiTq9AaQm8bjuSiIhEPjXGIiJSIyHoiuO8TUpmIte9A01a244kEp9WL4fz+sLPX7sGd79xMMd2JBERiWxaAiAiIjssBNk4zhMYJ5GxD2vwL2JTWjZc9jgkpZqw40yfALvZjiQiIpFNBYCIiOyQOyAAzCAcbsWxV0H3vW1HEpEWneCc+8B1M8LGPBWCdNuRREQkcqkAEBGRHfIzXAUMoego+Md5tuOIyJ/6/wNz+BW4rtsObQooIiLboE0ARURku4rhaOAaCnrApY+BP2A7kohsrPNesOgD+Glhh3kQLoF5tiOJiEjkUUMsIiLbNB56hB3fG6RlJ/Lv96BhC9uRRGRL1q3yNgX8YYEL7qgQzLYdSUREIouWAIiIyFaFINd1fE9hTCIXztDgXySSJad7M3SS041rnIdC0N52JBERiSwqAEREZItC4AcedsPVzTjxeuhSaDuSiGxP8/Zw/lQwJgV4XJsCiojIxrQHgIiIbFEh3AAcljjsSKqOvtp2HBHZUc3akhyoomr+Kw3wqruHS8C1HUtEROxTASAiIpsphmOByUkdupM+bjpr3WTbkUSkBtJ79CPw3YeUf/tVW8CUQIntTCIiYp8KABER2UQI+hhjHvVnNXDa3DTLlCY3Ym1V0HYsEamBpEA1zffak5WvzglXr1g+qAg+LYEvbOcSERG7tAeAiIj85UpoZIx5FJ8/2GrS3U6gUVPbkURkJ/lS0ii4+n7HSUlzXWPuDUFH25lERMQuFQAiIgJACIKVMMt13WbNzp5oUrr1tR1JRHZRMK+AVuPvcAykAE+GINN2JhERsUcFgIiI/OkGYED2qKPIOeg421lEpJak9R9C49MuNUBrYHpI538iInFLewCIiAjFcApQnNx5d1pN/B/Gt+GfhzWVQe0BIBJlkvxVZATL//pzSpc+lC1ZQPnihW2ApBJ4wV46ERGxRQWAiEicC8EexpgZ/gaNnDY3P2p8qZveNlwFgEj0+XsBgDGk7zGUVa89G676Y9mAIviyBD6zl1BERGzQFDARkTgWgqYY8xh+vz9/8j3Gn5NrO5KI1BEnMYn8q+93/OmZYYy5Zzz0sJ1JRETqlwoAEZE4dT0kAY/hurnNL7jGJHfqZTuSiNSxYNMWtJx4pw/jJIYxj02ChrYziYhI/VEBICISp1bBf4A+DQ45keyRR9iOIyL1JHX3gTT5v5ABt2UFPBQCv+1MIiJSP7QHgIhIHCqGs4CLUnoOoNW4W8HZ+j8H2gNAJPpstgfA36R07kXFz99T9tVn+UBWCcypv3QiImKLCgARkTgTgsEYMzXYuLlpc+NM4ySnbvP5KgBEos/2CgCA9H6DWfXWS27Vsl/7FsK3JfBRPcUTERFLtARARCSOTIB8jJlpAkGn1dX3GV9mju1IImKJCSaQf9W9xp/VIOwac0cI+tnOJCIidUsFgIhInLga0sLGPAFkt7jsZpO0W2fbkUTEskBuU1pdda/j+Px+15jHJkIz25lERKTuqAAQEYkDLphSuNt13S65R59J5t4H2I4kIhEipUtvml9wjWNct3EVzLoJEmxnEhGRuqE9AERE4oCBEHB62h5DaXHRtWB2vP/VHgAi0WdH9gDY5PntulC1YjmlX3zYvBRalsBjdRhPREQsUQEgIhLjQnAg8J+ElrvR+vppxiQk1ej1KgBEok9NCwCAtL6FrP3oLbfil++7FcLqEnizjuKJiIglWgIgIhLDQtAVYx7wpaa7+Vffa5zUdNuRRCRCGZ+fVpPuNsHGedXANSEYZjuTiIjULhUAIiIxahLk4G36l9py/B1OQos2tiOJSITzZWTR6pr7fSYh0RhjZkyA3WxnEhGR2qMCQEQkBt0BgQp4BNdt1fSMEGn9BtuOJCJRIqlNR1qGbnOA9Gp48irIsJ1JRERqhwoAEZEY9DPcABRm73c4DcecajuOiESZjEEjaPTPsQZoXwbTZmjfKBGRmKCDuYhIjAnBqUBxcseebqtJdxnj8+/S+2kTQJHoszObAP5davd+lH3zJeVLFu62FJJK4PlaiiciIpaoABARiSHjYRDGTPc3aOS0ueVR40vb9Zm7KgBEok9tFAAYQ/oeQ1n9xvPhquVLBxTC4hKYXzsJRUTEBi0BEBGJEROgtWvMLAJBf8E1Dxh/TiPbkUQkyjlJyeRPedDxZWS7xpj/hmAP25lERGTnqQAQEYkBV0NalTFPuZDT4vKbTVL7brYjiUiMCDRqSsGUBxx8/oBrzGMhaG47k4iI7BwVACIiUS4ETik8ZFy3Q6PjzyVzyAG2I4lIjEnuvDt5F13nGNfNBWaHINl2JhERqTkVACIi0W8KMCKzaH8an3iB7SwiEqOyRhxG7lFnAHQDprpgLEcSEZEa0iaAIiJRrBhOBCYnte3s5k+ZakwgUOufoU0ARaJPrWwCuAVpvQZSuuBjyr//psM8CJTAS7X+ISIiUmdUAIiIRKkQ7GWMmeHPznXa3PqY8Wdk1cnnqAAQiT51VQBgDBkDh7Pq1bnhqhW/DyyCb0rg49r/IBERqQtaAiAiEoVC0MYY8yiBoL9gygMm0LCJ7UgiEiecpBQKrpvm+DKyXYz53zjY03YmERHZMSoARESiTAgyXWOedCGnxWU3m6QO3W1HEpE4E2jcnIKr73Pw+YMYMysEBbYziYjI9qkAEBGJIndAAHjYuG6HxiecT+be2vFfROxI7tqHvEtvMEAu8PhVkGE7k4iIbJsKABGRKPIz3AgMyxx+MI1OOM92HBGJc1nDD6HxcecAdCmDaTO0v5SISETTQVpEJEqE4GzgspQuvcmfdDfG76+Xz9UmgCLRp842AdyC1B57UPbtIsoXL9htKWSVwJx6+WAREakxFQAiIlEgBKNczN2JTVpQcONM40tNr7fPVgEgEn3qswDAGNL32Js1785zK5f+0rcIlpfAO/Xz4SIiUhNaAiAiEuHGQzdjzDRfSoppde2Dxp/d0HYkEZFNOIlJ5E+ZagINm4RduCEEI2xnEhGRzakAEBGJYBOhmWvMHIxJbjXpHpOY39Z2JBGRLfJnNaDghocdJykFY8yM8dDDdiYREdmUCgARkQh1NaRVYZ5yXbdJswuuMWm997IdSURkmxLz29HqyjsdHCc5jHliIjSznUlERDZQASAiEoFmgK8UHga3R+5RZ5BzwNG2I4mI7JC0foNpfsE1Bty8Knj6akiznUlERDzaBFBEJAJ1gpuBIzKHHEDzC64BY6xl0SaAItGnXjcB3NLnt+uKW17O2o/faVwFXQphZgmErQUSERFABYCISMQZBxcZuDi5Y0/ypzxQb7f72xoVACLRx3YBAJC2+0DKFn9J+ZKFbYEmJfCU1UAiIqICQEQkkhTDocDtCc1a0eaWWcZJsT9zVgWASPSJhAIAY8jYczhrPnjdrfztp15FUFECr9kNJSIS37QHgIhIhAjBHq4x9/vSMt2CGx42vswc25FERHaJSUgkf8pUk9A8v9qFicUwxnYmEZF4pgJARCQCTIAOxpjZjj+QkH/N/U6wWSvbkUREaoUvPZOC66b5fOmZhI25NwSFtjOJiMQrFQAiIpZdCU2qjZnrQlaL4ttMSre+tiOJiNSqYF4BBddNc3yBoN8Y8/h46GI7k4hIPFIBICJiUQjSK42Zi+u2aHbOlWQUjrQdSUSkTiR36kXLiXc6GCe92pi5EyHPdiYRkXijAkBExJIQBIFHcd2uuUefSYNDTrQdSUSkTqXvOYxmY6cYoGkVzJ0MWbYziYjEExUAIiIWuGCAe4Ah2fuOpsmpl9iOJCJSL3JGHUmTE84H6FgOT4Qg0XYmEZF4odsAiohYYOBa4JS0foNpNf528EXu4Vi3ARSJPhFxG8BtSO25B1XLfqV0wcctgQ6F8EgJuLZziYjEusg94xQRiVEhOBsoTm7fzS24bpoxCZF98UsFgEj0ifQCACCt/2DKvvrMLf/u645ATgnMsZ1JRCTWqQAQEalHxXAkcHuwaUta3zzL+NIzbUfaLhUAItEnGgoA4zikD9zHrHnv1XDl0p/7FoJbAvNs5xIRiWXaA0BEpJ6EYKSLuc+fmUPBDQ8bf3ZD25FERKxyEpMouPZBJyGvIAwUh+B025lERGKZCgARkXowHvoaY2b4kpOdguunOwnN821HEhGJCL6MLApumOH4GzYOAzcXwz9sZxIRiVUqAERE6lgIurrGzDH+QGL+ddNMUvtutiOJiESUYJM82tz8qONPz3QxZnoxDLedSUQkFqkAEBGpQxMgH2OexZjMFsW3mZRu/WxHEhGJSAktWpN/3TSfCSQEMGbWeOhtO5OISKxRASAiUkdC0DhszItA47xLbjAZhSNtRxIRiWjJnXqRf/00B58/qdqY58ZDJ9uZRERiiQoAEZE6MAlyjDEvuK6b3/SMEFkjDrMdSUQkKqT2HEDL8bc7jnEyqjEvhKCN7UwiIrFCBYCISC0LQXoFzHVdt1Oj48+l4ZhTbUcSEYkqGYUjaX7x9QZDYxfz/ETIs51JRCQW+GwHEBGJJSFIBmYDezQ8/BSanH657Ui7bE1lkLVVQdsxRKQGkvxVZATLbcfYJUltOxPIzGb1my9khmHYUJj1Eqy1nUtEJJqpABARqSU3QUIpPAbsnT3yCJqfOxmMsR1rl6kAEIk+sVAAACR37IHx+Vnz/mu5YRhaCDNKoNR2LhGRaKUCQESkFoTAXwoPA/tn7n0gLS67EZzYOMSqABCJPrFSAACkdu+PW17O2o/faQwUrS8BYuObExGpZ7FxdioiYtEM8C2FqcChGQOH07L4DozfbztWrVEBIBJ9YqkAAEjbfSDVq/5g3ecfNgMG7Aczn4dK27lERKKNCgARkV0QAmcp3AMcmdZvMK0m34MJxNZgWQWASPSJtQIAY0jvW0Tlsl8pXfBxy0roXwgzS1QCiIjUiO4CICKyk1wwwB3AMak9B7j5MTj4FxGJGI5D3tgpZO07GqAIePQmSLCcSkQkqmgGgIjITnDBFMNtwMkp3ftRcO004yQm2Y5VJzQDQCT6xNwMgD8ZQ8bA4ZR/9zVl33zZphR6FcKsEqiyHU1EJBqoABARqaH1g///AKemdOnt5l83zfiSU23HqjMqAESiT8wWAADGIXPgPlR8u8gtW7xgN6D7+hKg2nY0EZFIpwJARKQG1g/+bwZOT+nS2y3490PGl5JmO1adUgEgEn1iugAAcHykDxphyhYvpHzJwrZAD5UAIiLbpz0ARER20EZX/v+V3KkXBf9+yDgxfOVfRCSSGZ+flhPuIGPQfgAjgVnaE0BEZNs0A0BEZAeEwJm3ftp/cufdKbjhYWL9yv+fNANAJPrE/AyA9YzjkFk4gj9nApRCj4Ng1hzNBBAR2SLNABAR2Y4ZXll6B3Bqatc+buvrp8fN4F9EJOL5A7QafzsZg/cH2G85PH49xOaurCIiu0gFgIjINswA3+dwF/DPlO79yL9+unFS023HEhGRjfkDtCy+ncy9DwTYZxU8NQVSbMcSEYk0WgIgIrIVd0BgMUwFjkzttScF104lHtf8awmASPSJlyUAGzOOQ8Ze+1Lx8/eULfq8oBL23BdmvQAVtrOJiEQKFQAiIltwEyQshRnAwWn9BlNwzf04icm2Y1mhAkAk+sRjAQDrS4CB+1C17BdKF3zSsgqGFMIjJVBmO5uISCRQASAi8jchSC6FJ4ERGYNG0GrS3Zhg/G4srQJAJPrEawEAgDGkDxhG9eoVrPv8g2bAiEJ4tATW2o4mImKbCgARkY2EIBN4GijKHH4wLUO3YfwB27GsUgEgEn3iugAArwToPwSqKlk7/+1GwKhB8OQ8WGk7moiITSoARETWC0Eu8CLQJ+fAY2hx8b8xPh0mVQCIRJ+4LwDWS919IE4gyOr3X2tg4OBCmFsCy2znEhGxRWe2IiLARGgZNmYe0DH3iNNpdvZEcHSjFFABIBKNVABskNKtH4GsBqx+88V0jDl8MLzwMvxiO5eIiA0qAEQk7oWgc9iYEly3ZZPTLqXxSReCMbZjRQwVACLRRwXAppI7dCfYvJVZ9crcJODIInirBJbYziUiUt90eUtE4loI9jDGvGKMadL8ouvJPfpM25FERKQOZA0/hPwpDxgTCKaEjZkbgkNsZxIRqW8qAEQkbhXD/hjzIn5/ZsuJd5qcUUfajiQiInUorf8QWt/yqONPSfMDDxfDabYziYjUJxUAIhKXQnCya8xjTlJKsPUNM0xG4X62I4mISD1I7rw7u/33GSfYsInrwn9CMMl2JhGR+qI9AEQkrrje6v4QcK2/QSPa3PKYk9yxp+1YEU17AIhEH+0BsG3+zBwyh4xyVr/9crhqxe97FUL+GHh6NoRtZxMRqUva5UpE4kYIgsD/gGMS89u6+dc/ZIKNmtmOFfF+WZfCr6UptmOISA1kJ5aRl7LKdoyIV71mJYvHHuOu/egtAzwPHBIC/eBEJGZpCYCIxIWrIAN4BjgmpUd/2twxW4N/EZE450vNoPWNj5jMof8AGAq8MhHyLMcSEakzWgIgIjFvAuRXGvMi0Ddz+MHkX3k3TlKy7VhRQ0sARKKPlgDsOOPzkTloBG5FBWs/fqdx2JjDC+HlEvjZdjYRkdqmAkBEYtp46Bs25kUXWjU+7hyanzsJ49OhryZUAIhEHxUANWQMab33IpjbjNVvPJ8KHF0EX5TAl7ajiYjUJp0Fi0jMKobDXGMeNz5/et6lN5iGh5/ibQEoNaICQCT6qADYOUntupDcpbdZ+cozPrey4tBBUDYPXredS0SktqgAEJGYs36n/4nATb70LKfg+mlOxp7DbceKWioARKKPCoCdl9CsJZl7jTCr33zBrV69clghtD4InpkD1baziYjsKl0KE5GYMgVS1sJU4MDEVm3d/GunmmDTlrZjRTXdBUAk+uguALuueuUfLL74eHftR28a4I0AHHQp/Go7l4jIrtAMABGJGSEoWL/Z317pew4j/7ppJpCTaztW1NMMAJHooxkAu85JTCJ7+MGmavlSShd8nBc2ZkwhvFICP9nOJiKys1QAiEhMKIahGPMcrtsy95izyLvwOpyERNuxYoIKAJHoowKgljg+0vccRiCrIavfeikNOLYQlpTAx7ajiYjsDBUAIhLV1q/3P9+F+3wJiUktxt1qGo4+SZv91SIVACLRRwVA7Uru0J3UXgPMqlefNeHy0oMLIXsMvDgbwraziYjUhM6QRSRqhSAduAs4JNikhdvq6vtMUpuOtmPFHO0BIBJ9tAdA3aj85QeWXHx8eN2Cjx3gNeDQEPxiO5eIyI5ybAcQEdkZ46ETmHeAQ9L6DabtfS9o8C8iInUq0Lg5bf77tJO9/xEAe7qYD0Owl+1cIiI7SksARCTqFMORrjFPYmjS+MQLyLvwWpyEJNuxYpaWAIhEHy0BqDvG5yNj4D4Ec5ux+u2Xkt1w+JjBUFYIb5WAazufiMi2aAmAiESNECQCtwAn+jKywi3H/cdJ6zfYdqyYpyUAItFHSwDqR+mCj/n24hOqy3/53gfMBo4PwTLbuUREtkZLAEQkKkyADsDbwIkpnXu57e59SYN/ERGxKqldV1aY4yQAACAASURBVHa7/0Vf+qARACOBD8bBnpZjiYhslZYAiEjEK4bjw8Y8jjHNc486g5ZX3Gp86Zm2Y8UNLQEQiT5aAlB/nGAiWUMOwJ+eyZr3XkknHD6mCKpOhzdnakmAiEQYLQEQkYg1GbLK4XZgtC8jO9xy3K266m+BlgCIRB8tAbCj9Mv5LLnsn+GKn75zgBLg6BD8YDuXiMifNANARCLSeBhYbcyzwIC0PoW0vvFhk9S2i+1YcUkzAESij2YA2BFo0Jjs/caYyt9+ouzrz1sZY44vgkUl8IXtbCIioBkAIhJhQhAEil3MWMfvN01Oudg0POJ0MDpc2aIZACLRRzMA7PvjuUf54erzw+HStQ5wL3BWCPQfRUSs0gwAEYkYIegMPA0cmtRqN1rf8LDJKNxPg3/LNANAJPpoBoB9Sa07kD38YLPui/lu5a8/9nAxY4pgfgkssZ1NROKXCgARsS4EThGMxZiHjDHNGh5+imk14X8mkNvUdjRBBYBINFIBEBl8qelk7XuocZJSWPvRm+mEq48thKxCmFcCVbbziUj80WU1EbFqArSrhvuAvoFGzcItLr/ZSe05wHYs2YiWAIhEHy0BiDyliz7nu+LTw2Vff+EACx044Qp43XYuEYkvmgEgIlbcAYFeMNY1ZgbQMufAY8i/+j6T0KKN7WjyN5oBIBJ9NAMg8gSyG9Jg1JEGYN3H72S7rntCIWQWwuslUGE7n4jEB80AEJF6Nx56hOFOoGewcfNw84uuc9L6FNqOJVuhGQAi0UczACJb6YKP+f7Ks8Kliz53XFjswCnj4HnbuUQk9mkGgIjUm+shqT9MduFujGnW4JATaTX5XpPYajfb0WQbNANAJPpoBkBkCzRoRPaoo4wTSGDt/Lcy3XD4mEIoKIRXSqDUdj4RiV2aASAi9SIEI1zMbQa3RWJ+W7f5RdeblC69bceSHaAZACLRRzMAokf5t1/x/VXnuWvnv21czHKDex5wfwjCtrOJSOxRASAidSoErYDrgINMQlK48bFnOw2P/BcmELAdTXaQCgCR6KMCIMq4LsufepAfbx0fDq9e6QCvAGeF4CPb0UQktmgJgIjUiRAkFsF5eJv8dU3rP4SCq+8z6YP2xfh06IkmWgIgEn20BCDKGENSu67k7He4qVrxO6WLPm9p4ORCyCiEd0qgzHZEEYkNmgEgIrVu4+n+gYaN3WbnTjYZg0bYjiU7STMARKKPZgBEt3Ufv8N3V50XLl+y0HHhdwPnjoMHDLi2s4lIdFMBICK1Zjx0CsO1wD6OP+DmHnu2aXjkv3ASk2xHk12gAkAk+qgAiH5udRXLn5jKT7eOD4dL1zouvAucWwyv2c4mItFLBYCI7LIQ5ALFwEmAL7Nof5qcfhnBZq0sJ5PaoAJAJPqoAIgdVcuX8stdU1j+xFTXDVcb4BHgwhB8YzubiEQfFQAistNCkGrg/zDmYtd101I69XSb/l+xSe7ax3Y0qUUqAESijwqA2FO2eCE/3zLOXfXmS8bFVBjcW4DJIVhmO5uIRA8VACJSYyEIGjjRNWY8rtsg0Lh5uOnplzuZQw4As+OHld9+9rHoCz+Lvgyw6As/3ywIsHaN9/ojTl7Locet3ebry0oNY4Y03KHPGjl6HSeevWaHs23ssn9l8dmHNbtrwT1PLSMzZ8MdnNauMXzwZgILP/O+3z+WOaz8w6GqClLTXVoWVNF7z3IG71dGUvLWl3gu/CzAQ3elsODTAFWV0KKgilGHlzJw6Lb3h/rxOx/nHJ1NQiLc8tDvZGTt+N2lVABs39Lv4cPn4esPYdUyqKyAtCzIaQb53aDLXpDeYMuvXbca3p8LX70Hy76HsnXgD3jPz2sPPYdBXoddy/fLYlj4Lnz7Kfz2LaxbBT7/+s/osP4z2m/99fdeDEs+rdlnnn8/pGZt+rUfFkDJdPjhS6iuhNyW0O9A7+ezLct+hNv/DwIJcMbtkJJRsyzxaFsFgI690XHs3Zo178zjx5vGVZd984XPNWatcd2rUuDfF8C2/8OJiAB+2wFEJHqEwG9gDMZc6bpuni85NdzouHNoMPokxwRqvkv8aYfmEI7BuxynZYRJy9j0G/v0gyDXj0vf4vNX/G5Y8XuQ+e8GefSBFMZOWkm7zpWbPW/+O0EmXpBBVaWhoG0VSckuX34a4PpxAX772eHgY9ZtNdPt16RRWWk46bzVtXICKh7XhZenwuuPQnXVpn/3x6/er0UfQEIS7L7v5q9f8gnMmOyVABurqIZlP3i/PnwBeo+AEafWqF/7y/2XwTfzN/96ddVGn/E89BwKI/8FTi3cpCM5DZLSNv3a1x/BtGLvc5sUQDDZKwJmTYEVv8LAQ7f+frNvhapK72egwf+u07HXE63H3tQ+g2h3/0u+5c88xM93TE6q+v23CWuMOafYdce7cEdIdwwQkW1QASAi2xUCBxgNjHOhvRNMcHOPOJ2GY051fKm7fjaemuZS0K6S7AZhSuYm7tR77H/YOvbce+u3vMrK2fkTr1POX03pum2PvD7/KMB9t6YCMGh4Gb4tHF2zG4Tp3LOCgnZV5DQMk5EdpqLcuxo3b24iCz4NsHyZw/hzMrlx6nIaNKr+67XV1XDr5DSqKg1jTlrL6OO9Cz0fvhVkwnmZTPtvKnsUldMkr3qzz33p6UQ+/SBIx26V7L1/6U7/HGRzT90CHzznPc7MhR5DoeluEEyEdSvhx6/g89e3/NrVy2H6RChf5w3suw+BbkMgoyGUrYHvv4BXZ3rPe/cZ7+t7HlLzjCt+835Pz4H2/b0r/WnZULrauyL/zmxvxsIHz4NxYP8zNn+P/U73cm7Lt5/B8/d4j7sWscn/B8LV8ORN3uC/6EgYdLj39UXvw4PFXonScQDkNN38fT960StKWnbyfr5Se3TsjeJjr+OQPfIIMocc6Cyf/SC/3Dkls3r1yhtczNgQ7mTgvyGoqN0PFZFYoAJARLZq/cD/cOAKoJ0TCLo5Bx9P7tFnGn/WVuYz18B541eS37aKJs29E6fFX/l3+iS0YeMwbTttfuWmNuTlV233ObNnbLjTwZCRm1986dW/grue3PoyzX0PKmX6/1KYcU8K69Ya5sxK4ujTN0yb/Xx+kKW/+kjPDHPQURtGYj36VdC9bwUfvhXklecSOezETWeArlrhcO8tqfgDLqeOXb1TV5Bly+a/vGHw32lP+Mc54P/bRJgOe8Dex0LlFsZHH72wYVC912HewPgvjaBJa2jdE+44CyrK4O2ndq4AaLYbDD8R2vbZfAZBhz2g1z5wz0Ve0fDBc9DvAGiYt+nz/v7nLXn7yQ2P/z5Q//YzWLnUu3q/8ffQppf3PS56Hz6ZB4VjNn3dulXw3F1emTDyXzs3A0I2p2PvBtF+7HWSkmlw6Elk7zfGWTrzLn574KbG4XVrbgYuDsFk4E7NCBCRjTm2A4hI5LkJEorhJIxZCDzoBIJtGxx6Eh0efd80PXM8tTH4B9hjcPlfJ6DRbM1qw1vzEgBo076KVm02P2n1B7Z/6+aDj1mHb/30628WbtrPfve19xf5bas2e68/T76//XrzTve+W1NZvdLhwCPX7dDJtOyYqkpvYAre4Pig8zYf/G8skLD515b+sOHx1q5s5zSFVl28x6uXb/8q/JYcfAG067v1wXN2kw3lg+t6exHUVOka+OIt73HT3aDR324A8tu33u+N89nsCm3ztuufs2Tz933ubm95xICDdqyEkB2jY++mYuHY6ySn0ujYs+j4xEdOoxPPx0lJawzcDCwuhgtCsOV1ECISd1QAiMhfroa0YjhnuTFfu/BfEwgWNBxzGh0efd80O2ci/pxc2xEj0qvPJVJZ4Y2uhozc+WmegaD71wlmStqmJ5rl5d77p6RsfjKbkupu8pw/ffZhgJeeTqRxs2pGH7cTI0fZqs9eg7UrvccDR28+qN0RKRudjm/r9X+uyQ8EIZi09eftiubtNjxevbzmr/9kHlStn2zcY+/N//7PGRAJW9hLMjFl0+f8acmn3vT/7CbeDAmRv9Oxd3O+lDQan3gBHR//0Gly8sX40jNzXbgGWBKC4vW37RWROKYCQEQIQfMQXFNqzA8uXO9LSWvS6Phz6fTEfNP0/0JRM/BfvdJh8Vd+vl/s/2tH6/rwwmxvVBYIugwctvMzLd97PYHyMi93t96bLt1Mz/BONJf/vvlh+4/1X0vfaPOrqkrDbVd7I8xTL1hNILj9q2Cy4xa+4/3u+KBD/w1fr66CsrXelfTt2W33DY8/fWXLz1m93Nu5H6DN7nU3BX7jTQiTUmv++g+f9373B6HLoM3/Pnn9ViFrtlAurP5j/XM2KkSqq2D2Ld7j/U7f9uwKsU/H3sg79vpS0sg97mw6Pv6R0/TM8fhzGmUAV7iYb0NwWwi2cd8PEYll2gNAJI6Nh95hOBNjDsN1A4EGjcMNx5xGzoHHOE5iHV1qrCMP3ZXC3TduGLkYA3mtqhgysox9Dy6ts5OwJYv8fLPAO5T2Lyr/64rQjipdZ1j6q4/Xnk/gqYeTAe8EdO+/Xc1q38WbarroCz8rljtkZm844Xz3teAmzwGYdX8yP37nY69hZXTro32gatuPC73fG7XyBqfvzYV3n/amuruudxu/5u2g177QeeCWB+4F3b07A7w3B164zxuEdxu86SaAL031ptdn5nrr+OvKxhsVtuxcs9f+shh+/tp73HGPDVf0N/bnLQZ//ArWrIDUzA1/92eZsvGtDl+d6d36r8sgaN29ZnmkfunYG9nHXicxiYaHn0KDg09w/nhuFkun3hIs+/arU4GTQ/A0cNM4eNGAWmKROKECQCTO3AQJf8BBLvwrDAMAktp3o+Fhp5C19wFOrdwDzIJ1f7vq5Lrw3WI/99ycykvPJHLptStp2Kj217y+8NSGomTvLWxAtSWPPpDMA7dtfpm1SV41Q/cvZdSYdZi/XWxq3qqK7n0q+OidINddkc7pF60mKdnlkftS+GGJn4ys8F9XwH76zses+5NJTXM54aydu/+2bJ3rehvaAWQ0gOkTYOG7mz6nqtKbwr7kU/jsVThkrFcK/N3I06FFB2+X/1dneL82lpIB/Q+AgYd5t9arC78ugffneo+btYUWHWv2+j+v/sPW9zJomAete8DXH8Ij18Co//OWM7w6A5Z+732ff84c+P1HeG2mNxNhn5Nq/v1I/dKxNzqOvSYQIHu/w8ne73Bn9Zsv8ttDtztr3n1lf2D/Yvg8BDcC00IQWcFFpNapABCJExMgvxpO+t2YE43r5hrHcTOK9qfB6JNI6dLbdryd1rFbJXsOLaNtx0pycsOkpYdZ8YfDJ+8HefSBZL5f7Ofbr/1MODeD6+79g8AObAi1o6oqDa88521A1ahpNZ177vrVnqoqQ7ja4PNtnvPMy1cx7sxMPv0gyOmjc/76enKqy9hJK0lev0b19imb33d69UqHl+ck8t3Xfnx+l7adK9lrWHmt/jziRfm6DVP8v3rfm67eMA+GHu9dPXcc7+r9C/fBT4vgy7dg7v+8wf7fhcPeFfGNp+BvrKLMmwFQurpuCoDSNTBjsvc9+AOwfw132q+ugk9KvMdZjTZsWLglB54N91/m3dLvppM3fD0xBUZfDAneRVhm/8crUPY9xSsGwPv5zH/J2yjQ8XuzK7oM2nKpIvVDx97oPfam9R9CWv8hlH39BUtn3skfzz7S3i0vu8M1ZkrIde934L9XwCfWAopIndINdURiWAiCwEjgZGAo4ARycsPZ+x/pNDj4ePw5jewG/JvFX/k599hsAI44eS2HHrd2O6/YtsoKw5VjM5j/jjdN84Sz1rD/YbW3IdPrLyZw7eXeCGXj+0Nvz6oVDiuWe5eZVq5w+O0nh5fnJPHZh95opk2HSi6/biXpmZvfP7ty/Ynvgk8CVFcb8vKrGDyi7K/nvjwnkZsmpNO+ayWTbvsDY2DhZwEmnJfBmlWbXtrKy6+i+KYV271P9y/rUvi1dAvzuuNU6Wq4+ogNf85oAKfeBEl/G6BXlMH/zvWucBsDZ9y+6X3uKyvg4UneLfCMgd77QddCbwlARal367xXHoYVv3nvPeZyb7ZAbamsgKnjNuwxMOr/oOewmr3HZ6/BzKu9x0VHwqDDt/38qkpvw8AfvvTKg9yW3rKHPwf681+Cx/7tfZ/HX+39XH5YAA8Wez/3jTXMg2MmQlp2zTLHi+zEMvJSVu3Qc3Xsjcxjb32pXrOS5U9MZdlj94Yrfvruz7BvGLgzGWZcALv2PwgRiSjROddXRLZpPHQaBJdgzH3A8RjTJrXPINP0X1eQN3aKSe09CCd5J3b6qmMrljs8+7g3rbNLr0o6dd+1e0v7fNB19wqenpmMG4a1awxDR9Xe7ZDvuSmNX370YRw487LVJO/gGtSERJeMrDAZWWEaNammoG0Vg/crI7dxNe+8msDyZT6WL3XoX7j5zeN9PihoW0XvPSvou1c57btUkpDofe6aVQ6TxmZQVWW47NqVZGaFKSs1XHJqFiv/cBh+YCmXXLOSff5RypKvAiz6MsCSRX4K9932z2RNZZC1VdqF7U+OzxuY/2nI0Vu+8u3ze1ftP3/D+3NGw00H8C9P9Xa5B+/q+MBDIb0BJCR5G+I1aQ1di7xB9po/vKKg9378dbuyXVFV6ZUPi+d7f977WOi7f83f59k74Y9fvIH6gedAYvK2n+/4oEkBtOsD7ft56/6D628/X7oapk+EcDUcMc7bJ6CiDO6+0Lvjwu77eCVI7xHevgM/LfKWL3QbXPPc8SDJX0VGcPNjyJbo2BuZx9764gQTSenah4aHnmRSuvbGLS+n/Ptvmrtu+MAKzFlFUDAYlr4MP2z/3UQk0ukuACIxIgSNi+GcEMwPw6fA2YHshjm5x51Nh5nv0PqGGWQUjoy7ObPZDcK0ae+dzH73zf+3d99RclWHHce/b+pWbdOuulCXUBcgyQghgcCY7pjYYAMOjgnuThxjxzgmxwtYx+a4JLbjOJxgExLbiTAmYIoNlmmiI1QAFVQA9V1ptVVbpuy8/HFnNLNldmdnZ3fa73POnHk7782bO3P33nfvfbekbtRTQ72T7ZtNpXjJOX7GpmCM67orulganjTqhY0FdLQPrZPWf/60hNZmB39xfQdTw+tOv7CxgMYGBxOmdPPZr7dROTbEhMnd3HpXC04XbH/dw/v7NBpsKJyuaHd1GHjSvNh9xw9Et20b3njSbNdMhaUX9f/+ojGmYQDMigCRCfOGI1L53/eG+fvCG2D1R4d+npYGeHeb2Z6x1PSEGI6nfmkq+qs+Yn4TgLc3me9dNdGsBlBaaZYF/OjXTTy8u800AkjmUd6bhXmvZVG64gLOWH8v8x/ZZk34wj9RMHlaIXBzCF6qhX13wLdrYUa6gyoiyVMDgEgW+y5U3AE31cKTwGEbfmR5vIsqLrmGGf+ywVzAP/NNPBOnpjuoaRXpotnVaWGnqMfl008UnD7XxVclv/50b2cuMQXmUAiOHUr8Vu+ObW6efqKAcRO7e3SH3f2mafBZsdrXY2x3RVWIuQsCPY6RxFVPiW4PtGxe7D5/zL9JW2O0S/ukOQN/1uSYxbpiGxGSEQyYMf97N5u/13588G778WzbGJ0LYahDB3o78LbpDVExHtbEhOfQTvM8d2XPuQlKK808AAAHdw7vs2XkKO/N3rzXVVlNzY1fYt6Glx2z7nmMqg9/EkdRyXQbaoF9tfDiHfDFWpg46MlEJKNkWNOjiAzme1Dmg6tt+KgP6zKw3ZbDYRcvPdeqvPw6ytZcZjlKxgx+ojxyos4U5kpK7T4zPCfDtuHpx02/5ZIxIVasSd1ST4GYnreJdtaIrDtt2/C5f2jD4412h21pNiXPirF9S9+V1d2Am9ZmtQUP1eS5Zmw6QEer6brfn/aYIdgFMY0BQ5loL1ay74Ponf9I5X/NdebufzJs2zQAgJmfYO7K5MPVHYRHf2bOeeUXwB0z2qS9xTyXVPR9X2Tsf0diw9wlDZT35kDea1kUL1pO8aLlTPr79Y7WlzbS9IcNVuvLT59rBwOrgJ/UwrPABjc88i2oT3eQRWRgagAQyQK1MB64GrimEy6ywIVlUTT/LCo++BHK1l1luceOT3cwM9L7+8xM1ACz5w9vXGvE21s81B81Bdu1H0rtbM7bXjEzW7vcNuMmJta19aFfFXHkgJPVF0e7sUZ4w+Orey/VBdB+yhQ+YwutkpgzV8Ervzfb726H8XE6xEbG2ANMnBXdLi4zFd2AH47sGfizDu2KbpfVJBfeYAA2rDerFgCsuRbW3ZjcucDM5N8ULuYvvmB4I4teeBAaDsPCNWapwFhukxzw9TN/XFf4NZemp8hIynvNcy7lvZbHS9kFV1B2wRV0tzVbLc89QfOfHrZOvbHpQjsUWheAn9eayQMfcsJDt8Mw+yyJyEhQA4BIhqqFxTZcacHlwCrAshwOu2j+WVb5RR+m7IIr8IyblO5gptWOrW7mLw3EvSt6os7JD24vO91Ned0VfSdcCgYsXnvB1CDKykMsWDZ4QXXjYwWntxPtgrr1FQ9LV/jj3gWzbfjfXxSzb7fJls9Z5aegcPDC4bFDTh68v4jiEpubv9J3+eapM4K8+Gcve3f1rKEFAxbv7XGdPkaGZup8mDQbjuyFF39nlqTrPRt9Zxs89z9m2+01jQYRDqep7O5+FY4fNN3f+5sH4FQzbHog5j1Le+7vDsI7r5rtojKY1s98BKfv/Icr/+dfC+s+OfTvHGvrn6Lbyz6Y/HlOHoVNvzVLAV56S9/9NWeYSRCP7O35encQ6vZHj5HRpbxXea+ztJzKK6+n8srrre6WJpqfe4KWp3/vOLXlhfPsYHB1EH5UC28CjwO/nw+vXwvDn7BBRIZNDQAiGaIWSoB1wGVgXQX2JAuwPF675Jw1VvmaSxmz+kOWq7I6zSFNnfqjTlqaoqWyozHjLk8ed7BnR7Tg5HLZzJjbs7D0z7VlOF02y1f7mTkvQFV1CLfbpqXJwVtbPDzzRAGdHaaEuny1j/Mu6lsI7Wi3+P63zHJSC5YF+M7PmgYMc8cpi1eeNXeKZswNMm1WYgW4n3xnDC63zYrz/cyca9bN9npt2tstDux3sempgtMTQpWWhfjUl/sWKPvz798vJeC3uPkrbZRX9u1qev7FXWz4RTHbXvWw9VUPy1aau1T/9+simhsdVFSFWHxOau7O5RPLgss/D/fdZrqp33srXHC9mfQvsnTds7+J3iW/8AYzq32stdebSnl3EB75MRzdCwvXQnk1+DrNuPjnH4DWBnP88sv7DjXwdcAD3zPb0xbCp77bN6yxY/5nnW1m4I8MX+hPYQlUDdC22NUOu8IrG0yYCeOnxz92MI//GwT9pvLf+/cB0yvguf+B/Vtg3xaYdZZ5/cXfmcaR0kqYsST5z89XynuV96aSs6yCqqtvoOrqGwidarVaXtpI66Y/0vrSxoWhzvbFwDd3QGMtPGrBk2546h/hZLrDLZKv1AAgkib3gPsYLAcuBi4FVhBemtNdVWOXnvdBxqy6mNLlay1H4SBra2WpB+8vYuOjhf3ue/LhwtPLUgGUV4a477GGPscdP+bk8d8WAv2fB8zdp89+rW1Y46cjnn+qAL/PnOjiK4c2AVVDvZMnHhw4rFNnBPnqHa0JdUF99o8FvLnZw7xFAS75cP9hmTClm0/c0s6v7ylm/dfKmbcoQFeXxf7dLpwu+OI/tuJKYTfafDJpNlx7Gzz0QzMj/iM/6XuMZZk77qs+0nffhBnwsdvg4X82lerXHjeP/iy+ED50c3Lh3PN6dHvfG9HZ/+OZtxI+fnv8/W89Z4YuwPDu/m9/xgyfmHImnP2h/o+pmmgaT/783/CbO82xgS6zBKDTBVd/2TzL0Cjv7Ut5b2o4SsZQcck1VFxyDXYg4Gjf+hKtL2+kZdOT5f6jB26y4SY/2LWwHfgj8Kcx8PJXIXUzOorIgHTZFBkl94C7Hs6y4QIbLjxmWedh2yUAltttFy9eaZWeexGlKy6gcNb8FBSXct/f17bw9hYPu99yU3/USWuzg65Oi4JCM4Zz3uIAF13R2efu1XD8+TFTgHR7bM6/JPE1nL97TxPbXvWwfbOHowecNDc5aG9z4C2wqRgbYua8AOeu9bH8fF9C67yfanVw309KcDrh898YuID90ZvaGTexm0c3FLJ3lwunE5as8PPxT7czb3Fu3IFKlznL4Yv/ZuYD2Ps6tJyA7m5zZ3raIlhxhblLHs+8lfCln5slAfdvgROHzV19lxtKq2DKPDM0YNqi0ftOg9kanvzP5TFDH5LR2QZP/cIMa7jqiwNPbnj+tVA+Hl55BI7uiQ6FWHs9TD0zuc+X4VHeq7w3EZbbTcmKtZSsWMvEv7vL4Tv8Hm2vPUvbK09bp17ftDjk61wK3NaK5avFfhV4xgHPhODVWkg8kkVkSFTJEBkhd0Npp7nDvxpYY1vWByzbLgawHA67cM4iis9ebZWevZriJR8gV+/yS/ar6yimvrM43cEQkSGoLOhiSrGWSJDMZPu66Ni9nbbNz9P++vN2+84t2MFgpF7iAzYDm4AXgVdqoW83FBFJihoARFLgAXDuhAUWLLdhJXAuMB9wgKnwF81bQtGSlVbJsvMoXroSZ0lZWsMskig1AIhkHzUASDYJdZyifccW2re+xKltL9Ox4w3bDgRi6yn7MCsMvGbBayHYXgupWwdSJI+oAUBkiB4A525YaMNSG5YAK2zLWmbZ9ulb+M7SslDRohWO4jOXUrzsXIrOXKY7/JK11AAgkn3UACDZzA4E6Ni9jY63N9P+1uu0v/laKNh4InYtBz9mlYHNFmyxYFs5vPm3pveAiAxADQAiA6iFGguW2LAAU9lfirmzf3rlacvjtQvnLLKK5i2haP4yiuYvwzt1VrxTimQdNQCIZB81AEiuCdQdpmPnFtp3bKHzne107NoeCnW2xzYKdAPvANtt2GaZS1iSlgAAEGRJREFUBoK3a+FwekIskpnUACB5zwZrPUzuhnnhiv5czPOZQI9Ft5zFpaGCOYschbMXUDh7AYVzl1AwfQ6WpqGWHKYGAJHsowYAyXmhEP4j79O+axtd+3bQsectut55KxRsaYxtFMCGFgt2YB57LNhlwy7gYC2kbqZKkSyhBgDJC/eA+zhMDsE0YJZtKvmzgNnADKAg9njL7bYLzpiNd9psq3D2QgpnLcA7bQ6eCVPSEHqR9FIDgEj2UQOA5KvgyXq69u+mc/9OOvfuoOu9d/Ad2BsKdXU6eh0aAN7D9BrYF/N4F9M4oDkGJCepAUBywo+gsN3cxT/DginAVBtmAlOB6cBE+ln20lVZHfJOmekoOGMm3ikz8Z4xm4Lpc/BMmAqO3tcJkfykBgCR7KMGAJGeAnWH6Tq4j679u/Ed2o/v0Lv4Du4PBRrqHNh278Nt4CimgeB94ACmYeBw+PXDtdA8muEXSRU1AEhG+z4Ut8MEB4yzYawNE4DxmEr+OEwFfxJQ2d/7HW6P7Z4w1fZMOsPhGT8Zz/jJeKfMwDt5Op5J0zUxn0gC1AAgkn3UACCSGDvgx3/kAF0H9+E/8j7+Iwfw1R3Gf/RAKHD0ICF/V7w7Qp3AIeBI+HEYOGZBvQV1ITgB1NVC4yh9FZGEqAFARk2tmTivxgEVIaiyoAIzxr7SNhX4aqAKqMFU6scChfHOZzkctrOsMuSdMMXhqp5guasn4B4/GU/NRDwTpuIZPxlXVc0ofDOR3KYGAJHsowYAkdTobj6J/9ghfHWHCNQfJXD8CMHGE/jrDuOvO9QdbDzhsIPBgepUPuA4pudAQ3i7wYYGBzSFt5swDQWNQGMtdIz095L8pQYAGZQN1veg3AdeYEz4UQ6UYCrukdeKw6+Xhf8uCW9XgDUW7LiV+ViOkjEhT2W15aqssZyV1bgrq3GVVeIaOw5XZQ3uyrG4qyfgqqrR5Hsio0ANACLZRw0AIqMn2HiCwMl6Ag11BBsbCJ6sJ9h80rx+/BjBxuO2v6nBDrW1JDq+1Ac02tBsmaEGpzDPLUBb+O9WzP4W27zWGj6mwwstXuj6qumlINKDGgAyWC04vKYCDUC4Al4E4AS3bSrYAIRM5dsDYEEp4LKhOLxdZJs76QWE92Eq6C5Mhd2B+ZzT5485rpwk/08c3sKQo6gYV1ml5SyrsFxjynGUluOqGItrTDmuskqcYypwlVWY18srcZVVYbndyXyciIwQNQCIZB81AIhkHjsQINhykmBzI6G2ZoKtzXS3NBJsbSLY0hR9rbWJ7tZmO9DSZIfa2wh1nBrOxFSdQBfQjulZ0IaZAPFUr31+TCNCtw3NDvPcAmBF9/tts40F3ZY5PqIrFG1waPWaZRnxga35EjJLxjUAzIIbF8HHnaZSmhCPqdgOKWE4weE2Fd4BucBrxTm3ExzOOOfwQIHd6/d1gccC5+kXLMty2dEu7hbgwu4xG/1oCLncdsjhAJfbtp1OQg6nhcdr2S4XttNFyOXGdjoJeQuw3W5Cbg8ht5eQ10vIU0DIW2Be83gJeTzYbq85drS/iIiMiFN+D20BT7qDISJDUOQOUubpSncwRCRFHH4fjmDAPPt9WOFnZ+TvgB/L78fp68IR8EOo27xu2zh8XdAdDFkBv+UIBGxC3ZYr4Lf6mfxwNNgBLF/kj27w2djdPffTJ/MKQpdN3+pFCPzBcGNDbxbY/n7O1c+5A8EkloT0D2Gohg32Lnh6J/xwqJ+TahnXAHA5HFxhJnjLSn76/gfamH48sbrpubZI72N67w/EnDdAz/9QH9HUEPn8UMy2L/yInDMYfvQ+j4iIiIiI5I8CTIUwcjfVi7lbGemPG7lT6SVyszK6L/b1yHbkrqmb2Lue0c+J/ZuYY3sP6vXQ9w5sJHzZahec2mB6WadVxg2gfga27oYp0+Euj+maAkAIuruGMSGGDwKdfevh/WqGjlCcliSAFvC1mvqzDM3fANcBt2CWVJHc8THgM8DXgW1pDouk1iWYeF0PPJvmsEhqrcDE68+Ah9McFkmtOZh4/RVwf5rDIqlVA/waeAz4cZrDIqnlxcTrJuDO0frQyO3xbJ8swAvOmgEmD7fBqooZPj3IuTyF4aHVSYalwNmznYQ9cGe9WVZS+vFLzA3tcekOiKTc3Zi4XZjugEjKfQ0Tt+vSHRBJuZswcXtdugMiKXcZJm6/nO6ASMqdg4nbO9IdEEm5qZi4/Xm6AyIpV4iJ2wfTHRAZEW3Ac+kOBAxx3LyIiIiIiIiIZCc1AIiIiIiIiIjkATUAiIiIiIiIiOQBNQCIiIiIiIiI5AE1AIiIiIiIiIjkATUAiIiIiIiIiOQBNQCIiIiIiIiI5AFnugPQDzfwHvBnwJ/msEhquYHDmLhtT3NYJLVcwHHgaaApzWGR1HICzcAzQH2awyKp5cTkxc8Ch9IcFkktBxDArDn9bprDIqllhR/PA7vTHBZJLQvwYOL2zTSHRVKvEHgJeCPdARERERERERERERERERERERERERERERERERERERERERERScTDgB3zKElvcERE8sI04GPA3ZhJO5uI5sO3pzFcIvlE6VBEJDtkVZ3Vle4ADOATwIfTHQgZlnLgMmAlcA4wEajGzHDaCLwNPArcB7SlKYySvCXAlcAaYCEmbn2YlR5eAu4FXk5b6GQ49pGZq8TIwM4CvgxcCIzH5Ks7gF8DvwS60xc0SYLSYW7TNTQ3qeybf1RnTZFq4ASmBWU/WdKaIn38BT1bw+I9jgDnpimMkpyNJBa395LZDY3SvyAm/hoxcf1f6M5jpruVaLz193gRUzCV7KF0mLt0Dc1dKvvml6yss2ZqpvKvwFhM65gHmJHe4MgwHMWsMb0Fk9nVY9bBnAbciMn8JgJ/xLSAay3q7DAt/HwE+D/MXYqjQCXwAeBLmHi+GQgBn0lDGCV5nwC2Yu5AAiwFPpm+4MggrgV+EN7eA3wLs87wWOBzwKeBVcCDwMXpCKAkRekwd+kamttU9s0fqrOmSKTlrA6oAH5FlrSmSB+eBI65k2j8fm9kgyMp9BvgasARZ/9MzEXPxhRe5o9SuGRkLEV3HjNVIabLsB1+rurnmO8Tjb9rRy9okmJKh7lD19DcpbJv/lCdNUUqgGP0LKQk+2OuxYx53Am0YDLQgbri/MPwgy9JKAQCmDh4Ms1hkdT6G6Lp69Y0h0WGJxUVD+XJI+NGor/Zp+McU4jpRh4ZCiDZSekwv+gamrtU9s1+qrOm0P2YL/b7mNeG+mMWA7+l5w91CjPRxkA/5rqUfAMZKgtox8TBhgTfk/cJJUssJBoHP0zwPYrbzDSciofy5JH1IOb3CjDwNfJeoncTxydwXqXFzKN0mF90Dc1dKvtmP9VZU+QyzJdqASbHvD6UH9OFaUmLHH8/cGbM/mXAtpj9GzDjIz+XwLllZFxFND5uGeRYJZTsspbEC6uK28yWbMVDefLIO4D57TYPctxfE/2drxjgOKXFzKV0mF90Dc1dKvtmN9VZU2QMcBDzBb/Qa99QfsxvxBz77TjHzMQshWQDf0gyvDI8pcAC4C5MJmYDfyL+WDhQQslGPyUaH+cPcJziNvMlW/FQnjyyiojeBfrfQY49n2hcfC3OMUqLmU3pML/oGppbVPbNDaqzptA9mC/3AqZbTKxEf8xyognqBQZOUK+Ej2tIMrwydLfRfwvlHkw3pcFWpFBCyS6LAD8mLl6lb7qOpbjNfMlUPJQnj7ypROPlXwY5dk7MsfEmnVJazGxKh/lD19DcoLJv7smrOmsN0JyCR3E/516HuYPho2erVkSiP+bfxRw3UEspmBYyO/yZMjoGygRvBwoGeG/WJBQBzMQoezDx0IUptMajuE3OSObJ/Umm4qE8eeTNZ/BKfcSUmGN/1s9+pcXMp3SYH3QNzR0q++aWnKmzDtbyFOEAylLweb1bSoqA/wi/vh7YNYxzXxV+PsbgsxwXhZ8bh/F5uaIGkxEN1yTMhCbx3As8Ft6uBqYDf4UZ43YXZjmcy+k/87qJaEXlm5jEF88BYCWmq1W+G624jVUIPAzMDv/9JUz3tHgUt8kZqTw5lZQnjy57mPuVFnOT0mF20TU0t6jsmztyqs6aaANAE/CxFHxeZ6+/vwXMAHYA3x3GeS1gVXj7KQZOJBBttRlO5OWK0apINNAzg3sGM5vpp4D7gOXAj4Eb+nlv2hNKlhrtSqIXeAhYE/77NszFbyCK2+SMVJ6cKsqTR8epmO3CQY4titlu62e/0mLuUTrMLrqG5h6VfXNHTtVZE20A8GGWGkq1meHnBZixToOJFFqO0HPWxUlECz/7BjnHtJjP3ZjAZ+a6dFck/hP4BHAJcB3weaA1Zn9GJJQsNZpxGym4XBr++9vA3YO8R3GbvJHKk1NFefLoOBmzPdjSfuPivA+UFnOV0mH20DU0v6jsm31yqs6aaANAphsTsx0c5NhPh59t4IGRCU5WyYSKxAuYTNCJ6fb2Rsy+jEgoWWq04tYL/A7TjQ3gzvBjMIrb3KU8eXS0Y2YjngrMGuTYmTHbO3vtU1rMTUqH2UHX0Pyksm9+yoh8Od0NAN9g8ImL1hPNFFdh7kb2bnmJ7c44m/gmAV8Jbz/M4IlKRoc3Zrt33GZEQpG4InctImn0O8SfqbY3xW3uUp48ejZjGgAWY8aLxpuvY3X42aZnQROUFnOV0mHm0zU0f6nsm11UZx1lic6oeCx8TBNmoo3eKoHXw8e0YgpMkhki8eKjbxzHzlz9iwHOMQkTrzbmYiojzws8QTR+vjPE9ytus0cys48rTx4dnyQaN38d55gCTLd/m/7HkiotZgelw9yia2h+U9k396jOmkKJ/pi3xxy3DbgIs4TGJEyh6H2iCe2DIxheibqUgZctsYA7iMZbvMxLCSXzeIHHicbd+iTPo7jNTDOAD8Q8YiuZ/95r31lxzqE8eXQUAocxv+UhTJrp7W6icXFdnPMoLWYepcPcpWto7lLZN3+pzppCif6YHuDJmGP7e7wPnDuSgZUe6jDjU3+KmfH0YuA8TPeYb2D+6SNx04Ap7PRHCSXzPEo0Tv5Az4Jof485cc6juM1M9zJwXhr7qItzDuXJo+daor/pbuAvMctNnYNZtiiybyPxV/VQWsw8Soe5S9fQ3KWyb/5SnTWFEv0xwbS43QI8j+nu6AfqMT/yZ+k53kZGXh2JFVzeAhYNcB4llMyTaKE08ng4znkUt5kpFRUPUJ48mm7FjBWNF08vYgqP8SgtZh6lw9yla2juUtk3f6nOKoKZlfTzmNlt3wZOAAGgBbNUya+Aa0hsMkollMySqsILKG5FUuVszPJS7wNdmLtLzwGfwcw0PRilRZHRoWto7lLZV0REREREREREREREREREREREREREREREREREREREREREREREREREREREREREREREREREREREREREREREREREREREREREREREREREREREREREREREREREREREREREREREREREREREREREREREREREREREREREREREREREREREREREREREREREREREREREREREREREREREREREREREREREREREREREREREREREREREREREREREREREJLf9PxCzOgjekNFQAAAAAElFTkSuQmCC)\n"
      ],
      "metadata": {
        "id": "fq6cL5Aw1dUF"
      }
    },
    {
      "cell_type": "code",
      "source": [
        "np.random.seed(42)\n",
        "arr = np.random.randint(1, 101, 100)\n",
        "arr"
      ],
      "metadata": {
        "colab": {
          "base_uri": "https://localhost:8080/"
        },
        "id": "eBs3Vthe1gES",
        "outputId": "55f0361e-c82d-419c-c68c-670fe0aacf5e"
      },
      "execution_count": 35,
      "outputs": [
        {
          "output_type": "execute_result",
          "data": {
            "text/plain": [
              "array([ 52,  93,  15,  72,  61,  21,  83,  87,  75,  75,  88, 100,  24,\n",
              "         3,  22,  53,   2,  88,  30,  38,   2,  64,  60,  21,  33,  76,\n",
              "        58,  22,  89,  49,  91,  59,  42,  92,  60,  80,  15,  62,  62,\n",
              "        47,  62,  51,  55,  64,   3,  51,   7,  21,  73,  39,  18,   4,\n",
              "        89,  60,  14,   9,  90,  53,   2,  84,  92,  60,  71,  44,   8,\n",
              "        47,  35,  78,  81,  36,  50,   4,   2,   6,  54,   4,  54,  93,\n",
              "        63,  18,  90,  44,  34,  74,  62, 100,  14,  95,  48,  15,  72,\n",
              "        78,  87,  62,  40,  85,  80,  82,  53,  24])"
            ]
          },
          "metadata": {},
          "execution_count": 35
        }
      ]
    },
    {
      "cell_type": "code",
      "source": [
        "arr[30] = 445  #임의의 값을 넣음"
      ],
      "metadata": {
        "id": "8mVsfvI16i_x"
      },
      "execution_count": 47,
      "outputs": []
    },
    {
      "cell_type": "code",
      "source": [
        "Q = np.percentile(arr, [25, 50, 75])\n",
        "Q"
      ],
      "metadata": {
        "colab": {
          "base_uri": "https://localhost:8080/"
        },
        "id": "vEWYvzps1xrC",
        "outputId": "5fe4bf08-ccd2-4672-a295-a065b4c575a5"
      },
      "execution_count": 37,
      "outputs": [
        {
          "output_type": "execute_result",
          "data": {
            "text/plain": [
              "array([23.5, 54. , 76.5])"
            ]
          },
          "metadata": {},
          "execution_count": 37
        }
      ]
    },
    {
      "cell_type": "code",
      "source": [
        "q1, q2, q3 = Q[0], Q[1], Q[2]"
      ],
      "metadata": {
        "id": "7x020V_i2FF5"
      },
      "execution_count": 38,
      "outputs": []
    },
    {
      "cell_type": "code",
      "source": [
        "IQR = q3 - q1"
      ],
      "metadata": {
        "id": "dxdm9npg2UOx"
      },
      "execution_count": 39,
      "outputs": []
    },
    {
      "cell_type": "code",
      "source": [
        "lfence = q1 - 1.5 * IQR\n",
        "lfence"
      ],
      "metadata": {
        "colab": {
          "base_uri": "https://localhost:8080/"
        },
        "id": "QYTZm01_2heT",
        "outputId": "7a9ef420-a028-47ec-82b0-3df1d57376f6"
      },
      "execution_count": 40,
      "outputs": [
        {
          "output_type": "execute_result",
          "data": {
            "text/plain": [
              "-56.0"
            ]
          },
          "metadata": {},
          "execution_count": 40
        }
      ]
    },
    {
      "cell_type": "code",
      "source": [
        "ufence = q3 + 1.5 * IQR\n",
        "ufence"
      ],
      "metadata": {
        "colab": {
          "base_uri": "https://localhost:8080/"
        },
        "id": "UQwxVQsI2yOM",
        "outputId": "926d51da-89b7-4fd8-f5c7-45c0bd31904f"
      },
      "execution_count": 41,
      "outputs": [
        {
          "output_type": "execute_result",
          "data": {
            "text/plain": [
              "156.0"
            ]
          },
          "metadata": {},
          "execution_count": 41
        }
      ]
    },
    {
      "cell_type": "code",
      "source": [
        "(arr < lfence) | (arr > ufence)"
      ],
      "metadata": {
        "colab": {
          "base_uri": "https://localhost:8080/"
        },
        "id": "4JaSTMsG23LC",
        "outputId": "97f1e0fb-ea9a-405b-affa-f105cbde3064"
      },
      "execution_count": 49,
      "outputs": [
        {
          "output_type": "execute_result",
          "data": {
            "text/plain": [
              "array([False, False, False, False, False, False, False, False, False,\n",
              "       False, False, False, False, False, False, False, False, False,\n",
              "       False, False, False, False, False, False, False, False, False,\n",
              "       False, False, False,  True, False, False, False, False, False,\n",
              "       False, False, False, False, False, False, False, False, False,\n",
              "       False, False, False, False, False, False, False, False, False,\n",
              "       False, False, False, False, False, False, False, False, False,\n",
              "       False, False, False, False, False, False, False, False, False,\n",
              "       False, False, False, False, False, False, False, False, False,\n",
              "       False, False, False, False, False, False, False, False, False,\n",
              "       False, False, False, False, False, False, False, False, False,\n",
              "       False])"
            ]
          },
          "metadata": {},
          "execution_count": 49
        }
      ]
    },
    {
      "cell_type": "code",
      "source": [
        "outliers = arr[(arr < lfence) | (arr > ufence)]\n",
        "outliers"
      ],
      "metadata": {
        "colab": {
          "base_uri": "https://localhost:8080/"
        },
        "id": "7Xf7ciS-3-_o",
        "outputId": "1a894e36-9586-4ede-a2b5-d5ed290272d2"
      },
      "execution_count": 50,
      "outputs": [
        {
          "output_type": "execute_result",
          "data": {
            "text/plain": [
              "array([445])"
            ]
          },
          "metadata": {},
          "execution_count": 50
        }
      ]
    },
    {
      "cell_type": "code",
      "source": [
        "normal = arr[(arr >= lfence) & (arr <= ufence)]\n",
        "normal"
      ],
      "metadata": {
        "colab": {
          "base_uri": "https://localhost:8080/"
        },
        "id": "Uthd1Av644Yu",
        "outputId": "d4a7b8ae-e148-4025-f834-c7410d2ad3a8"
      },
      "execution_count": 51,
      "outputs": [
        {
          "output_type": "execute_result",
          "data": {
            "text/plain": [
              "array([ 52,  93,  15,  72,  61,  21,  83,  87,  75,  75,  88, 100,  24,\n",
              "         3,  22,  53,   2,  88,  30,  38,   2,  64,  60,  21,  33,  76,\n",
              "        58,  22,  89,  49,  59,  42,  92,  60,  80,  15,  62,  62,  47,\n",
              "        62,  51,  55,  64,   3,  51,   7,  21,  73,  39,  18,   4,  89,\n",
              "        60,  14,   9,  90,  53,   2,  84,  92,  60,  71,  44,   8,  47,\n",
              "        35,  78,  81,  36,  50,   4,   2,   6,  54,   4,  54,  93,  63,\n",
              "        18,  90,  44,  34,  74,  62, 100,  14,  95,  48,  15,  72,  78,\n",
              "        87,  62,  40,  85,  80,  82,  53,  24])"
            ]
          },
          "metadata": {},
          "execution_count": 51
        }
      ]
    }
  ]
}