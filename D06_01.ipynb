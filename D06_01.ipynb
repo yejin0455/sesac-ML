{
  "nbformat": 4,
  "nbformat_minor": 0,
  "metadata": {
    "colab": {
      "name": "D06-01.ipynb",
      "provenance": [],
      "include_colab_link": true
    },
    "kernelspec": {
      "name": "python3",
      "display_name": "Python 3"
    },
    "language_info": {
      "name": "python"
    }
  },
  "cells": [
    {
      "cell_type": "markdown",
      "metadata": {
        "id": "view-in-github",
        "colab_type": "text"
      },
      "source": [
        "<a href=\"https://colab.research.google.com/github/yejin0455/sesac-ML/blob/main/D06_01.ipynb\" target=\"_parent\"><img src=\"https://colab.research.google.com/assets/colab-badge.svg\" alt=\"Open In Colab\"/></a>"
      ]
    },
    {
      "cell_type": "code",
      "execution_count": null,
      "metadata": {
        "colab": {
          "base_uri": "https://localhost:8080/"
        },
        "id": "AghDygunMg1F",
        "outputId": "3b1326be-9b6a-40fe-b041-f5284fb9d2ed"
      },
      "outputs": [
        {
          "output_type": "stream",
          "name": "stdout",
          "text": [
            "Drive already mounted at /content/drive; to attempt to forcibly remount, call drive.mount(\"/content/drive\", force_remount=True).\n"
          ]
        }
      ],
      "source": [
        "%run my_init.py"
      ]
    },
    {
      "cell_type": "code",
      "source": [
        "%matplotlib inline"
      ],
      "metadata": {
        "id": "jBrwud08NgjE"
      },
      "execution_count": null,
      "outputs": []
    },
    {
      "cell_type": "code",
      "source": [
        "df = pd.read_csv('https://bit.ly/perch_csv_data')\n",
        "df.head()"
      ],
      "metadata": {
        "colab": {
          "base_uri": "https://localhost:8080/",
          "height": 206
        },
        "id": "-6qPdPjJNiYx",
        "outputId": "99b40c8f-9ef4-4925-cb5e-da98d844cb18"
      },
      "execution_count": null,
      "outputs": [
        {
          "output_type": "execute_result",
          "data": {
            "text/plain": [
              "   length   height   width\n",
              "0     8.4     2.11    1.41\n",
              "1    13.7     3.53    2.00\n",
              "2    15.0     3.82    2.43\n",
              "3    16.2     4.59    2.63\n",
              "4    17.4     4.59    2.94"
            ],
            "text/html": [
              "\n",
              "  <div id=\"df-7a327e6f-538e-481d-a5c3-21bae085b8c2\">\n",
              "    <div class=\"colab-df-container\">\n",
              "      <div>\n",
              "<style scoped>\n",
              "    .dataframe tbody tr th:only-of-type {\n",
              "        vertical-align: middle;\n",
              "    }\n",
              "\n",
              "    .dataframe tbody tr th {\n",
              "        vertical-align: top;\n",
              "    }\n",
              "\n",
              "    .dataframe thead th {\n",
              "        text-align: right;\n",
              "    }\n",
              "</style>\n",
              "<table border=\"1\" class=\"dataframe\">\n",
              "  <thead>\n",
              "    <tr style=\"text-align: right;\">\n",
              "      <th></th>\n",
              "      <th>length</th>\n",
              "      <th>height</th>\n",
              "      <th>width</th>\n",
              "    </tr>\n",
              "  </thead>\n",
              "  <tbody>\n",
              "    <tr>\n",
              "      <th>0</th>\n",
              "      <td>8.4</td>\n",
              "      <td>2.11</td>\n",
              "      <td>1.41</td>\n",
              "    </tr>\n",
              "    <tr>\n",
              "      <th>1</th>\n",
              "      <td>13.7</td>\n",
              "      <td>3.53</td>\n",
              "      <td>2.00</td>\n",
              "    </tr>\n",
              "    <tr>\n",
              "      <th>2</th>\n",
              "      <td>15.0</td>\n",
              "      <td>3.82</td>\n",
              "      <td>2.43</td>\n",
              "    </tr>\n",
              "    <tr>\n",
              "      <th>3</th>\n",
              "      <td>16.2</td>\n",
              "      <td>4.59</td>\n",
              "      <td>2.63</td>\n",
              "    </tr>\n",
              "    <tr>\n",
              "      <th>4</th>\n",
              "      <td>17.4</td>\n",
              "      <td>4.59</td>\n",
              "      <td>2.94</td>\n",
              "    </tr>\n",
              "  </tbody>\n",
              "</table>\n",
              "</div>\n",
              "      <button class=\"colab-df-convert\" onclick=\"convertToInteractive('df-7a327e6f-538e-481d-a5c3-21bae085b8c2')\"\n",
              "              title=\"Convert this dataframe to an interactive table.\"\n",
              "              style=\"display:none;\">\n",
              "        \n",
              "  <svg xmlns=\"http://www.w3.org/2000/svg\" height=\"24px\"viewBox=\"0 0 24 24\"\n",
              "       width=\"24px\">\n",
              "    <path d=\"M0 0h24v24H0V0z\" fill=\"none\"/>\n",
              "    <path d=\"M18.56 5.44l.94 2.06.94-2.06 2.06-.94-2.06-.94-.94-2.06-.94 2.06-2.06.94zm-11 1L8.5 8.5l.94-2.06 2.06-.94-2.06-.94L8.5 2.5l-.94 2.06-2.06.94zm10 10l.94 2.06.94-2.06 2.06-.94-2.06-.94-.94-2.06-.94 2.06-2.06.94z\"/><path d=\"M17.41 7.96l-1.37-1.37c-.4-.4-.92-.59-1.43-.59-.52 0-1.04.2-1.43.59L10.3 9.45l-7.72 7.72c-.78.78-.78 2.05 0 2.83L4 21.41c.39.39.9.59 1.41.59.51 0 1.02-.2 1.41-.59l7.78-7.78 2.81-2.81c.8-.78.8-2.07 0-2.86zM5.41 20L4 18.59l7.72-7.72 1.47 1.35L5.41 20z\"/>\n",
              "  </svg>\n",
              "      </button>\n",
              "      \n",
              "  <style>\n",
              "    .colab-df-container {\n",
              "      display:flex;\n",
              "      flex-wrap:wrap;\n",
              "      gap: 12px;\n",
              "    }\n",
              "\n",
              "    .colab-df-convert {\n",
              "      background-color: #E8F0FE;\n",
              "      border: none;\n",
              "      border-radius: 50%;\n",
              "      cursor: pointer;\n",
              "      display: none;\n",
              "      fill: #1967D2;\n",
              "      height: 32px;\n",
              "      padding: 0 0 0 0;\n",
              "      width: 32px;\n",
              "    }\n",
              "\n",
              "    .colab-df-convert:hover {\n",
              "      background-color: #E2EBFA;\n",
              "      box-shadow: 0px 1px 2px rgba(60, 64, 67, 0.3), 0px 1px 3px 1px rgba(60, 64, 67, 0.15);\n",
              "      fill: #174EA6;\n",
              "    }\n",
              "\n",
              "    [theme=dark] .colab-df-convert {\n",
              "      background-color: #3B4455;\n",
              "      fill: #D2E3FC;\n",
              "    }\n",
              "\n",
              "    [theme=dark] .colab-df-convert:hover {\n",
              "      background-color: #434B5C;\n",
              "      box-shadow: 0px 1px 3px 1px rgba(0, 0, 0, 0.15);\n",
              "      filter: drop-shadow(0px 1px 2px rgba(0, 0, 0, 0.3));\n",
              "      fill: #FFFFFF;\n",
              "    }\n",
              "  </style>\n",
              "\n",
              "      <script>\n",
              "        const buttonEl =\n",
              "          document.querySelector('#df-7a327e6f-538e-481d-a5c3-21bae085b8c2 button.colab-df-convert');\n",
              "        buttonEl.style.display =\n",
              "          google.colab.kernel.accessAllowed ? 'block' : 'none';\n",
              "\n",
              "        async function convertToInteractive(key) {\n",
              "          const element = document.querySelector('#df-7a327e6f-538e-481d-a5c3-21bae085b8c2');\n",
              "          const dataTable =\n",
              "            await google.colab.kernel.invokeFunction('convertToInteractive',\n",
              "                                                     [key], {});\n",
              "          if (!dataTable) return;\n",
              "\n",
              "          const docLinkHtml = 'Like what you see? Visit the ' +\n",
              "            '<a target=\"_blank\" href=https://colab.research.google.com/notebooks/data_table.ipynb>data table notebook</a>'\n",
              "            + ' to learn more about interactive tables.';\n",
              "          element.innerHTML = '';\n",
              "          dataTable['output_type'] = 'display_data';\n",
              "          await google.colab.output.renderOutput(dataTable, element);\n",
              "          const docLink = document.createElement('div');\n",
              "          docLink.innerHTML = docLinkHtml;\n",
              "          element.appendChild(docLink);\n",
              "        }\n",
              "      </script>\n",
              "    </div>\n",
              "  </div>\n",
              "  "
            ]
          },
          "metadata": {},
          "execution_count": 37
        }
      ]
    },
    {
      "cell_type": "code",
      "source": [
        "perch_full = df.to_numpy()\n",
        "perch_full[:5]"
      ],
      "metadata": {
        "colab": {
          "base_uri": "https://localhost:8080/"
        },
        "id": "jcXdysEVOMU5",
        "outputId": "f34b6cdb-cec6-45c1-c402-0903bcebd3f9"
      },
      "execution_count": null,
      "outputs": [
        {
          "output_type": "execute_result",
          "data": {
            "text/plain": [
              "array([[ 8.4 ,  2.11,  1.41],\n",
              "       [13.7 ,  3.53,  2.  ],\n",
              "       [15.  ,  3.82,  2.43],\n",
              "       [16.2 ,  4.59,  2.63],\n",
              "       [17.4 ,  4.59,  2.94]])"
            ]
          },
          "metadata": {},
          "execution_count": 38
        }
      ]
    },
    {
      "cell_type": "code",
      "source": [
        "perch_weight = np.array([5.9, 32.0, 40.0, 51.5, 70.0, 100.0, 78.0, 80.0, 85.0, 85.0, 110.0,\n",
        "       115.0, 125.0, 130.0, 120.0, 120.0, 130.0, 135.0, 110.0, 130.0,\n",
        "       150.0, 145.0, 150.0, 170.0, 225.0, 145.0, 188.0, 180.0, 197.0,\n",
        "       218.0, 300.0, 260.0, 265.0, 250.0, 250.0, 300.0, 320.0, 514.0,\n",
        "       556.0, 840.0, 685.0, 700.0, 700.0, 690.0, 900.0, 650.0, 820.0,\n",
        "       850.0, 900.0, 1015.0, 820.0, 1100.0, 1000.0, 1100.0, 1000.0,\n",
        "       1000.0])"
      ],
      "metadata": {
        "id": "dlC28ZXDOgJ7"
      },
      "execution_count": null,
      "outputs": []
    },
    {
      "cell_type": "code",
      "source": [
        "perch_full.shape, perch_weight.shape"
      ],
      "metadata": {
        "colab": {
          "base_uri": "https://localhost:8080/"
        },
        "id": "OZFgEprKOv0e",
        "outputId": "da03f69b-6e91-4d1b-ea28-0d5a2de3833c"
      },
      "execution_count": null,
      "outputs": [
        {
          "output_type": "execute_result",
          "data": {
            "text/plain": [
              "((56, 3), (56,))"
            ]
          },
          "metadata": {},
          "execution_count": 40
        }
      ]
    },
    {
      "cell_type": "code",
      "source": [
        "train_input, test_input, train_target, test_target = train_test_split(perch_full, perch_weight, random_state=42)"
      ],
      "metadata": {
        "id": "StDzONjSO33w"
      },
      "execution_count": null,
      "outputs": []
    },
    {
      "cell_type": "code",
      "source": [
        "train_input.shape, train_target.shape"
      ],
      "metadata": {
        "colab": {
          "base_uri": "https://localhost:8080/"
        },
        "id": "cTNqyiOqPPPi",
        "outputId": "cf048c7e-dfdb-4519-ad24-b838bd728a34"
      },
      "execution_count": null,
      "outputs": [
        {
          "output_type": "execute_result",
          "data": {
            "text/plain": [
              "((42, 3), (42,))"
            ]
          },
          "metadata": {},
          "execution_count": 42
        }
      ]
    },
    {
      "cell_type": "code",
      "source": [
        "test_input.shape, test_target.shape"
      ],
      "metadata": {
        "colab": {
          "base_uri": "https://localhost:8080/"
        },
        "id": "R_av8cADPUrT",
        "outputId": "6fa77971-5512-4518-c0bb-d64479319070"
      },
      "execution_count": null,
      "outputs": [
        {
          "output_type": "execute_result",
          "data": {
            "text/plain": [
              "((14, 3), (14,))"
            ]
          },
          "metadata": {},
          "execution_count": 43
        }
      ]
    },
    {
      "cell_type": "code",
      "source": [
        "poly = PolynomialFeatures(degree=2, include_bias=False)\n",
        "train_poly = poly.fit_transform(train_input)\n",
        "train_poly.shape"
      ],
      "metadata": {
        "colab": {
          "base_uri": "https://localhost:8080/"
        },
        "id": "xPdEmQYCPa8a",
        "outputId": "6f67028f-4e7e-4813-ff67-51137d3b5138"
      },
      "execution_count": null,
      "outputs": [
        {
          "output_type": "execute_result",
          "data": {
            "text/plain": [
              "(42, 9)"
            ]
          },
          "metadata": {},
          "execution_count": 44
        }
      ]
    },
    {
      "cell_type": "code",
      "source": [
        "poly.get_feature_names_out()"
      ],
      "metadata": {
        "colab": {
          "base_uri": "https://localhost:8080/"
        },
        "id": "U5YuvDu4TKdB",
        "outputId": "e82138a1-5895-4feb-d657-7540b72cf342"
      },
      "execution_count": null,
      "outputs": [
        {
          "output_type": "execute_result",
          "data": {
            "text/plain": [
              "array(['x0', 'x1', 'x2', 'x0^2', 'x0 x1', 'x0 x2', 'x1^2', 'x1 x2',\n",
              "       'x2^2'], dtype=object)"
            ]
          },
          "metadata": {},
          "execution_count": 45
        }
      ]
    },
    {
      "cell_type": "code",
      "source": [
        "df.info()"
      ],
      "metadata": {
        "colab": {
          "base_uri": "https://localhost:8080/"
        },
        "id": "-Xvo-GIKTVBZ",
        "outputId": "6e4c4cbb-829b-4bc0-c4a0-c7d307a63a27"
      },
      "execution_count": null,
      "outputs": [
        {
          "output_type": "stream",
          "name": "stdout",
          "text": [
            "<class 'pandas.core.frame.DataFrame'>\n",
            "RangeIndex: 56 entries, 0 to 55\n",
            "Data columns (total 3 columns):\n",
            " #   Column   Non-Null Count  Dtype  \n",
            "---  ------   --------------  -----  \n",
            " 0   length   56 non-null     float64\n",
            " 1    height  56 non-null     float64\n",
            " 2    width   56 non-null     float64\n",
            "dtypes: float64(3)\n",
            "memory usage: 1.4 KB\n"
          ]
        }
      ]
    },
    {
      "cell_type": "code",
      "source": [
        "test_poly = poly.transform(test_input)"
      ],
      "metadata": {
        "id": "AB8mcQYSTj5U"
      },
      "execution_count": null,
      "outputs": []
    },
    {
      "cell_type": "code",
      "source": [
        "test_poly.shape"
      ],
      "metadata": {
        "colab": {
          "base_uri": "https://localhost:8080/"
        },
        "id": "wvciAv8ZTq9x",
        "outputId": "0ec56288-e227-4d89-cb9c-3d2289f86ce0"
      },
      "execution_count": null,
      "outputs": [
        {
          "output_type": "execute_result",
          "data": {
            "text/plain": [
              "(14, 9)"
            ]
          },
          "metadata": {},
          "execution_count": 48
        }
      ]
    },
    {
      "cell_type": "code",
      "source": [
        "lr = LinearRegression()\n",
        "lr.fit(train_poly, train_target)"
      ],
      "metadata": {
        "colab": {
          "base_uri": "https://localhost:8080/"
        },
        "id": "D4BJPw9dTuCx",
        "outputId": "178f7305-a7eb-43bf-adc3-2ed58a196c07"
      },
      "execution_count": null,
      "outputs": [
        {
          "output_type": "execute_result",
          "data": {
            "text/plain": [
              "LinearRegression()"
            ]
          },
          "metadata": {},
          "execution_count": 49
        }
      ]
    },
    {
      "cell_type": "code",
      "source": [
        "r2_score(train_target, lr.predict(train_poly))"
      ],
      "metadata": {
        "colab": {
          "base_uri": "https://localhost:8080/"
        },
        "id": "UsXS3Br7UEIg",
        "outputId": "b2764367-b870-4b82-a8a9-14bc5ea0d0de"
      },
      "execution_count": null,
      "outputs": [
        {
          "output_type": "execute_result",
          "data": {
            "text/plain": [
              "0.9903183436982124"
            ]
          },
          "metadata": {},
          "execution_count": 50
        }
      ]
    },
    {
      "cell_type": "code",
      "source": [
        "r2_score(test_target, lr.predict(test_poly))"
      ],
      "metadata": {
        "colab": {
          "base_uri": "https://localhost:8080/"
        },
        "id": "1-EUoPPeURZ0",
        "outputId": "0ea932ce-7dca-4dd0-a7fd-dbd64f021ea5"
      },
      "execution_count": null,
      "outputs": [
        {
          "output_type": "execute_result",
          "data": {
            "text/plain": [
              "0.9714559911594134"
            ]
          },
          "metadata": {},
          "execution_count": 51
        }
      ]
    },
    {
      "cell_type": "code",
      "source": [
        "for n in range(1, 6):\n",
        "  poly = PolynomialFeatures(degree=n, include_bias=False)\n",
        "  train_poly = poly.fit_transform(train_input)\n",
        "  test_poly = poly.transform(test_input)\n",
        "  lr = LinearRegression()\n",
        "  lr.fit(train_poly, train_target)\n",
        "  print(f\"degree:{n}, feature #: {train_poly.shape[1]}\")\n",
        "  print(f\"train score: {r2_score(train_target, lr.predict(train_poly))}\")\n",
        "  print(f\"test score: {r2_score(test_target, lr.predict(test_poly))}\", end='\\n\\n')"
      ],
      "metadata": {
        "colab": {
          "base_uri": "https://localhost:8080/"
        },
        "id": "tAX_hqw_Xijl",
        "outputId": "de5785fc-6d1f-47f2-d326-c8f337184d8c"
      },
      "execution_count": null,
      "outputs": [
        {
          "output_type": "stream",
          "name": "stdout",
          "text": [
            "degree:1, feature #: 3\n",
            "train score: 0.9559326821885706\n",
            "test score: 0.8796419177546367\n",
            "\n",
            "degree:2, feature #: 9\n",
            "train score: 0.9903183436982124\n",
            "test score: 0.9714559911594134\n",
            "\n",
            "degree:3, feature #: 19\n",
            "train score: 0.99638723409801\n",
            "test score: 0.9410534492233222\n",
            "\n",
            "degree:4, feature #: 34\n",
            "train score: 0.9995286898074609\n",
            "test score: -6.7866969165723585\n",
            "\n",
            "degree:5, feature #: 55\n",
            "train score: 0.9999999999991097\n",
            "test score: -144.40579242684848\n",
            "\n"
          ]
        }
      ]
    },
    {
      "cell_type": "code",
      "source": [
        "poly = PolynomialFeatures(degree=3, include_bias=True)\n",
        "train_poly = poly.fit_transform(train_input)\n",
        "poly.get_feature_names_out()"
      ],
      "metadata": {
        "colab": {
          "base_uri": "https://localhost:8080/"
        },
        "id": "VbQV8UiVctjC",
        "outputId": "05e28be9-881d-4a52-a935-fd292ff3f977"
      },
      "execution_count": null,
      "outputs": [
        {
          "output_type": "execute_result",
          "data": {
            "text/plain": [
              "array(['1', 'x0', 'x1', 'x2', 'x0^2', 'x0 x1', 'x0 x2', 'x1^2', 'x1 x2',\n",
              "       'x2^2', 'x0^3', 'x0^2 x1', 'x0^2 x2', 'x0 x1^2', 'x0 x1 x2',\n",
              "       'x0 x2^2', 'x1^3', 'x1^2 x2', 'x1 x2^2', 'x2^3'], dtype=object)"
            ]
          },
          "metadata": {},
          "execution_count": 132
        }
      ]
    },
    {
      "cell_type": "code",
      "source": [
        "train_poly.shape, test_poly.shape"
      ],
      "metadata": {
        "id": "y7Fgj3vBYV42",
        "colab": {
          "base_uri": "https://localhost:8080/"
        },
        "outputId": "ac1e511e-a584-4e14-d5ce-dd946abaf9d2"
      },
      "execution_count": null,
      "outputs": [
        {
          "output_type": "execute_result",
          "data": {
            "text/plain": [
              "((42, 55), (14, 55))"
            ]
          },
          "metadata": {},
          "execution_count": 55
        }
      ]
    },
    {
      "cell_type": "code",
      "source": [
        "from sklearn.preprocessing import StandardScaler\n",
        "\n",
        "ss = StandardScaler()\n",
        "ss.fit(train_poly)\n",
        "train_scaled = ss.transform(train_poly)\n",
        "test_scaled = ss.transform(test_poly)"
      ],
      "metadata": {
        "id": "uNLPt2k4FBzK"
      },
      "execution_count": null,
      "outputs": []
    },
    {
      "cell_type": "code",
      "source": [
        "ss.mean_"
      ],
      "metadata": {
        "colab": {
          "base_uri": "https://localhost:8080/"
        },
        "id": "w3bbhXowJmNU",
        "outputId": "7d1989ce-b44a-4eed-c840-d04359a8be7c"
      },
      "execution_count": null,
      "outputs": [
        {
          "output_type": "execute_result",
          "data": {
            "text/plain": [
              "array([2.84452381e+01, 8.04238095e+00, 4.82047619e+00, 8.85315000e+02,\n",
              "       2.53486881e+02, 1.51959000e+02, 7.29365000e+01, 4.36999452e+01,\n",
              "       2.62868381e+01, 2.97326070e+04, 8.59817581e+03, 5.15200651e+03,\n",
              "       2.49680043e+03, 1.49567194e+03, 8.99184494e+02, 7.27945149e+02,\n",
              "       4.36019840e+02, 2.62115117e+02, 1.58141990e+02, 1.05917983e+06,\n",
              "       3.08429517e+05, 1.84644673e+05, 9.01239554e+04, 5.39478286e+04,\n",
              "       3.23998082e+04, 2.64224658e+04, 1.58167367e+04, 9.49991053e+03,\n",
              "       5.72489005e+03, 7.77162422e+03, 4.65285399e+03, 2.79521756e+03,\n",
              "       1.68494739e+03, 1.01911272e+03, 3.93876111e+07, 1.15192532e+07,\n",
              "       6.88842737e+06, 3.37865413e+06, 2.02034307e+06, 1.21184517e+06,\n",
              "       9.93774754e+05, 5.94291271e+05, 3.56516573e+05, 2.14541208e+05,\n",
              "       2.93110780e+05, 1.75313851e+05, 1.05196649e+05, 6.33244641e+04,\n",
              "       3.82394901e+04, 8.66870097e+04, 5.18625239e+04, 3.11308026e+04,\n",
              "       1.87477065e+04, 1.13270112e+04, 6.86569419e+03])"
            ]
          },
          "metadata": {},
          "execution_count": 58
        }
      ]
    },
    {
      "cell_type": "code",
      "source": [
        "ss.scale_"
      ],
      "metadata": {
        "colab": {
          "base_uri": "https://localhost:8080/"
        },
        "id": "Zv-ncF5SJshL",
        "outputId": "87434c6a-f2af-4582-f093-09ac15046bf2"
      },
      "execution_count": null,
      "outputs": [
        {
          "output_type": "execute_result",
          "data": {
            "text/plain": [
              "array([8.72831196e+00, 2.87343151e+00, 1.74638123e+00, 5.24782988e+02,\n",
              "       1.60836428e+02, 9.64793789e+01, 4.95165749e+01, 2.97578956e+01,\n",
              "       1.81139412e+01, 2.50155373e+04, 7.49275582e+03, 4.47153009e+03,\n",
              "       2.25433695e+03, 1.34683566e+03, 8.11988865e+02, 6.81265335e+02,\n",
              "       4.07639942e+02, 2.46263218e+02, 1.50164227e+02, 1.10854579e+06,\n",
              "       3.28247889e+05, 1.95342267e+05, 9.76153931e+04, 5.81064317e+04,\n",
              "       3.48472685e+04, 2.91591483e+04, 1.73674986e+04, 1.04273041e+04,\n",
              "       6.30922253e+03, 8.75059964e+03, 5.21694989e+03, 3.13701782e+03,\n",
              "       1.90225250e+03, 1.16311955e+03, 4.77814865e+07, 1.40483165e+07,\n",
              "       8.34702250e+06, 4.14736151e+06, 2.46313653e+06, 1.47240427e+06,\n",
              "       1.22970655e+06, 7.30196641e+05, 4.36628701e+05, 2.62841007e+05,\n",
              "       3.66270535e+05, 2.17518714e+05, 1.30152823e+05, 7.84482709e+04,\n",
              "       4.76246733e+04, 1.09609367e+05, 6.51258832e+04, 3.90090183e+04,\n",
              "       2.35520992e+04, 1.43325296e+04, 8.79122582e+03])"
            ]
          },
          "metadata": {},
          "execution_count": 59
        }
      ]
    },
    {
      "cell_type": "code",
      "source": [
        "lr = LinearRegression()\n",
        "lr.fit(train_scaled, train_target)"
      ],
      "metadata": {
        "colab": {
          "base_uri": "https://localhost:8080/"
        },
        "id": "2M1yVJNcLLc0",
        "outputId": "d1ca442b-0b79-4915-d025-16069dad146a"
      },
      "execution_count": null,
      "outputs": [
        {
          "output_type": "execute_result",
          "data": {
            "text/plain": [
              "LinearRegression()"
            ]
          },
          "metadata": {},
          "execution_count": 69
        }
      ]
    },
    {
      "cell_type": "code",
      "source": [
        "r2_score(train_target, lr.predict(train_scaled))"
      ],
      "metadata": {
        "colab": {
          "base_uri": "https://localhost:8080/"
        },
        "id": "W8W8vsOaLWJ5",
        "outputId": "120c59b7-da84-4e30-ad3f-6ae71b10e352"
      },
      "execution_count": null,
      "outputs": [
        {
          "output_type": "execute_result",
          "data": {
            "text/plain": [
              "1.0"
            ]
          },
          "metadata": {},
          "execution_count": 70
        }
      ]
    },
    {
      "cell_type": "code",
      "source": [
        "r2_score(test_target, lr.predict(test_scaled))"
      ],
      "metadata": {
        "colab": {
          "base_uri": "https://localhost:8080/"
        },
        "id": "Vn9kjeKgLcuM",
        "outputId": "6fb6fa13-babb-4141-a59d-f7e8241b8449"
      },
      "execution_count": null,
      "outputs": [
        {
          "output_type": "execute_result",
          "data": {
            "text/plain": [
              "-358.8506853796187"
            ]
          },
          "metadata": {},
          "execution_count": 71
        }
      ]
    },
    {
      "cell_type": "code",
      "source": [
        "from sklearn.linear_model import Ridge\n",
        "\n",
        "ridge = Ridge()\n",
        "ridge.fit(train_scaled, train_target)"
      ],
      "metadata": {
        "colab": {
          "base_uri": "https://localhost:8080/"
        },
        "id": "vxDMCQdRJuqp",
        "outputId": "8fff6ad4-6871-4601-ddab-fad2ee3f8bb6"
      },
      "execution_count": null,
      "outputs": [
        {
          "output_type": "execute_result",
          "data": {
            "text/plain": [
              "Ridge()"
            ]
          },
          "metadata": {},
          "execution_count": 94
        }
      ]
    },
    {
      "cell_type": "code",
      "source": [
        "r2_score(train_target, ridge.predict(train_scaled))"
      ],
      "metadata": {
        "colab": {
          "base_uri": "https://localhost:8080/"
        },
        "id": "dUPXQ8JnKUmo",
        "outputId": "84f636a1-7443-4760-b22b-05147bbc3591"
      },
      "execution_count": null,
      "outputs": [
        {
          "output_type": "execute_result",
          "data": {
            "text/plain": [
              "0.9896101671037343"
            ]
          },
          "metadata": {},
          "execution_count": 95
        }
      ]
    },
    {
      "cell_type": "code",
      "source": [
        "r2_score(test_target, ridge.predict(test_scaled))"
      ],
      "metadata": {
        "colab": {
          "base_uri": "https://localhost:8080/"
        },
        "id": "kvqYiokSKekS",
        "outputId": "c34b3d2c-9392-42ce-d3e2-c6364af570cc"
      },
      "execution_count": null,
      "outputs": [
        {
          "output_type": "execute_result",
          "data": {
            "text/plain": [
              "0.9790693977615397"
            ]
          },
          "metadata": {},
          "execution_count": 96
        }
      ]
    },
    {
      "cell_type": "code",
      "source": [
        "lr.coef_"
      ],
      "metadata": {
        "colab": {
          "base_uri": "https://localhost:8080/"
        },
        "id": "4DM5rvD6LwXx",
        "outputId": "0cb7dffd-e41a-48a6-91e7-c6c05f4c957f"
      },
      "execution_count": null,
      "outputs": [
        {
          "output_type": "execute_result",
          "data": {
            "text/plain": [
              "array([  -589630.50428447,     58882.34449311,    292479.57220569,\n",
              "         3614696.48183834,   2676387.94458053,  -4179338.7118309 ,\n",
              "         1913385.13240721,  -7462398.38874816,   4644311.56635455,\n",
              "         1112036.40063036, -36636084.40704209,   8265194.27847045,\n",
              "        10957185.7716744 ,  44560029.60290789, -18234640.43180184,\n",
              "       -10575138.75195673,   7800352.53410549, -11116646.20387272,\n",
              "         1508213.91493181,  -2366902.47430755,  32780599.62901321,\n",
              "        -7086928.93940954,   6162417.45209817, -21442493.36766405,\n",
              "          958974.60150296,  -6479999.54642182, -16087564.32770296,\n",
              "       -24612356.30649251,  26477275.88086192,  10193063.18979406,\n",
              "        -2161671.1629998 ,  -1494715.38324746,  18751463.74649596,\n",
              "       -11464734.56767054, -16778724.35123863,  21634520.1576195 ,\n",
              "        17961770.29534124, -15580796.05500649,  -3698271.65887825,\n",
              "         1658671.24075859, -22830889.42507457,   4544534.09448044,\n",
              "       -20028333.07968798,  -7658878.67744021,  12298552.83310884,\n",
              "        34365168.26777319,  14317535.96215844,  -3335164.14660978,\n",
              "         5353004.85056026,  -4052599.80038408,  -8063367.16075862,\n",
              "       -10439619.82763055,  -4841214.01050928,   9446024.88276841,\n",
              "        -5007408.35314738])"
            ]
          },
          "metadata": {},
          "execution_count": 97
        }
      ]
    },
    {
      "cell_type": "code",
      "source": [
        "ridge.coef_"
      ],
      "metadata": {
        "colab": {
          "base_uri": "https://localhost:8080/"
        },
        "id": "J_RmBAlbMUWA",
        "outputId": "a2738f31-0cb8-4139-ed0c-008e132e07a4"
      },
      "execution_count": null,
      "outputs": [
        {
          "output_type": "execute_result",
          "data": {
            "text/plain": [
              "array([18.75202605,  9.99048537,  9.64586193, 17.278557  , 14.42089598,\n",
              "       12.69251285, 12.34283964, 10.88252862, 12.55963482, 12.93825844,\n",
              "       12.67925897,  9.12136175, 12.49327194,  9.02641662,  8.39716922,\n",
              "       12.21409663,  8.99564455,  8.85968975, 11.68602892,  7.48294042,\n",
              "        8.98610839,  3.37199818, 10.27381252,  4.61786228,  1.60700275,\n",
              "       11.21975321,  5.66171476,  2.9808368 ,  3.17359806, 11.72544455,\n",
              "        6.40554378,  4.19129005,  5.06384222,  8.89201309,  1.89344091,\n",
              "        4.81186299, -2.91832747,  7.38733861, -0.51038117, -5.91335297,\n",
              "        9.5029666 ,  1.56464851, -3.66645267, -6.13031213, 11.06068777,\n",
              "        3.21356622, -1.71089861, -3.65107495, -2.63704498, 11.98418393,\n",
              "        4.3636902 , -0.11776857, -1.40420516,  0.45174316,  5.29453248])"
            ]
          },
          "metadata": {},
          "execution_count": 98
        }
      ]
    },
    {
      "cell_type": "code",
      "source": [
        "for n in [0.001, 0.01, 0.1, 1, 10, 100, 1000]:\n",
        "  ridge = Ridge(alpha=n)\n",
        "  ridge.fit(train_scaled, train_target)\n",
        "  print(f\"alpha:{n}\")\n",
        "  print(f\"train score: {r2_score(train_target, ridge.predict(train_scaled))}\")\n",
        "  print(f\"test score: {r2_score(test_target, ridge.predict(test_scaled))}\", end='\\n\\n')"
      ],
      "metadata": {
        "colab": {
          "base_uri": "https://localhost:8080/"
        },
        "id": "ik2nYuY0MXMg",
        "outputId": "503eb514-f002-42f1-d6fa-9847d091bb3f"
      },
      "execution_count": null,
      "outputs": [
        {
          "output_type": "stream",
          "name": "stdout",
          "text": [
            "alpha:0.001\n",
            "train score: 0.9930455252088191\n",
            "test score: 0.9569388961556926\n",
            "\n",
            "alpha:0.01\n",
            "train score: 0.9917809981250538\n",
            "test score: 0.9800187936873143\n",
            "\n",
            "alpha:0.1\n",
            "train score: 0.9903815817570366\n",
            "test score: 0.9827976465386926\n",
            "\n",
            "alpha:1\n",
            "train score: 0.9896101671037343\n",
            "test score: 0.9790693977615397\n",
            "\n",
            "alpha:10\n",
            "train score: 0.988728468997471\n",
            "test score: 0.9725329582461569\n",
            "\n",
            "alpha:100\n",
            "train score: 0.9841843235774494\n",
            "test score: 0.9627042641050291\n",
            "\n",
            "alpha:1000\n",
            "train score: 0.8918186303757933\n",
            "test score: 0.8980712146634267\n",
            "\n"
          ]
        }
      ]
    },
    {
      "cell_type": "code",
      "source": [
        "train_score, test_score = [], []\n",
        "alphas = [0.001, 0.01, 0.1, 1, 10, 100, 1000]\n",
        "for n in alphas:\n",
        "  ridge = Ridge(alpha=n)\n",
        "  ridge.fit(train_scaled, train_target)\n",
        "  train_score.append(r2_score(train_target, ridge.predict(train_scaled)))\n",
        "  test_score.append(r2_score(test_target, ridge.predict(test_scaled)))"
      ],
      "metadata": {
        "id": "TzejwHMoQEyQ"
      },
      "execution_count": null,
      "outputs": []
    },
    {
      "cell_type": "code",
      "source": [
        "plt.plot(np.log10(alphas), train_score)\n",
        "plt.plot(np.log10(alphas), test_score)\n",
        "plt.xlabel('log10(alpha)')\n",
        "plt.ylabel('score')\n",
        "plt.show()"
      ],
      "metadata": {
        "colab": {
          "base_uri": "https://localhost:8080/",
          "height": 279
        },
        "id": "Uaa5GH4VROhQ",
        "outputId": "75928578-d189-44e9-925e-e3ecf0e93a9c"
      },
      "execution_count": null,
      "outputs": [
        {
          "output_type": "display_data",
          "data": {
            "text/plain": [
              "<Figure size 432x288 with 1 Axes>"
            ],
            "image/png": "[encoded data removed]"
          },
          "metadata": {
            "needs_background": "light"
          }
        }
      ]
    },
    {
      "cell_type": "code",
      "source": [
        "from sklearn.linear_model import Lasso\n",
        "\n",
        "lasso = Lasso()\n",
        "lasso.fit(train_scaled, train_target)"
      ],
      "metadata": {
        "colab": {
          "base_uri": "https://localhost:8080/"
        },
        "id": "vmGddVrtRlXW",
        "outputId": "ad7bf968-b835-495c-f56d-b89c02dd4759"
      },
      "execution_count": null,
      "outputs": [
        {
          "output_type": "execute_result",
          "data": {
            "text/plain": [
              "Lasso()"
            ]
          },
          "metadata": {},
          "execution_count": 107
        }
      ]
    },
    {
      "cell_type": "code",
      "source": [
        "r2_score(train_target, lasso.predict(train_scaled))"
      ],
      "metadata": {
        "colab": {
          "base_uri": "https://localhost:8080/"
        },
        "id": "ziOUDzfyT0lA",
        "outputId": "e269a7fc-1b0e-4d99-ffc9-210b39870930"
      },
      "execution_count": null,
      "outputs": [
        {
          "output_type": "execute_result",
          "data": {
            "text/plain": [
              "0.989789897208096"
            ]
          },
          "metadata": {},
          "execution_count": 108
        }
      ]
    },
    {
      "cell_type": "code",
      "source": [
        "r2_score(test_target, lasso.predict(test_scaled))"
      ],
      "metadata": {
        "colab": {
          "base_uri": "https://localhost:8080/"
        },
        "id": "XwTm9nCvT-5w",
        "outputId": "032cf87e-0c30-4b75-ac76-c08867be9388"
      },
      "execution_count": null,
      "outputs": [
        {
          "output_type": "execute_result",
          "data": {
            "text/plain": [
              "0.9800593698421883"
            ]
          },
          "metadata": {},
          "execution_count": 109
        }
      ]
    },
    {
      "cell_type": "code",
      "source": [
        "import warnings\n",
        "\n",
        "warnings.filterwarnings(action='ignore')"
      ],
      "metadata": {
        "id": "c2PX5IqIXgR1"
      },
      "execution_count": null,
      "outputs": []
    },
    {
      "cell_type": "code",
      "source": [
        "alphas = [0.001, 0.01, 0.1, 10, 100]\n",
        "for n in alphas:\n",
        "  lasso = Lasso(alpha=n)\n",
        "  lasso.fit(train_scaled, train_target)\n",
        "  print(f\"alpha:{n}\")\n",
        "  print(f\"train score: {r2_score(train_target, lasso.predict(train_scaled))}\")\n",
        "  print(f\"test score: {r2_score(test_target, lasso.predict(test_scaled))}\", end='\\n\\n')"
      ],
      "metadata": {
        "colab": {
          "base_uri": "https://localhost:8080/"
        },
        "id": "X08FxGQiUJf_",
        "outputId": "0fa24af7-810b-4a44-80cf-295f5a232304"
      },
      "execution_count": null,
      "outputs": [
        {
          "output_type": "stream",
          "name": "stdout",
          "text": [
            "alpha:0.001\n",
            "train score: 0.990856843502147\n",
            "test score: 0.9836870822242811\n",
            "\n",
            "alpha:0.01\n",
            "train score: 0.9907921500205304\n",
            "test score: 0.9836730006301534\n",
            "\n",
            "alpha:0.1\n",
            "train score: 0.990137631128448\n",
            "test score: 0.9819405116249363\n",
            "\n",
            "alpha:10\n",
            "train score: 0.9888067471131867\n",
            "test score: 0.9824470598706695\n",
            "\n",
            "alpha:100\n",
            "train score: 0.9078632190121442\n",
            "test score: 0.9089071866576974\n",
            "\n"
          ]
        }
      ]
    },
    {
      "cell_type": "code",
      "source": [
        "lasso.alpha"
      ],
      "metadata": {
        "colab": {
          "base_uri": "https://localhost:8080/"
        },
        "id": "D-iiE9Y_USNJ",
        "outputId": "0c32bf5a-9dbc-4ab5-8c5f-d4db528dc8d6"
      },
      "execution_count": null,
      "outputs": [
        {
          "output_type": "execute_result",
          "data": {
            "text/plain": [
              "100"
            ]
          },
          "metadata": {},
          "execution_count": 117
        }
      ]
    },
    {
      "cell_type": "code",
      "source": [
        "lasso.coef_"
      ],
      "metadata": {
        "colab": {
          "base_uri": "https://localhost:8080/"
        },
        "id": "oX1H6Ys6YKoh",
        "outputId": "e93cfaf7-aec9-470f-9d27-ff222c96adf0"
      },
      "execution_count": null,
      "outputs": [
        {
          "output_type": "execute_result",
          "data": {
            "text/plain": [
              "array([  0.        ,   0.        ,   0.        ,   0.        ,\n",
              "         0.50261219,   0.        ,   0.        ,   0.        ,\n",
              "         0.        ,   0.        ,   0.        ,   0.        ,\n",
              "        81.7197224 , 167.24554985,   0.        ,   0.        ,\n",
              "         0.        ,   0.        ,   0.        ,   0.        ,\n",
              "         0.        ,   0.        ,   0.        ,   0.        ,\n",
              "         0.        ,   0.        ,   0.        ,   0.        ,\n",
              "         0.        ,   0.        ,   0.        ,   0.        ,\n",
              "         0.        ,   0.        ,   0.        ,   0.        ,\n",
              "         0.        ,   0.        ,   0.        ,   0.        ,\n",
              "         0.        ,   0.        ,   0.        ,   0.        ,\n",
              "         0.        ,   0.        ,   0.        ,   0.        ,\n",
              "         0.        ,   0.        ,   0.        ,   0.        ,\n",
              "         0.        ,   0.        ,   0.        ])"
            ]
          },
          "metadata": {},
          "execution_count": 118
        }
      ]
    },
    {
      "cell_type": "code",
      "source": [
        "train_score, test_score = [], []\n",
        "alphas = [0.001, 0.01, 0.1, 1, 10, 100]\n",
        "for n in alphas:\n",
        "  lasso = Lasso(alpha=n)\n",
        "  lasso.fit(train_scaled, train_target)\n",
        "  train_score.append(r2_score(train_target, lasso.predict(train_scaled)))\n",
        "  test_score.append(r2_score(test_target, lasso.predict(test_scaled)))"
      ],
      "metadata": {
        "id": "sNCKpsZrZUr_"
      },
      "execution_count": null,
      "outputs": []
    },
    {
      "cell_type": "code",
      "source": [
        "plt.plot(np.log10(alphas), train_score)\n",
        "plt.plot(np.log10(alphas), test_score)\n",
        "plt.xlabel('log10(alpha)')\n",
        "plt.ylabel('score')\n",
        "plt.show()"
      ],
      "metadata": {
        "colab": {
          "base_uri": "https://localhost:8080/",
          "height": 279
        },
        "id": "slXwI0yGYMs2",
        "outputId": "e7ba7871-845e-47b5-dd9f-e6859e29acca"
      },
      "execution_count": null,
      "outputs": [
        {
          "output_type": "display_data",
          "data": {
            "text/plain": [
              "<Figure size 432x288 with 1 Axes>"
            ],
            "image/png": "[encoded data removed]"
          },
          "metadata": {
            "needs_background": "light"
          }
        }
      ]
    },
    {
      "cell_type": "code",
      "source": [
        "np.sum(lasso.coef_ == 0)"
      ],
      "metadata": {
        "colab": {
          "base_uri": "https://localhost:8080/"
        },
        "id": "YEvFa0VlZc3H",
        "outputId": "1421cd2a-9f49-4030-c515-462b3a414e78"
      },
      "execution_count": null,
      "outputs": [
        {
          "output_type": "execute_result",
          "data": {
            "text/plain": [
              "52"
            ]
          },
          "metadata": {},
          "execution_count": 122
        }
      ]
    },
    {
      "cell_type": "code",
      "source": [
        "poly.get_feature_names_out()"
      ],
      "metadata": {
        "colab": {
          "base_uri": "https://localhost:8080/"
        },
        "id": "v1Nu84BUZoqY",
        "outputId": "ea523519-3d12-440f-afd9-d4e2386c62f3"
      },
      "execution_count": null,
      "outputs": [
        {
          "output_type": "execute_result",
          "data": {
            "text/plain": [
              "array(['x0', 'x1', 'x2', 'x0^2', 'x0 x1', 'x0 x2', 'x1^2', 'x1 x2',\n",
              "       'x2^2', 'x0^3', 'x0^2 x1', 'x0^2 x2', 'x0 x1^2', 'x0 x1 x2',\n",
              "       'x0 x2^2', 'x1^3', 'x1^2 x2', 'x1 x2^2', 'x2^3', 'x0^4', 'x0^3 x1',\n",
              "       'x0^3 x2', 'x0^2 x1^2', 'x0^2 x1 x2', 'x0^2 x2^2', 'x0 x1^3',\n",
              "       'x0 x1^2 x2', 'x0 x1 x2^2', 'x0 x2^3', 'x1^4', 'x1^3 x2',\n",
              "       'x1^2 x2^2', 'x1 x2^3', 'x2^4', 'x0^5', 'x0^4 x1', 'x0^4 x2',\n",
              "       'x0^3 x1^2', 'x0^3 x1 x2', 'x0^3 x2^2', 'x0^2 x1^3',\n",
              "       'x0^2 x1^2 x2', 'x0^2 x1 x2^2', 'x0^2 x2^3', 'x0 x1^4',\n",
              "       'x0 x1^3 x2', 'x0 x1^2 x2^2', 'x0 x1 x2^3', 'x0 x2^4', 'x1^5',\n",
              "       'x1^4 x2', 'x1^3 x2^2', 'x1^2 x2^3', 'x1 x2^4', 'x2^5'],\n",
              "      dtype=object)"
            ]
          },
          "metadata": {},
          "execution_count": 125
        }
      ]
    },
    {
      "cell_type": "code",
      "source": [
        "lasso.coef_ != 0"
      ],
      "metadata": {
        "colab": {
          "base_uri": "https://localhost:8080/"
        },
        "id": "6CtgNgakaVDP",
        "outputId": "57dc6f20-baf7-4d7b-e7f7-c0fa0a6ee210"
      },
      "execution_count": null,
      "outputs": [
        {
          "output_type": "execute_result",
          "data": {
            "text/plain": [
              "array([False, False, False, False,  True, False, False, False, False,\n",
              "       False, False, False,  True,  True, False, False, False, False,\n",
              "       False, False, False, False, False, False, False, False, False,\n",
              "       False, False, False, False, False, False, False, False, False,\n",
              "       False, False, False, False, False, False, False, False, False,\n",
              "       False, False, False, False, False, False, False, False, False,\n",
              "       False])"
            ]
          },
          "metadata": {},
          "execution_count": 128
        }
      ]
    },
    {
      "cell_type": "code",
      "source": [
        "poly.get_feature_names_out()[lasso.coef_ != 0]"
      ],
      "metadata": {
        "colab": {
          "base_uri": "https://localhost:8080/"
        },
        "id": "ggQvSXP6aafX",
        "outputId": "47006edc-1967-4990-9ade-9bdae1d3108c"
      },
      "execution_count": null,
      "outputs": [
        {
          "output_type": "execute_result",
          "data": {
            "text/plain": [
              "array(['x0 x1', 'x0 x1^2', 'x0 x1 x2'], dtype=object)"
            ]
          },
          "metadata": {},
          "execution_count": 129
        }
      ]
    },
    {
      "cell_type": "code",
      "source": [
        ""
      ],
      "metadata": {
        "id": "jklB8BMRa6tv"
      },
      "execution_count": null,
      "outputs": []
    }
  ]
}